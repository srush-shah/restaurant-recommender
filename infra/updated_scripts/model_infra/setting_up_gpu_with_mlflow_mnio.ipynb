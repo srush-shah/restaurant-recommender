{
 "cells": [
  {
   "cell_type": "code",
   "execution_count": 51,
   "id": "157df36f-694c-42a9-a7a3-ac51fdc9f4ab",
   "metadata": {
    "tags": []
   },
   "outputs": [
    {
     "data": {
      "application/vnd.jupyter.widget-view+json": {
       "model_id": "19c65117767c454f859fbf79afe2a52f",
       "version_major": 2,
       "version_minor": 0
      },
      "text/plain": [
       "VBox(children=(Dropdown(description='Select Project', options=('CHI-251409',), value='CHI-251409'), Output()))"
      ]
     },
     "metadata": {},
     "output_type": "display_data"
    },
    {
     "data": {
      "application/vnd.jupyter.widget-view+json": {
       "model_id": "32ba333af3154fe190e41e4a088ed5aa",
       "version_major": 2,
       "version_minor": 0
      },
      "text/plain": [
       "VBox(children=(Dropdown(description='Select Site', options=('CHI@TACC', 'CHI@UC', 'CHI@EVL', 'CHI@NCAR', 'CHI@…"
      ]
     },
     "metadata": {},
     "output_type": "display_data"
    }
   ],
   "source": [
    "from chi import server, context, lease\n",
    "import os\n",
    "\n",
    "context.version = \"1.0\" \n",
    "context.choose_project()\n",
    "context.choose_site(default=\"CHI@TACC\")"
   ]
  },
  {
   "cell_type": "code",
   "execution_count": 52,
   "id": "441d4fdf-e945-481a-a153-23370838cd4a",
   "metadata": {
    "tags": []
   },
   "outputs": [],
   "source": [
    "username = \"project23\""
   ]
  },
  {
   "cell_type": "code",
   "execution_count": 53,
   "id": "fcdc4376-3508-4c89-bdb5-70891bb7c720",
   "metadata": {
    "tags": []
   },
   "outputs": [
    {
     "data": {
      "application/vnd.jupyter.widget-view+json": {
       "model_id": "b7f9ba3cc432467db0072c88762f559e",
       "version_major": 2,
       "version_minor": 0
      },
      "text/plain": [
       "HTML(value='\\n        <h2>Lease Details</h2>\\n        <table>\\n            <tr><th>Name</th><td>lease_dcntrain…"
      ]
     },
     "metadata": {},
     "output_type": "display_data"
    },
    {
     "name": "stdout",
     "output_type": "stream",
     "text": [
      "Lease Details:\n",
      "Name: lease_dcntrain_project23\n",
      "ID: ee9c747a-d491-4608-80cb-d82922dbada0\n",
      "Status: ACTIVE\n",
      "Start Date: 2025-05-11 02:06:00\n",
      "End Date: 2025-05-11 04:00:00\n",
      "User ID: c495f8fbc5ff34dcf96330f5a5cbcab405c36f412a70d287cbcfdfd8dc145280\n",
      "Project ID: d3c6e101843a4ba79e665ebf59b521a2\n",
      "\n",
      "Node Reservations:\n",
      "ID: 342fb02f-6951-4a2c-9489-7da6de1c6c50, Status: active, Min: 1, Max: 1\n",
      "\n",
      "Floating IP Reservations:\n",
      "\n",
      "Network Reservations:\n",
      "\n",
      "Events:\n"
     ]
    }
   ],
   "source": [
    "l = lease.get_lease(f\"lease_dcntrain_project23\") #llm_single_project23\n",
    "l.show()"
   ]
  },
  {
   "cell_type": "code",
   "execution_count": 54,
   "id": "afd44c7b-3822-4b50-bd53-b31f9effce36",
   "metadata": {
    "tags": []
   },
   "outputs": [
    {
     "name": "stdout",
     "output_type": "stream",
     "text": [
      "Waiting for server node-dcntrain-project23's status to become ACTIVE. This typically takes 10 minutes, but can take up to 20 minutes.\n"
     ]
    },
    {
     "data": {
      "application/vnd.jupyter.widget-view+json": {
       "model_id": "5b983446a29f420ebfdee98ad1136573",
       "version_major": 2,
       "version_minor": 0
      },
      "text/plain": [
       "HBox(children=(Label(value=''), IntProgress(value=0, bar_style='success')))"
      ]
     },
     "metadata": {},
     "output_type": "display_data"
    },
    {
     "name": "stdout",
     "output_type": "stream",
     "text": [
      "Server has moved to status ACTIVE\n"
     ]
    },
    {
     "data": {
      "text/html": [
       "<table style='border-collapse: collapse; width: 100%;'><tr style='background-color: #f2f2f2;'><th style='border: 1px solid #ddd; padding: 8px;'>Attribute</th><th style='border: 1px solid #ddd; padding: 8px;'>node-dcntrain-project23</th></tr><tr><td style='border: 1px solid #ddd; padding: 8px;'>Id</td><td style='border: 1px solid #ddd; padding: 8px;'>bd8a8b35-13b9-4f4a-ac16-1c1cf5d32e52</td></tr><tr><td style='border: 1px solid #ddd; padding: 8px;'>Status</td><td style='border: 1px solid #ddd; padding: 8px;'>ACTIVE</td></tr><tr><td style='border: 1px solid #ddd; padding: 8px;'>Image Name</td><td style='border: 1px solid #ddd; padding: 8px;'>CC-Ubuntu24.04-CUDA</td></tr><tr><td style='border: 1px solid #ddd; padding: 8px;'>Flavor Name</td><td style='border: 1px solid #ddd; padding: 8px;'>baremetal</td></tr><tr><td style='border: 1px solid #ddd; padding: 8px;'>Addresses</td><td style='border: 1px solid #ddd; padding: 8px;'><strong>sharednet1:</strong><br>&nbsp;&nbsp;IP: 10.52.3.80 (v4)<br>&nbsp;&nbsp;Type: fixed<br>&nbsp;&nbsp;MAC: 44:a8:42:26:f8:62<br></td></tr><tr><td style='border: 1px solid #ddd; padding: 8px;'>Network Name</td><td style='border: 1px solid #ddd; padding: 8px;'>sharednet1</td></tr><tr><td style='border: 1px solid #ddd; padding: 8px;'>Created At</td><td style='border: 1px solid #ddd; padding: 8px;'>2025-05-11T02:07:03Z</td></tr><tr><td style='border: 1px solid #ddd; padding: 8px;'>Keypair</td><td style='border: 1px solid #ddd; padding: 8px;'>id_rsa_project23</td></tr><tr><td style='border: 1px solid #ddd; padding: 8px;'>Reservation Id</td><td style='border: 1px solid #ddd; padding: 8px;'>342fb02f-6951-4a2c-9489-7da6de1c6c50</td></tr><tr><td style='border: 1px solid #ddd; padding: 8px;'>Host Id</td><td style='border: 1px solid #ddd; padding: 8px;'>9acf860df16fe3cd915f9522cd52cf171577a815ef5c486f67a143e3</td></tr><tr><td style='border: 1px solid #ddd; padding: 8px;'>Host Status</td><td style='border: 1px solid #ddd; padding: 8px;'>None</td></tr><tr><td style='border: 1px solid #ddd; padding: 8px;'>Hypervisor Hostname</td><td style='border: 1px solid #ddd; padding: 8px;'>6812eb99-66ef-409b-a554-ba20e4000185</td></tr><tr><td style='border: 1px solid #ddd; padding: 8px;'>Is Locked</td><td style='border: 1px solid #ddd; padding: 8px;'>False</td></tr></table>"
      ],
      "text/plain": [
       "<IPython.core.display.HTML object>"
      ]
     },
     "metadata": {},
     "output_type": "display_data"
    }
   ],
   "source": [
    "#username = os.getenv('USER') # all exp resources will have this prefix\n",
    "s = server.Server(\n",
    "    f\"node-dcntrain-{username}\", \n",
    "    reservation_id=l.node_reservations[0][\"id\"],\n",
    "    image_name=\"CC-Ubuntu24.04-CUDA\",\n",
    "    key_name=\"id_rsa_project23\"\n",
    ")\n",
    "s.submit(idempotent=True)"
   ]
  },
  {
   "cell_type": "code",
   "execution_count": 55,
   "id": "8b1d477c-c631-4184-8664-3566bb65f366",
   "metadata": {
    "tags": []
   },
   "outputs": [],
   "source": [
    "s.associate_floating_ip()\n"
   ]
  },
  {
   "cell_type": "code",
   "execution_count": 56,
   "id": "56015a94-e338-457f-8829-88c268449e3e",
   "metadata": {
    "tags": []
   },
   "outputs": [
    {
     "name": "stdout",
     "output_type": "stream",
     "text": [
      "Checking connectivity to 129.114.108.106 port 22.\n"
     ]
    },
    {
     "data": {
      "application/vnd.jupyter.widget-view+json": {
       "model_id": "956d74393baa465eaae52d4cc62746cb",
       "version_major": 2,
       "version_minor": 0
      },
      "text/plain": [
       "HBox(children=(Label(value=''), IntProgress(value=0, bar_style='success')))"
      ]
     },
     "metadata": {},
     "output_type": "display_data"
    },
    {
     "name": "stdout",
     "output_type": "stream",
     "text": [
      "Connection successful\n"
     ]
    }
   ],
   "source": [
    "s.refresh()\n",
    "s.check_connectivity()"
   ]
  },
  {
   "cell_type": "code",
   "execution_count": 57,
   "id": "55614c00-322f-473f-95d6-d085b0dd42de",
   "metadata": {
    "tags": []
   },
   "outputs": [
    {
     "data": {
      "text/html": [
       "<table style='border-collapse: collapse; width: 100%;'><tr style='background-color: #f2f2f2;'><th style='border: 1px solid #ddd; padding: 8px;'>Attribute</th><th style='border: 1px solid #ddd; padding: 8px;'>node-dcntrain-project23</th></tr><tr><td style='border: 1px solid #ddd; padding: 8px;'>Id</td><td style='border: 1px solid #ddd; padding: 8px;'>bd8a8b35-13b9-4f4a-ac16-1c1cf5d32e52</td></tr><tr><td style='border: 1px solid #ddd; padding: 8px;'>Status</td><td style='border: 1px solid #ddd; padding: 8px;'>ACTIVE</td></tr><tr><td style='border: 1px solid #ddd; padding: 8px;'>Image Name</td><td style='border: 1px solid #ddd; padding: 8px;'>CC-Ubuntu24.04-CUDA</td></tr><tr><td style='border: 1px solid #ddd; padding: 8px;'>Flavor Name</td><td style='border: 1px solid #ddd; padding: 8px;'>baremetal</td></tr><tr><td style='border: 1px solid #ddd; padding: 8px;'>Addresses</td><td style='border: 1px solid #ddd; padding: 8px;'><strong>sharednet1:</strong><br>&nbsp;&nbsp;IP: 10.52.3.80 (v4)<br>&nbsp;&nbsp;Type: fixed<br>&nbsp;&nbsp;MAC: 44:a8:42:26:f8:62<br>&nbsp;&nbsp;IP: 129.114.108.106 (v4)<br>&nbsp;&nbsp;Type: floating<br>&nbsp;&nbsp;MAC: 44:a8:42:26:f8:62<br></td></tr><tr><td style='border: 1px solid #ddd; padding: 8px;'>Network Name</td><td style='border: 1px solid #ddd; padding: 8px;'>sharednet1</td></tr><tr><td style='border: 1px solid #ddd; padding: 8px;'>Created At</td><td style='border: 1px solid #ddd; padding: 8px;'>2025-05-11T02:07:03Z</td></tr><tr><td style='border: 1px solid #ddd; padding: 8px;'>Keypair</td><td style='border: 1px solid #ddd; padding: 8px;'>id_rsa_project23</td></tr><tr><td style='border: 1px solid #ddd; padding: 8px;'>Reservation Id</td><td style='border: 1px solid #ddd; padding: 8px;'>342fb02f-6951-4a2c-9489-7da6de1c6c50</td></tr><tr><td style='border: 1px solid #ddd; padding: 8px;'>Host Id</td><td style='border: 1px solid #ddd; padding: 8px;'>9acf860df16fe3cd915f9522cd52cf171577a815ef5c486f67a143e3</td></tr><tr><td style='border: 1px solid #ddd; padding: 8px;'>Host Status</td><td style='border: 1px solid #ddd; padding: 8px;'>None</td></tr><tr><td style='border: 1px solid #ddd; padding: 8px;'>Hypervisor Hostname</td><td style='border: 1px solid #ddd; padding: 8px;'>6812eb99-66ef-409b-a554-ba20e4000185</td></tr><tr><td style='border: 1px solid #ddd; padding: 8px;'>Is Locked</td><td style='border: 1px solid #ddd; padding: 8px;'>False</td></tr></table>"
      ],
      "text/plain": [
       "<IPython.core.display.HTML object>"
      ]
     },
     "metadata": {},
     "output_type": "display_data"
    }
   ],
   "source": [
    "s.refresh()\n",
    "s.show(type=\"widget\")"
   ]
  },
  {
   "cell_type": "code",
   "execution_count": 58,
   "id": "a2634cdf-de5d-40d2-bada-0e3518ea36ae",
   "metadata": {
    "tags": []
   },
   "outputs": [
    {
     "name": "stderr",
     "output_type": "stream",
     "text": [
      "/opt/conda/lib/python3.10/site-packages/paramiko/client.py:889: UserWarning: Unknown ssh-ed25519 host key for 129.114.108.106: b'9310839aadec55dd140c0eaabff407ce'\n",
      "  warnings.warn(\n",
      "Cloning into 'restaurant-recommender'...\n"
     ]
    },
    {
     "data": {
      "text/plain": [
       "<Result cmd='git clone --recurse-submodules https://github.com/srush-shah/restaurant-recommender' exited=0>"
      ]
     },
     "execution_count": 58,
     "metadata": {},
     "output_type": "execute_result"
    }
   ],
   "source": [
    "#s.execute(\"git clone https://github.com/srush-shah/restaurant-recommender\")\n",
    "s.execute(\"git clone --recurse-submodules https://github.com/srush-shah/restaurant-recommender\")\n"
   ]
  },
  {
   "cell_type": "code",
   "execution_count": 59,
   "id": "db35221e-6360-4d8c-b9e1-d0cba16b34ca",
   "metadata": {
    "tags": []
   },
   "outputs": [],
   "source": [
    "#git clone https://github.com/srush-shah/restaurant-recommender.git"
   ]
  },
  {
   "cell_type": "code",
   "execution_count": 60,
   "id": "aba92455-0218-405a-8583-b05bd8cc02c2",
   "metadata": {
    "tags": []
   },
   "outputs": [
    {
     "name": "stdout",
     "output_type": "stream",
     "text": [
      "# Executing docker install script, commit: 53a22f61c0628e58e1d6680b49e82993d304b449\n"
     ]
    },
    {
     "name": "stderr",
     "output_type": "stream",
     "text": [
      "+ sh -c apt-get -qq update >/dev/null\n",
      "+ sh -c DEBIAN_FRONTEND=noninteractive apt-get -y -qq install ca-certificates curl >/dev/null\n",
      "+ sh -c install -m 0755 -d /etc/apt/keyrings\n",
      "+ sh -c curl -fsSL \"https://download.docker.com/linux/ubuntu/gpg\" -o /etc/apt/keyrings/docker.asc\n",
      "+ sh -c chmod a+r /etc/apt/keyrings/docker.asc\n",
      "+ sh -c echo \"deb [arch=amd64 signed-by=/etc/apt/keyrings/docker.asc] https://download.docker.com/linux/ubuntu noble stable\" > /etc/apt/sources.list.d/docker.list\n",
      "+ sh -c apt-get -qq update >/dev/null\n",
      "+ sh -c DEBIAN_FRONTEND=noninteractive apt-get -y -qq install docker-ce docker-ce-cli containerd.io docker-compose-plugin docker-ce-rootless-extras docker-buildx-plugin >/dev/null\n",
      "\n",
      "Running kernel seems to be up-to-date.\n",
      "\n",
      "The processor microcode seems to be up-to-date.\n",
      "\n",
      "No services need to be restarted.\n",
      "\n",
      "No containers need to be restarted.\n",
      "\n",
      "No user sessions are running outdated binaries.\n",
      "\n",
      "No VM guests are running outdated hypervisor (qemu) binaries on this host.\n",
      "+ sh -c docker version\n"
     ]
    },
    {
     "name": "stdout",
     "output_type": "stream",
     "text": [
      "Client: Docker Engine - Community\n",
      " Version:           28.1.1\n",
      " API version:       1.49\n",
      " Go version:        go1.23.8\n",
      " Git commit:        4eba377\n",
      " Built:             Fri Apr 18 09:52:14 2025\n",
      " OS/Arch:           linux/amd64\n",
      " Context:           default\n",
      "\n",
      "Server: Docker Engine - Community\n",
      " Engine:\n",
      "  Version:          28.1.1\n",
      "  API version:      1.49 (minimum version 1.24)\n",
      "  Go version:       go1.23.8\n",
      "  Git commit:       01f442b\n",
      "  Built:            Fri Apr 18 09:52:14 2025\n",
      "  OS/Arch:          linux/amd64\n",
      "  Experimental:     false\n",
      " containerd:\n",
      "  Version:          1.7.27\n",
      "  GitCommit:        05044ec0a9a75232cad458027ca83437aae3f4da\n",
      " runc:\n",
      "  Version:          1.2.5\n",
      "  GitCommit:        v1.2.5-0-g59923ef\n",
      " docker-init:\n",
      "  Version:          0.19.0\n",
      "  GitCommit:        de40ad0\n",
      "\n",
      "================================================================================\n",
      "\n",
      "To run Docker as a non-privileged user, consider setting up the\n",
      "Docker daemon in rootless mode for your user:\n",
      "\n",
      "    dockerd-rootless-setuptool.sh install\n",
      "\n",
      "Visit https://docs.docker.com/go/rootless/ to learn about rootless mode.\n",
      "\n",
      "\n",
      "To run the Docker daemon as a fully privileged service, but granting non-root\n",
      "users access, refer to https://docs.docker.com/go/daemon-access/\n",
      "\n",
      "WARNING: Access to the remote API on a privileged Docker daemon is equivalent\n",
      "         to root access on the host. Refer to the 'Docker daemon attack surface'\n",
      "         documentation for details: https://docs.docker.com/go/attack-surface/\n",
      "\n",
      "================================================================================\n",
      "\n"
     ]
    },
    {
     "name": "stderr",
     "output_type": "stream",
     "text": [
      "Unable to find image 'hello-world:latest' locally\n",
      "latest: Pulling from library/hello-world\n",
      "e6590344b1a5: Pulling fs layer\n",
      "e6590344b1a5: Verifying Checksum\n",
      "e6590344b1a5: Pull complete\n",
      "Digest: sha256:c41088499908a59aae84b0a49c70e86f4731e588a737f1637e73c8c09d995654\n",
      "Status: Downloaded newer image for hello-world:latest\n"
     ]
    },
    {
     "name": "stdout",
     "output_type": "stream",
     "text": [
      "\n",
      "Hello from Docker!\n",
      "This message shows that your installation appears to be working correctly.\n",
      "\n",
      "To generate this message, Docker took the following steps:\n",
      " 1. The Docker client contacted the Docker daemon.\n",
      " 2. The Docker daemon pulled the \"hello-world\" image from the Docker Hub.\n",
      "    (amd64)\n",
      " 3. The Docker daemon created a new container from that image which runs the\n",
      "    executable that produces the output you are currently reading.\n",
      " 4. The Docker daemon streamed that output to the Docker client, which sent it\n",
      "    to your terminal.\n",
      "\n",
      "To try something more ambitious, you can run an Ubuntu container with:\n",
      " $ docker run -it ubuntu bash\n",
      "\n",
      "Share images, automate workflows, and more with a free Docker ID:\n",
      " https://hub.docker.com/\n",
      "\n",
      "For more examples and ideas, visit:\n",
      " https://docs.docker.com/get-started/\n",
      "\n"
     ]
    },
    {
     "data": {
      "text/plain": [
       "<Result cmd='docker run hello-world' exited=0>"
      ]
     },
     "execution_count": 60,
     "metadata": {},
     "output_type": "execute_result"
    }
   ],
   "source": [
    "s.execute(\"curl -sSL https://get.docker.com/ | sudo sh\")\n",
    "s.execute(\"sudo groupadd -f docker; sudo usermod -aG docker $USER\")\n",
    "s.execute(\"docker run hello-world\")"
   ]
  },
  {
   "cell_type": "code",
   "execution_count": 61,
   "id": "a96c152c-c97b-4ea1-bce2-840fc5c36752",
   "metadata": {
    "tags": []
   },
   "outputs": [
    {
     "name": "stdout",
     "output_type": "stream",
     "text": [
      "deb [signed-by=/usr/share/keyrings/nvidia-container-toolkit-keyring.gpg] https://nvidia.github.io/libnvidia-container/stable/deb/$(ARCH) /\n",
      "#deb [signed-by=/usr/share/keyrings/nvidia-container-toolkit-keyring.gpg] https://nvidia.github.io/libnvidia-container/experimental/deb/$(ARCH) /\n"
     ]
    },
    {
     "name": "stderr",
     "output_type": "stream",
     "text": [
      "\n",
      "WARNING: apt does not have a stable CLI interface. Use with caution in scripts.\n",
      "\n"
     ]
    },
    {
     "name": "stdout",
     "output_type": "stream",
     "text": [
      "Hit:1 https://download.docker.com/linux/ubuntu noble InRelease\n",
      "Hit:2 https://developer.download.nvidia.com/compute/cuda/repos/ubuntu2404/x86_64  InRelease\n",
      "Get:3 https://nvidia.github.io/libnvidia-container/stable/deb/amd64  InRelease [1477 B]\n",
      "Get:4 http://nova.clouds.archive.ubuntu.com/ubuntu noble InRelease [256 kB]\n",
      "Hit:5 http://security.ubuntu.com/ubuntu noble-security InRelease\n",
      "Get:6 https://nvidia.github.io/libnvidia-container/stable/deb/amd64  Packages [18.6 kB]\n",
      "Hit:7 http://nova.clouds.archive.ubuntu.com/ubuntu noble-updates InRelease\n",
      "Hit:8 http://nova.clouds.archive.ubuntu.com/ubuntu noble-backports InRelease\n",
      "Fetched 276 kB in 1s (268 kB/s)\n",
      "Reading package lists...\n",
      "Building dependency tree...\n",
      "Reading state information...\n",
      "4 packages can be upgraded. Run 'apt list --upgradable' to see them.\n",
      "Reading package lists...\n",
      "Building dependency tree...\n",
      "Reading state information...\n",
      "The following additional packages will be installed:\n",
      "  libnvidia-container-tools libnvidia-container1 nvidia-container-toolkit-base\n",
      "The following NEW packages will be installed:\n",
      "  libnvidia-container-tools libnvidia-container1 nvidia-container-toolkit\n",
      "  nvidia-container-toolkit-base\n",
      "0 upgraded, 4 newly installed, 0 to remove and 4 not upgraded.\n",
      "Need to get 5849 kB of archives.\n",
      "After this operation, 27.9 MB of additional disk space will be used.\n",
      "Get:1 https://developer.download.nvidia.com/compute/cuda/repos/ubuntu2404/x86_64  libnvidia-container1 1.17.6-1 [926 kB]\n",
      "Get:2 https://developer.download.nvidia.com/compute/cuda/repos/ubuntu2404/x86_64  libnvidia-container-tools 1.17.6-1 [21.5 kB]\n",
      "Get:3 https://developer.download.nvidia.com/compute/cuda/repos/ubuntu2404/x86_64  nvidia-container-toolkit-base 1.17.6-1 [3711 kB]\n",
      "Get:4 https://developer.download.nvidia.com/compute/cuda/repos/ubuntu2404/x86_64  nvidia-container-toolkit 1.17.6-1 [1191 kB]\n"
     ]
    },
    {
     "name": "stderr",
     "output_type": "stream",
     "text": [
      "debconf: unable to initialize frontend: Dialog\n",
      "debconf: (Dialog frontend will not work on a dumb terminal, an emacs shell buffer, or without a controlling terminal.)\n",
      "debconf: falling back to frontend: Readline\n",
      "debconf: unable to initialize frontend: Readline\n",
      "debconf: (This frontend requires a controlling tty.)\n",
      "debconf: falling back to frontend: Teletype\n",
      "dpkg-preconfigure: unable to re-open stdin: \n"
     ]
    },
    {
     "name": "stdout",
     "output_type": "stream",
     "text": [
      "Fetched 5849 kB in 2s (2912 kB/s)\n",
      "Selecting previously unselected package libnvidia-container1:amd64.\n",
      "(Reading database ... 113813 files and directories currently installed.)\n",
      "Preparing to unpack .../libnvidia-container1_1.17.6-1_amd64.deb ...\n",
      "Unpacking libnvidia-container1:amd64 (1.17.6-1) ...\n",
      "Selecting previously unselected package libnvidia-container-tools.\n",
      "Preparing to unpack .../libnvidia-container-tools_1.17.6-1_amd64.deb ...\n",
      "Unpacking libnvidia-container-tools (1.17.6-1) ...\n",
      "Selecting previously unselected package nvidia-container-toolkit-base.\n",
      "Preparing to unpack .../nvidia-container-toolkit-base_1.17.6-1_amd64.deb ...\n",
      "Unpacking nvidia-container-toolkit-base (1.17.6-1) ...\n",
      "Selecting previously unselected package nvidia-container-toolkit.\n",
      "Preparing to unpack .../nvidia-container-toolkit_1.17.6-1_amd64.deb ...\n",
      "Unpacking nvidia-container-toolkit (1.17.6-1) ...\n",
      "Setting up nvidia-container-toolkit-base (1.17.6-1) ...\n",
      "Setting up libnvidia-container1:amd64 (1.17.6-1) ...\n",
      "Setting up libnvidia-container-tools (1.17.6-1) ...\n",
      "Setting up nvidia-container-toolkit (1.17.6-1) ...\n",
      "Processing triggers for libc-bin (2.39-0ubuntu8.4) ...\n"
     ]
    },
    {
     "name": "stderr",
     "output_type": "stream",
     "text": [
      "debconf: unable to initialize frontend: Dialog\n",
      "debconf: (Dialog frontend will not work on a dumb terminal, an emacs shell buffer, or without a controlling terminal.)\n",
      "debconf: falling back to frontend: Readline\n",
      "debconf: unable to initialize frontend: Readline\n",
      "debconf: (This frontend requires a controlling tty.)\n",
      "debconf: falling back to frontend: Teletype\n",
      "\n",
      "Running kernel seems to be up-to-date.\n",
      "\n",
      "The processor microcode seems to be up-to-date.\n",
      "\n",
      "No services need to be restarted.\n",
      "\n",
      "No containers need to be restarted.\n",
      "\n",
      "No user sessions are running outdated binaries.\n",
      "\n",
      "No VM guests are running outdated hypervisor (qemu) binaries on this host.\n",
      "time=\"2025-05-11T02:31:11Z\" level=info msg=\"Config file does not exist; using empty config\"\n",
      "time=\"2025-05-11T02:31:11Z\" level=info msg=\"Wrote updated config to /etc/docker/daemon.json\"\n",
      "time=\"2025-05-11T02:31:11Z\" level=info msg=\"It is recommended that docker daemon be restarted.\"\n"
     ]
    },
    {
     "data": {
      "text/plain": [
       "<Result cmd='sudo systemctl restart docker' exited=0>"
      ]
     },
     "execution_count": 61,
     "metadata": {},
     "output_type": "execute_result"
    }
   ],
   "source": [
    "s.execute(\"curl -fsSL https://nvidia.github.io/libnvidia-container/gpgkey | sudo gpg --dearmor -o /usr/share/keyrings/nvidia-container-toolkit-keyring.gpg \\\n",
    "  && curl -s -L https://nvidia.github.io/libnvidia-container/stable/deb/nvidia-container-toolkit.list | \\\n",
    "    sed 's#deb https://#deb [signed-by=/usr/share/keyrings/nvidia-container-toolkit-keyring.gpg] https://#g' | \\\n",
    "    sudo tee /etc/apt/sources.list.d/nvidia-container-toolkit.list\")\n",
    "s.execute(\"sudo apt update\")\n",
    "s.execute(\"sudo apt-get install -y nvidia-container-toolkit\")\n",
    "s.execute(\"sudo nvidia-ctk runtime configure --runtime=docker\")\n",
    "s.execute(\"sudo systemctl restart docker\")"
   ]
  },
  {
   "cell_type": "code",
   "execution_count": 62,
   "id": "93b4830b-e10c-4c5a-905f-5ef810a3f09a",
   "metadata": {
    "tags": []
   },
   "outputs": [
    {
     "name": "stderr",
     "output_type": "stream",
     "text": [
      "Unable to find image 'ubuntu:latest' locally\n",
      "latest: Pulling from library/ubuntu\n",
      "0622fac788ed: Pulling fs layer\n",
      "0622fac788ed: Verifying Checksum\n",
      "0622fac788ed: Download complete\n",
      "0622fac788ed: Pull complete\n",
      "Digest: sha256:6015f66923d7afbc53558d7ccffd325d43b4e249f41a6e93eef074c9505d2233\n",
      "Status: Downloaded newer image for ubuntu:latest\n"
     ]
    },
    {
     "name": "stdout",
     "output_type": "stream",
     "text": [
      "Sun May 11 02:32:02 2025       \n",
      "+-----------------------------------------------------------------------------------------+\n",
      "| NVIDIA-SMI 560.35.05              Driver Version: 560.35.05      CUDA Version: 12.6     |\n",
      "|-----------------------------------------+------------------------+----------------------+\n",
      "| GPU  Name                 Persistence-M | Bus-Id          Disp.A | Volatile Uncorr. ECC |\n",
      "| Fan  Temp   Perf          Pwr:Usage/Cap |           Memory-Usage | GPU-Util  Compute M. |\n",
      "|                                         |                        |               MIG M. |\n",
      "|=========================================+========================+======================|\n",
      "|   0  Tesla V100-PCIE-16GB           Off |   00000000:03:00.0 Off |                    0 |\n",
      "| N/A   32C    P0             28W /  250W |       1MiB /  16384MiB |      0%      Default |\n",
      "|                                         |                        |                  N/A |\n",
      "+-----------------------------------------+------------------------+----------------------+\n",
      "|   1  Tesla P100-PCIE-16GB           Off |   00000000:82:00.0 Off |                    0 |\n",
      "| N/A   32C    P0             25W /  250W |       0MiB /  16384MiB |      0%      Default |\n",
      "|                                         |                        |                  N/A |\n",
      "+-----------------------------------------+------------------------+----------------------+\n",
      "                                                                                         \n",
      "+-----------------------------------------------------------------------------------------+\n",
      "| Processes:                                                                              |\n",
      "|  GPU   GI   CI        PID   Type   Process name                              GPU Memory |\n",
      "|        ID   ID                                                               Usage      |\n",
      "|=========================================================================================|\n",
      "|  No running processes found                                                             |\n",
      "+-----------------------------------------------------------------------------------------+\n"
     ]
    },
    {
     "data": {
      "text/plain": [
       "<Result cmd='docker run --rm --gpus all ubuntu nvidia-smi' exited=0>"
      ]
     },
     "execution_count": 62,
     "metadata": {},
     "output_type": "execute_result"
    }
   ],
   "source": [
    "s.execute(\"docker run --rm --gpus all ubuntu nvidia-smi\")\n"
   ]
  },
  {
   "cell_type": "code",
   "execution_count": 63,
   "id": "27c93420-bdd9-4f98-badc-3a3d77972047",
   "metadata": {
    "tags": []
   },
   "outputs": [
    {
     "name": "stdout",
     "output_type": "stream",
     "text": [
      "cuda12-pytorch-2.5.1: Pulling from jupyter/pytorch-notebook\n",
      "54609b48ebc1: Pulling fs layer\n",
      "1bf84e16ee78: Pulling fs layer\n",
      "70c528583d48: Pulling fs layer\n",
      "4f4fb700ef54: Pulling fs layer\n",
      "d20e2bbc3444: Pulling fs layer\n",
      "e1236ab05074: Pulling fs layer\n",
      "eb55310ee8e5: Pulling fs layer\n",
      "247e1eb593d5: Pulling fs layer\n",
      "1ac7d388a98d: Pulling fs layer\n",
      "f27656f139fb: Pulling fs layer\n",
      "ac0c7c38d6ad: Pulling fs layer\n",
      "c48c65e32957: Pulling fs layer\n",
      "d79a028c87d5: Pulling fs layer\n",
      "97452dad12c2: Pulling fs layer\n",
      "4f4fb700ef54: Waiting\n",
      "e1236ab05074: Waiting\n",
      "eb55310ee8e5: Waiting\n",
      "aad099df5a3e: Pulling fs layer\n",
      "247e1eb593d5: Waiting\n",
      "41e13f849bef: Pulling fs layer\n",
      "1ac7d388a98d: Waiting\n",
      "3734b2c4ea95: Pulling fs layer\n",
      "f27656f139fb: Waiting\n",
      "5d39b32f56c0: Pulling fs layer\n",
      "c48c65e32957: Waiting\n",
      "ac0c7c38d6ad: Waiting\n",
      "dfe267ba30ed: Pulling fs layer\n",
      "41e13f849bef: Waiting\n",
      "92e65b90a905: Pulling fs layer\n",
      "bc6b6634a9a2: Pulling fs layer\n",
      "aad099df5a3e: Waiting\n",
      "35eb378f4751: Pulling fs layer\n",
      "be517295261b: Pulling fs layer\n",
      "9ae764103bf5: Pulling fs layer\n",
      "97452dad12c2: Waiting\n",
      "3734b2c4ea95: Waiting\n",
      "5d39b32f56c0: Waiting\n",
      "d79a028c87d5: Waiting\n",
      "b3983557f014: Pulling fs layer\n",
      "5520f089e27b: Pulling fs layer\n",
      "35eb378f4751: Waiting\n",
      "92e65b90a905: Waiting\n",
      "bc6b6634a9a2: Waiting\n",
      "9ae764103bf5: Waiting\n",
      "3ce629816282: Pulling fs layer\n",
      "5520f089e27b: Waiting\n",
      "be517295261b: Waiting\n",
      "dfe267ba30ed: Waiting\n",
      "b3983557f014: Waiting\n",
      "70c528583d48: Verifying Checksum\n",
      "70c528583d48: Download complete\n",
      "1bf84e16ee78: Verifying Checksum\n",
      "1bf84e16ee78: Download complete\n",
      "4f4fb700ef54: Verifying Checksum\n",
      "4f4fb700ef54: Download complete\n",
      "54609b48ebc1: Verifying Checksum\n",
      "54609b48ebc1: Download complete\n",
      "d20e2bbc3444: Verifying Checksum\n",
      "d20e2bbc3444: Download complete\n",
      "e1236ab05074: Verifying Checksum\n",
      "e1236ab05074: Download complete\n",
      "eb55310ee8e5: Verifying Checksum\n",
      "eb55310ee8e5: Download complete\n",
      "247e1eb593d5: Verifying Checksum\n",
      "247e1eb593d5: Download complete\n",
      "1ac7d388a98d: Download complete\n",
      "ac0c7c38d6ad: Download complete\n",
      "c48c65e32957: Verifying Checksum\n",
      "c48c65e32957: Download complete\n",
      "d79a028c87d5: Verifying Checksum\n",
      "d79a028c87d5: Download complete\n",
      "97452dad12c2: Verifying Checksum\n",
      "97452dad12c2: Download complete\n",
      "f27656f139fb: Verifying Checksum\n",
      "f27656f139fb: Download complete\n",
      "41e13f849bef: Verifying Checksum\n",
      "41e13f849bef: Download complete\n",
      "3734b2c4ea95: Verifying Checksum\n",
      "3734b2c4ea95: Download complete\n",
      "5d39b32f56c0: Verifying Checksum\n",
      "5d39b32f56c0: Download complete\n",
      "aad099df5a3e: Verifying Checksum\n",
      "aad099df5a3e: Download complete\n",
      "bc6b6634a9a2: Download complete\n",
      "92e65b90a905: Verifying Checksum\n",
      "92e65b90a905: Download complete\n",
      "35eb378f4751: Verifying Checksum\n",
      "35eb378f4751: Download complete\n",
      "54609b48ebc1: Pull complete\n",
      "dfe267ba30ed: Verifying Checksum\n",
      "dfe267ba30ed: Download complete\n",
      "b3983557f014: Download complete\n",
      "5520f089e27b: Verifying Checksum\n",
      "5520f089e27b: Download complete\n",
      "1bf84e16ee78: Pull complete\n",
      "70c528583d48: Pull complete\n",
      "4f4fb700ef54: Pull complete\n",
      "d20e2bbc3444: Pull complete\n",
      "be517295261b: Verifying Checksum\n",
      "be517295261b: Download complete\n",
      "e1236ab05074: Pull complete\n",
      "eb55310ee8e5: Pull complete\n",
      "247e1eb593d5: Pull complete\n",
      "1ac7d388a98d: Pull complete\n",
      "9ae764103bf5: Verifying Checksum\n",
      "9ae764103bf5: Download complete\n",
      "f27656f139fb: Pull complete\n",
      "ac0c7c38d6ad: Pull complete\n",
      "c48c65e32957: Pull complete\n",
      "d79a028c87d5: Pull complete\n",
      "97452dad12c2: Pull complete\n",
      "3ce629816282: Verifying Checksum\n",
      "3ce629816282: Download complete\n",
      "aad099df5a3e: Pull complete\n",
      "41e13f849bef: Pull complete\n",
      "3734b2c4ea95: Pull complete\n",
      "5d39b32f56c0: Pull complete\n",
      "dfe267ba30ed: Pull complete\n",
      "92e65b90a905: Pull complete\n",
      "bc6b6634a9a2: Pull complete\n",
      "35eb378f4751: Pull complete\n",
      "be517295261b: Pull complete\n",
      "9ae764103bf5: Pull complete\n",
      "b3983557f014: Pull complete\n",
      "5520f089e27b: Pull complete\n",
      "3ce629816282: Pull complete\n",
      "Digest: sha256:3a4865f4cb19ea3195855c7da7e13df8445126c43cb83dc1333f1dd17c719a62\n",
      "Status: Downloaded newer image for quay.io/jupyter/pytorch-notebook:cuda12-pytorch-2.5.1\n",
      "quay.io/jupyter/pytorch-notebook:cuda12-pytorch-2.5.1\n"
     ]
    },
    {
     "data": {
      "text/plain": [
       "<Result cmd='docker pull quay.io/jupyter/pytorch-notebook:cuda12-pytorch-2.5.1' exited=0>"
      ]
     },
     "execution_count": 63,
     "metadata": {},
     "output_type": "execute_result"
    }
   ],
   "source": [
    "s.execute(\"docker pull quay.io/jupyter/pytorch-notebook:cuda12-pytorch-2.5.1\")\n"
   ]
  },
  {
   "cell_type": "code",
   "execution_count": 64,
   "id": "14516239-ba58-45b5-bbb2-af433dcc6509",
   "metadata": {
    "tags": []
   },
   "outputs": [
    {
     "name": "stdout",
     "output_type": "stream",
     "text": [
      "09b71406f8e481c4968157b1d17b1951771b820a62fcc721d34186bb9fae1087\n"
     ]
    },
    {
     "data": {
      "text/plain": [
       "<Result cmd='docker run -d -p 8888:8888 --gpus all --name torchnb quay.io/jupyter/pytorch-notebook:cuda12-pytorch-2.5.1' exited=0>"
      ]
     },
     "execution_count": 64,
     "metadata": {},
     "output_type": "execute_result"
    }
   ],
   "source": [
    "s.execute(\"docker run -d -p 8888:8888 --gpus all --name torchnb quay.io/jupyter/pytorch-notebook:cuda12-pytorch-2.5.1\")\n"
   ]
  },
  {
   "cell_type": "code",
   "execution_count": null,
   "id": "553aef75-fe7a-4ce0-9fd3-6483930ea064",
   "metadata": {},
   "outputs": [],
   "source": [
    "#Run scripts for object mount\n",
    "\n",
    "\n",
    "curl https://rclone.org/install.sh | sudo bash\n",
    "\n",
    "sudo sed -i '/^#user_allow_other/s/^#//' /etc/fuse.conf\n",
    "\n",
    "mkdir -p ~/.config/rclone\n",
    "\n",
    "# Write your rclone.conf\n",
    "cat > ~/.config/rclone/rclone.conf <<'EOF'\n",
    "[chi_tacc]\n",
    "type = swift\n",
    "user_id = 59b49300deb6f11832f7764d9f2c3451ba51e578bb556d58e02bf4c64bd89a31\n",
    "application_credential_id = aba2c756cb1649b6bd47c572f67a9528\n",
    "application_credential_secret = HnUZC1Dvhnw1A5-19LiDQORiWURpL1IflqK3tk506NXJp8Tb0HSW4m0V9Ch4zEhwV9WR7tTxiAPTcTGHMi2SKw\n",
    "auth = https://chi.tacc.chameleoncloud.org:5000/v3\n",
    "region = CHI@TACC\n",
    "EOF\n",
    "\n",
    "rclone lsd chi_tacc:\n",
    "\n",
    "export RCLONE_CONTAINER=object-persist-project23\n",
    "\n",
    "sudo mkdir -p /mnt/object\n",
    "sudo chown -R cc /mnt/object\n",
    "sudo chgrp -R cc /mnt/object\n",
    "\n",
    "\n",
    "rclone mount chi_tacc:object-persist-project23 /mnt/object --read-only --allow-other --daemon\n",
    "\n",
    "ls /mnt/object"
   ]
  },
  {
   "cell_type": "code",
   "execution_count": 65,
   "id": "8db1e547-54f4-4a60-9af4-97ad0df41f66",
   "metadata": {
    "tags": []
   },
   "outputs": [
    {
     "name": "stdout",
     "output_type": "stream",
     "text": [
      "torchnb\n",
      "bdad83dd834ab97ead850e93d5caef4ddbebd7e9bb88b9c82d94525170c0049d\n"
     ]
    },
    {
     "data": {
      "text/plain": [
       "<Result cmd='docker rm -f torchnb; docker run -d -p 8888:8888 --gpus all --name torchnb -v /home/cc/restaurant-recommender:/home/jovyan/restaurant-recommender -v /mnt/object:/home/jovyan/work/data -u 1000:1000 quay.io/jupyter/pytorch-notebook:cuda12-pytorch-2.5.1' exited=0>"
      ]
     },
     "execution_count": 65,
     "metadata": {},
     "output_type": "execute_result"
    }
   ],
   "source": [
    "s.execute(\n",
    "    \"docker rm -f torchnb; \"\n",
    "    \"docker run -d -p 8888:8888 --gpus all --name torchnb \"\n",
    "    \"-v /home/cc/restaurant-recommender:/home/jovyan/restaurant-recommender \"\n",
    "    \"-v /mnt/object:/home/jovyan/work/data \"\n",
    "    \"-u 1000:1000 \"\n",
    "    \"quay.io/jupyter/pytorch-notebook:cuda12-pytorch-2.5.1\"\n",
    ")\n",
    "\n"
   ]
  },
  {
   "cell_type": "code",
   "execution_count": 66,
   "id": "e602c3a8-00e2-481b-bb56-f85f1a0c4f13",
   "metadata": {
    "tags": []
   },
   "outputs": [
    {
     "name": "stdout",
     "output_type": "stream",
     "text": [
      "Entered start.sh with args: start-notebook.py\n",
      "Running hooks in: /usr/local/bin/start-notebook.d as uid: 1000 gid: 1000\n",
      "Done running hooks in: /usr/local/bin/start-notebook.d\n",
      "Running hooks in: /usr/local/bin/before-notebook.d as uid: 1000 gid: 1000\n",
      "Sourcing shell script: /usr/local/bin/before-notebook.d/10activate-conda-env.sh\n",
      "Done running hooks in: /usr/local/bin/before-notebook.d\n",
      "Executing the command: start-notebook.py\n"
     ]
    },
    {
     "name": "stderr",
     "output_type": "stream",
     "text": [
      "[I 2025-05-11 02:50:34.121 ServerApp] jupyter_lsp | extension was successfully linked.\n",
      "[I 2025-05-11 02:50:34.125 ServerApp] jupyter_server_mathjax | extension was successfully linked.\n",
      "[I 2025-05-11 02:50:34.129 ServerApp] jupyter_server_terminals | extension was successfully linked.\n",
      "[I 2025-05-11 02:50:34.134 ServerApp] jupyterlab | extension was successfully linked.\n",
      "[I 2025-05-11 02:50:34.134 ServerApp] jupyterlab_git | extension was successfully linked.\n",
      "[I 2025-05-11 02:50:34.138 ServerApp] nbclassic | extension was successfully linked.\n",
      "[I 2025-05-11 02:50:34.138 ServerApp] nbdime | extension was successfully linked.\n",
      "[I 2025-05-11 02:50:34.142 ServerApp] notebook | extension was successfully linked.\n",
      "[I 2025-05-11 02:50:34.143 ServerApp] Writing Jupyter server cookie secret to /home/jovyan/.local/share/jupyter/runtime/jupyter_cookie_secret\n",
      "[I 2025-05-11 02:50:34.375 ServerApp] notebook_shim | extension was successfully linked.\n",
      "[W 2025-05-11 02:50:34.393 ServerApp] WARNING: The Jupyter server is listening on all IP addresses and not using encryption. This is not recommended.\n",
      "[I 2025-05-11 02:50:34.394 ServerApp] notebook_shim | extension was successfully loaded.\n",
      "[I 2025-05-11 02:50:34.396 ServerApp] jupyter_lsp | extension was successfully loaded.\n",
      "[I 2025-05-11 02:50:34.396 ServerApp] jupyter_server_mathjax | extension was successfully loaded.\n",
      "[I 2025-05-11 02:50:34.397 ServerApp] jupyter_server_terminals | extension was successfully loaded.\n",
      "[I 2025-05-11 02:50:34.399 LabApp] JupyterLab extension loaded from /opt/conda/lib/python3.12/site-packages/jupyterlab\n",
      "[I 2025-05-11 02:50:34.399 LabApp] JupyterLab application directory is /opt/conda/share/jupyter/lab\n",
      "[I 2025-05-11 02:50:34.400 LabApp] Extension Manager is 'pypi'.\n",
      "[I 2025-05-11 02:50:34.474 ServerApp] jupyterlab | extension was successfully loaded.\n",
      "[I 2025-05-11 02:50:34.479 ServerApp] jupyterlab_git | extension was successfully loaded.\n",
      "[I 2025-05-11 02:50:34.483 ServerApp] nbclassic | extension was successfully loaded.\n",
      "[I 2025-05-11 02:50:34.539 ServerApp] nbdime | extension was successfully loaded.\n",
      "[I 2025-05-11 02:50:34.543 ServerApp] notebook | extension was successfully loaded.\n",
      "[I 2025-05-11 02:50:34.544 ServerApp] Serving notebooks from local directory: /home/jovyan\n",
      "[I 2025-05-11 02:50:34.544 ServerApp] Jupyter Server 2.15.0 is running at:\n",
      "[I 2025-05-11 02:50:34.544 ServerApp] http://localhost:8888/lab?token=3626dddd976c4f0506fed01a749d3e77b29139175967deba\n",
      "[I 2025-05-11 02:50:34.544 ServerApp]     http://127.0.0.1:8888/lab?token=3626dddd976c4f0506fed01a749d3e77b29139175967deba\n",
      "[I 2025-05-11 02:50:34.544 ServerApp] Use Control-C to stop this server and shut down all kernels (twice to skip confirmation).\n",
      "[C 2025-05-11 02:50:34.547 ServerApp] \n",
      "    \n",
      "    To access the server, open this file in a browser:\n",
      "        file:///home/jovyan/.local/share/jupyter/runtime/jpserver-7-open.html\n",
      "    Or copy and paste one of these URLs:\n",
      "        http://localhost:8888/lab?token=3626dddd976c4f0506fed01a749d3e77b29139175967deba\n",
      "        http://127.0.0.1:8888/lab?token=3626dddd976c4f0506fed01a749d3e77b29139175967deba\n",
      "[I 2025-05-11 02:50:34.580 ServerApp] Skipped non-installed server(s): bash-language-server, dockerfile-language-server-nodejs, javascript-typescript-langserver, jedi-language-server, julia-language-server, pyright, python-language-server, python-lsp-server, r-languageserver, sql-language-server, texlab, typescript-language-server, unified-language-server, vscode-css-languageserver-bin, vscode-html-languageserver-bin, vscode-json-languageserver-bin, yaml-language-server\n"
     ]
    },
    {
     "data": {
      "text/plain": [
       "<Result cmd='docker logs torchnb' exited=0>"
      ]
     },
     "execution_count": 66,
     "metadata": {},
     "output_type": "execute_result"
    }
   ],
   "source": [
    "s.execute(\"docker logs torchnb\")\n"
   ]
  },
  {
   "cell_type": "code",
   "execution_count": null,
   "id": "1f74bf85-1654-4236-abca-0899928d621e",
   "metadata": {},
   "outputs": [],
   "source": []
  },
  {
   "cell_type": "code",
   "execution_count": null,
   "id": "05cc1f0a-d1cf-4135-8cbb-d326f18bcc55",
   "metadata": {},
   "outputs": [],
   "source": []
  },
  {
   "cell_type": "code",
   "execution_count": 67,
   "id": "bf24f072-b44f-414c-b3e8-96a25776bc4e",
   "metadata": {
    "tags": []
   },
   "outputs": [
    {
     "name": "stderr",
     "output_type": "stream",
     "text": [
      "#0 building with \"default\" instance using docker driver\n",
      "\n",
      "#1 [internal] load build definition from Dockerfile.jupyter-torch-mlflow-cuda\n",
      "#1 transferring dockerfile:\n",
      "#1 transferring dockerfile: 539B done\n",
      "#1 DONE 0.3s\n",
      "\n",
      "#2 [internal] load metadata for quay.io/jupyter/pytorch-notebook:cuda12-latest\n",
      "#2 DONE 1.4s\n",
      "\n",
      "#3 [internal] load .dockerignore\n",
      "#3 transferring context:\n",
      "#3 transferring context: 2B done\n",
      "#3 DONE 0.3s\n",
      "\n",
      "#4 [1/3] FROM quay.io/jupyter/pytorch-notebook:cuda12-latest@sha256:5cc07bab3f9391418e9be3bb822d18a83b840fd3433aae0675e431981d32529e\n",
      "#4 resolve quay.io/jupyter/pytorch-notebook:cuda12-latest@sha256:5cc07bab3f9391418e9be3bb822d18a83b840fd3433aae0675e431981d32529e\n",
      "#4 resolve quay.io/jupyter/pytorch-notebook:cuda12-latest@sha256:5cc07bab3f9391418e9be3bb822d18a83b840fd3433aae0675e431981d32529e 0.2s done\n",
      "#4 sha256:7912bb7454b987ece7b2faf11973cbacbe2e1df78d3184d6516c0b5d7ffb6bc5 19.92kB / 19.92kB done\n",
      "#4 sha256:5cc07bab3f9391418e9be3bb822d18a83b840fd3433aae0675e431981d32529e 434B / 434B done\n",
      "#4 sha256:709bcaef8de7e3b73bdf67497513e8be731260377a7e50ee5e2414ae494a9fd8 7.21kB / 7.21kB done\n",
      "#4 sha256:ac0c285abb482df6684de5a61b4577fc5cc5fafe8cd1280ebf52d8909d121599 0B / 30.59MB 0.2s\n",
      "#4 sha256:495e9b1f57cf2c6d6d8e97a2b579177065820753648fd7c66c9800bebd1d617f 0B / 687B 0.2s\n",
      "#4 sha256:96c932f29ab238a89357a1ed3185a558d6195bed23a42e3f7c8eec419dfec130 0B / 11.43MB 0.2s\n",
      "#4 sha256:ac0c285abb482df6684de5a61b4577fc5cc5fafe8cd1280ebf52d8909d121599 22.74MB / 30.59MB 0.5s\n",
      "#4 sha256:ac0c285abb482df6684de5a61b4577fc5cc5fafe8cd1280ebf52d8909d121599 30.59MB / 30.59MB 0.6s\n",
      "#4 sha256:495e9b1f57cf2c6d6d8e97a2b579177065820753648fd7c66c9800bebd1d617f 687B / 687B 0.6s\n",
      "#4 sha256:96c932f29ab238a89357a1ed3185a558d6195bed23a42e3f7c8eec419dfec130 11.43MB / 11.43MB 0.8s\n",
      "#4 sha256:495e9b1f57cf2c6d6d8e97a2b579177065820753648fd7c66c9800bebd1d617f 687B / 687B 0.7s done\n",
      "#4 sha256:96c932f29ab238a89357a1ed3185a558d6195bed23a42e3f7c8eec419dfec130 11.43MB / 11.43MB 2.0s done\n",
      "#4 sha256:4f4fb700ef54461cfa02571ae0db9a0dc1e0cdb5577484a6d75e68dc38e8acc1 0B / 32B 2.1s\n",
      "#4 sha256:ac0c285abb482df6684de5a61b4577fc5cc5fafe8cd1280ebf52d8909d121599 30.59MB / 30.59MB 2.1s done\n",
      "#4 extracting sha256:ac0c285abb482df6684de5a61b4577fc5cc5fafe8cd1280ebf52d8909d121599\n",
      "#4 sha256:4f4fb700ef54461cfa02571ae0db9a0dc1e0cdb5577484a6d75e68dc38e8acc1 32B / 32B 2.4s\n",
      "#4 sha256:fc343ee71338677d48439d05e9265f06bc4b409394a57c9ffd5933cf18255f8e 0B / 1.91kB 2.4s\n",
      "#4 sha256:fc343ee71338677d48439d05e9265f06bc4b409394a57c9ffd5933cf18255f8e 1.91kB / 1.91kB 2.5s\n",
      "#4 sha256:fc343ee71338677d48439d05e9265f06bc4b409394a57c9ffd5933cf18255f8e 1.91kB / 1.91kB 2.6s done\n",
      "#4 sha256:64e5e0365c94a627970f434d61707b28f09883a6d96b20b11045327b198b058e 0B / 1.30kB 2.6s\n",
      "#4 sha256:4f4fb700ef54461cfa02571ae0db9a0dc1e0cdb5577484a6d75e68dc38e8acc1 32B / 32B 2.6s done\n",
      "#4 sha256:64e5e0365c94a627970f434d61707b28f09883a6d96b20b11045327b198b058e 1.30kB / 1.30kB 2.7s\n",
      "#4 sha256:e2c2fd07bff9b5e62262d6231b3abb856133a44f45c3806e9d9752134cf63703 0B / 150B 2.7s\n",
      "#4 sha256:64e5e0365c94a627970f434d61707b28f09883a6d96b20b11045327b198b058e 1.30kB / 1.30kB 2.8s done\n",
      "#4 sha256:e2c2fd07bff9b5e62262d6231b3abb856133a44f45c3806e9d9752134cf63703 150B / 150B 2.8s\n",
      "#4 sha256:a4e265e924b90950a9956a87468511dbda3b5b1d9ae0ff6370d836bc0eacc639 0B / 4.95kB 2.8s\n",
      "#4 sha256:0c4f60182985297bf3f375af289387227dcd1129c7b869169c866061d1295331 0B / 276B 2.9s\n",
      "#4 sha256:e2c2fd07bff9b5e62262d6231b3abb856133a44f45c3806e9d9752134cf63703 150B / 150B 2.9s done\n",
      "#4 sha256:a4e265e924b90950a9956a87468511dbda3b5b1d9ae0ff6370d836bc0eacc639 4.95kB / 4.95kB 3.1s done\n",
      "#4 sha256:a63b9b1262fd109c8b07b98c065c461c4b49684d004f61fe9f5527b389641655 0B / 93.62MB 3.1s\n",
      "#4 sha256:48ce0bc44f140feaaaa1f12bec743b6b1c82db711bec4e87e8fdce827662ef08 0B / 4.69kB 3.2s\n",
      "#4 sha256:0c4f60182985297bf3f375af289387227dcd1129c7b869169c866061d1295331 276B / 276B 3.2s done\n",
      "#4 sha256:a63b9b1262fd109c8b07b98c065c461c4b49684d004f61fe9f5527b389641655 19.55MB / 93.62MB 3.3s\n",
      "#4 sha256:a63b9b1262fd109c8b07b98c065c461c4b49684d004f61fe9f5527b389641655 32.51MB / 93.62MB 3.4s\n",
      "#4 sha256:02f4d656889f2dbed3d743adfde6c76292d67044c2246c3cbfb2907057b19d20 0B / 182B 3.4s\n",
      "#4 sha256:a63b9b1262fd109c8b07b98c065c461c4b49684d004f61fe9f5527b389641655 53.06MB / 93.62MB 3.5s\n",
      "#4 sha256:48ce0bc44f140feaaaa1f12bec743b6b1c82db711bec4e87e8fdce827662ef08 4.69kB / 4.69kB 3.5s done\n",
      "#4 sha256:a63b9b1262fd109c8b07b98c065c461c4b49684d004f61fe9f5527b389641655 73.40MB / 93.62MB 3.6s\n",
      "#4 sha256:02f4d656889f2dbed3d743adfde6c76292d67044c2246c3cbfb2907057b19d20 182B / 182B 3.6s\n",
      "#4 sha256:87e622d6d8d55a86300ced6f377975763570aef1ac0928c6524e219def035e5f 0B / 478B 3.6s\n",
      "#4 sha256:a63b9b1262fd109c8b07b98c065c461c4b49684d004f61fe9f5527b389641655 90.26MB / 93.62MB 3.7s\n",
      "#4 sha256:02f4d656889f2dbed3d743adfde6c76292d67044c2246c3cbfb2907057b19d20 182B / 182B 3.7s done\n",
      "#4 sha256:87e622d6d8d55a86300ced6f377975763570aef1ac0928c6524e219def035e5f 478B / 478B 3.9s\n",
      "#4 sha256:b7900f8fafa1225b8fd8408b50edcf7757a7f07f76bd464225b6b6189ea848de 0B / 41.18MB 4.8s\n",
      "#4 sha256:b7900f8fafa1225b8fd8408b50edcf7757a7f07f76bd464225b6b6189ea848de 3.15MB / 41.18MB 5.2s\n",
      "#4 sha256:b7900f8fafa1225b8fd8408b50edcf7757a7f07f76bd464225b6b6189ea848de 19.73MB / 41.18MB 5.3s\n",
      "#4 extracting sha256:ac0c285abb482df6684de5a61b4577fc5cc5fafe8cd1280ebf52d8909d121599 3.2s done\n",
      "#4 sha256:87e622d6d8d55a86300ced6f377975763570aef1ac0928c6524e219def035e5f 478B / 478B 5.3s done\n",
      "#4 sha256:b7900f8fafa1225b8fd8408b50edcf7757a7f07f76bd464225b6b6189ea848de 33.55MB / 41.18MB 5.4s\n",
      "#4 sha256:b7900f8fafa1225b8fd8408b50edcf7757a7f07f76bd464225b6b6189ea848de 41.18MB / 41.18MB 5.7s\n",
      "#4 sha256:274f1c4884281f93b4442023e134b67fcf3bcea500a426d4b68c7f3b813c6e4b 0B / 97.52MB 6.8s\n",
      "#4 sha256:274f1c4884281f93b4442023e134b67fcf3bcea500a426d4b68c7f3b813c6e4b 24.12MB / 97.52MB 7.4s\n",
      "#4 sha256:274f1c4884281f93b4442023e134b67fcf3bcea500a426d4b68c7f3b813c6e4b 32.51MB / 97.52MB 7.5s\n",
      "#4 sha256:a63b9b1262fd109c8b07b98c065c461c4b49684d004f61fe9f5527b389641655 93.62MB / 93.62MB 7.2s done\n",
      "#4 sha256:274f1c4884281f93b4442023e134b67fcf3bcea500a426d4b68c7f3b813c6e4b 44.04MB / 97.52MB 7.9s\n",
      "#4 sha256:274f1c4884281f93b4442023e134b67fcf3bcea500a426d4b68c7f3b813c6e4b 51.38MB / 97.52MB 8.0s\n",
      "#4 sha256:274f1c4884281f93b4442023e134b67fcf3bcea500a426d4b68c7f3b813c6e4b 79.69MB / 97.52MB 8.4s\n",
      "#4 sha256:b7900f8fafa1225b8fd8408b50edcf7757a7f07f76bd464225b6b6189ea848de 41.18MB / 41.18MB 8.2s done\n",
      "#4 sha256:274f1c4884281f93b4442023e134b67fcf3bcea500a426d4b68c7f3b813c6e4b 97.52MB / 97.52MB 8.5s\n",
      "#4 sha256:cd0bdba38181c5c59ee6745978fec0ea7ae78ed70e89075bbc1c6fc25f4488ce 0B / 1.17kB 10.1s\n",
      "#4 extracting sha256:96c932f29ab238a89357a1ed3185a558d6195bed23a42e3f7c8eec419dfec130\n",
      "#4 sha256:cd0bdba38181c5c59ee6745978fec0ea7ae78ed70e89075bbc1c6fc25f4488ce 1.17kB / 1.17kB 10.6s\n",
      "#4 sha256:cd0bdba38181c5c59ee6745978fec0ea7ae78ed70e89075bbc1c6fc25f4488ce 1.17kB / 1.17kB 11.0s done\n",
      "#4 sha256:1389a59ee1103041d8ba9ef1eba0693f205803ef609b288407aa48d6ca0e1ba6 0B / 1.68kB 11.0s\n",
      "#4 sha256:274f1c4884281f93b4442023e134b67fcf3bcea500a426d4b68c7f3b813c6e4b 97.52MB / 97.52MB 11.0s done\n",
      "#4 sha256:42d093ca080778bcd543d6c28c5d6ba84ab9828cc27c3afbbec36d606ce2be1d 0B / 1.69kB 11.1s\n",
      "#4 sha256:1389a59ee1103041d8ba9ef1eba0693f205803ef609b288407aa48d6ca0e1ba6 1.68kB / 1.68kB 11.2s\n",
      "#4 sha256:96e0030bb2d295bb1b5cafd150606852d99f1ff92b307f0d46e9bd913a3d78e8 0B / 243.89MB 11.2s\n",
      "#4 sha256:1389a59ee1103041d8ba9ef1eba0693f205803ef609b288407aa48d6ca0e1ba6 1.68kB / 1.68kB 11.3s done\n",
      "#4 sha256:42d093ca080778bcd543d6c28c5d6ba84ab9828cc27c3afbbec36d606ce2be1d 1.69kB / 1.69kB 11.3s\n",
      "#4 sha256:42d093ca080778bcd543d6c28c5d6ba84ab9828cc27c3afbbec36d606ce2be1d 1.69kB / 1.69kB 11.6s done\n",
      "#4 sha256:96e0030bb2d295bb1b5cafd150606852d99f1ff92b307f0d46e9bd913a3d78e8 29.36MB / 243.89MB 11.6s\n",
      "#4 sha256:fcc5e6a41fda939c85db54112a0dd554c1d4ad04ee5ddd35c01b0ba229cecce9 0B / 1.38kB 11.6s\n",
      "#4 extracting sha256:96c932f29ab238a89357a1ed3185a558d6195bed23a42e3f7c8eec419dfec130 1.5s done\n",
      "#4 sha256:96e0030bb2d295bb1b5cafd150606852d99f1ff92b307f0d46e9bd913a3d78e8 52.43MB / 243.89MB 11.8s\n",
      "#4 sha256:fcc5e6a41fda939c85db54112a0dd554c1d4ad04ee5ddd35c01b0ba229cecce9 1.38kB / 1.38kB 11.8s done\n",
      "#4 sha256:ed621a90b0fc0b0de0fb6da8a971e9a75b42f200fa6bac6246c1b21d2eafbac3 0B / 433B 11.8s\n",
      "#4 sha256:ed621a90b0fc0b0de0fb6da8a971e9a75b42f200fa6bac6246c1b21d2eafbac3 433B / 433B 11.9s\n",
      "#4 sha256:56b77bbcf0531e8cd9e5a631dc47cc74f0809b4d583d36c3bccb8e2f1ed761f5 0B / 2.81kB 12.1s\n",
      "#4 sha256:96e0030bb2d295bb1b5cafd150606852d99f1ff92b307f0d46e9bd913a3d78e8 92.27MB / 243.89MB 12.3s\n",
      "#4 sha256:96e0030bb2d295bb1b5cafd150606852d99f1ff92b307f0d46e9bd913a3d78e8 133.17MB / 243.89MB 12.5s\n",
      "#4 sha256:ed621a90b0fc0b0de0fb6da8a971e9a75b42f200fa6bac6246c1b21d2eafbac3 433B / 433B 12.3s done\n",
      "#4 sha256:56b77bbcf0531e8cd9e5a631dc47cc74f0809b4d583d36c3bccb8e2f1ed761f5 2.81kB / 2.81kB 12.5s\n",
      "#4 sha256:96e0030bb2d295bb1b5cafd150606852d99f1ff92b307f0d46e9bd913a3d78e8 154.14MB / 243.89MB 12.6s\n",
      "#4 sha256:96e0030bb2d295bb1b5cafd150606852d99f1ff92b307f0d46e9bd913a3d78e8 174.06MB / 243.89MB 12.7s\n",
      "#4 sha256:96e0030bb2d295bb1b5cafd150606852d99f1ff92b307f0d46e9bd913a3d78e8 206.57MB / 243.89MB 12.9s\n",
      "#4 sha256:96e0030bb2d295bb1b5cafd150606852d99f1ff92b307f0d46e9bd913a3d78e8 227.54MB / 243.89MB 13.0s\n",
      "#4 sha256:96e0030bb2d295bb1b5cafd150606852d99f1ff92b307f0d46e9bd913a3d78e8 243.89MB / 243.89MB 13.2s\n",
      "#4 sha256:a3c27f64127b606ad37cac8467a931cabe3ae3aec42bcab37bfdb099030fdf7f 0B / 313.77MB 14.0s\n",
      "#4 sha256:a3c27f64127b606ad37cac8467a931cabe3ae3aec42bcab37bfdb099030fdf7f 27.26MB / 313.77MB 14.6s\n",
      "#4 sha256:a3c27f64127b606ad37cac8467a931cabe3ae3aec42bcab37bfdb099030fdf7f 42.99MB / 313.77MB 14.7s\n",
      "#4 sha256:a3c27f64127b606ad37cac8467a931cabe3ae3aec42bcab37bfdb099030fdf7f 58.72MB / 313.77MB 14.9s\n",
      "#4 sha256:56b77bbcf0531e8cd9e5a631dc47cc74f0809b4d583d36c3bccb8e2f1ed761f5 2.81kB / 2.81kB 14.5s done\n",
      "#4 sha256:a3c27f64127b606ad37cac8467a931cabe3ae3aec42bcab37bfdb099030fdf7f 105.91MB / 313.77MB 15.3s\n",
      "#4 sha256:a3c27f64127b606ad37cac8467a931cabe3ae3aec42bcab37bfdb099030fdf7f 134.22MB / 313.77MB 15.5s\n",
      "#4 sha256:a3c27f64127b606ad37cac8467a931cabe3ae3aec42bcab37bfdb099030fdf7f 151.44MB / 313.77MB 15.6s\n",
      "#4 extracting sha256:495e9b1f57cf2c6d6d8e97a2b579177065820753648fd7c66c9800bebd1d617f\n",
      "#4 sha256:a3c27f64127b606ad37cac8467a931cabe3ae3aec42bcab37bfdb099030fdf7f 190.84MB / 313.77MB 15.8s\n",
      "#4 sha256:a3c27f64127b606ad37cac8467a931cabe3ae3aec42bcab37bfdb099030fdf7f 209.72MB / 313.77MB 15.9s\n",
      "#4 sha256:a3c27f64127b606ad37cac8467a931cabe3ae3aec42bcab37bfdb099030fdf7f 230.06MB / 313.77MB 16.0s\n",
      "#4 sha256:a3c27f64127b606ad37cac8467a931cabe3ae3aec42bcab37bfdb099030fdf7f 246.42MB / 313.77MB 16.2s\n",
      "#4 sha256:a3c27f64127b606ad37cac8467a931cabe3ae3aec42bcab37bfdb099030fdf7f 266.34MB / 313.77MB 16.4s\n",
      "#4 sha256:a3c27f64127b606ad37cac8467a931cabe3ae3aec42bcab37bfdb099030fdf7f 296.75MB / 313.77MB 16.6s\n",
      "#4 sha256:a3c27f64127b606ad37cac8467a931cabe3ae3aec42bcab37bfdb099030fdf7f 313.77MB / 313.77MB 16.7s\n",
      "#4 sha256:dbe0a72ef98aac36a26f9ac382a8738611e684604bf4a440a03e23994ee359ec 0B / 397.15MB 17.0s\n",
      "#4 extracting sha256:495e9b1f57cf2c6d6d8e97a2b579177065820753648fd7c66c9800bebd1d617f 1.7s done\n",
      "#4 sha256:dbe0a72ef98aac36a26f9ac382a8738611e684604bf4a440a03e23994ee359ec 57.67MB / 397.15MB 17.4s\n",
      "#4 sha256:dbe0a72ef98aac36a26f9ac382a8738611e684604bf4a440a03e23994ee359ec 105.91MB / 397.15MB 17.7s\n",
      "#4 sha256:dbe0a72ef98aac36a26f9ac382a8738611e684604bf4a440a03e23994ee359ec 139.46MB / 397.15MB 17.9s\n",
      "#4 sha256:dbe0a72ef98aac36a26f9ac382a8738611e684604bf4a440a03e23994ee359ec 180.36MB / 397.15MB 18.2s\n",
      "#4 sha256:96e0030bb2d295bb1b5cafd150606852d99f1ff92b307f0d46e9bd913a3d78e8 243.89MB / 243.89MB 18.3s\n",
      "#4 sha256:dbe0a72ef98aac36a26f9ac382a8738611e684604bf4a440a03e23994ee359ec 201.33MB / 397.15MB 18.3s\n",
      "#4 sha256:dbe0a72ef98aac36a26f9ac382a8738611e684604bf4a440a03e23994ee359ec 247.46MB / 397.15MB 18.6s\n",
      "#4 sha256:dbe0a72ef98aac36a26f9ac382a8738611e684604bf4a440a03e23994ee359ec 276.82MB / 397.15MB 18.8s\n",
      "#4 extracting sha256:4f4fb700ef54461cfa02571ae0db9a0dc1e0cdb5577484a6d75e68dc38e8acc1\n",
      "#4 sha256:dbe0a72ef98aac36a26f9ac382a8738611e684604bf4a440a03e23994ee359ec 317.33MB / 397.15MB 19.1s\n",
      "#4 sha256:dbe0a72ef98aac36a26f9ac382a8738611e684604bf4a440a03e23994ee359ec 351.27MB / 397.15MB 19.3s\n",
      "#4 sha256:dbe0a72ef98aac36a26f9ac382a8738611e684604bf4a440a03e23994ee359ec 383.78MB / 397.15MB 19.5s\n",
      "#4 extracting sha256:4f4fb700ef54461cfa02571ae0db9a0dc1e0cdb5577484a6d75e68dc38e8acc1 0.8s done\n",
      "#4 sha256:a3c27f64127b606ad37cac8467a931cabe3ae3aec42bcab37bfdb099030fdf7f 313.77MB / 313.77MB 21.7s\n",
      "#4 sha256:96e0030bb2d295bb1b5cafd150606852d99f1ff92b307f0d46e9bd913a3d78e8 243.89MB / 243.89MB 21.5s done\n",
      "#4 extracting sha256:fc343ee71338677d48439d05e9265f06bc4b409394a57c9ffd5933cf18255f8e\n",
      "#4 sha256:1263bd08ce5ae3aff6732538d318f1b51bd65e6176a39b98300ddef63aa38048 0B / 597.21kB 23.6s\n",
      "#4 extracting sha256:fc343ee71338677d48439d05e9265f06bc4b409394a57c9ffd5933cf18255f8e 1.3s done\n",
      "#4 sha256:1263bd08ce5ae3aff6732538d318f1b51bd65e6176a39b98300ddef63aa38048 597.21kB / 597.21kB 24.2s\n",
      "#4 sha256:dbe0a72ef98aac36a26f9ac382a8738611e684604bf4a440a03e23994ee359ec 397.15MB / 397.15MB 24.7s\n",
      "#4 sha256:1263bd08ce5ae3aff6732538d318f1b51bd65e6176a39b98300ddef63aa38048 597.21kB / 597.21kB 25.0s done\n",
      "#4 sha256:a3c27f64127b606ad37cac8467a931cabe3ae3aec42bcab37bfdb099030fdf7f 313.77MB / 313.77MB 26.9s\n",
      "#4 extracting sha256:64e5e0365c94a627970f434d61707b28f09883a6d96b20b11045327b198b058e\n",
      "#4 sha256:4d76720bbbdf6da83f5a4462f53a02c385fa5bd57ae022ff0c3c43768aea3edc 0B / 11.00kB 27.3s\n",
      "#4 sha256:4d76720bbbdf6da83f5a4462f53a02c385fa5bd57ae022ff0c3c43768aea3edc 11.00kB / 11.00kB 27.9s\n",
      "#4 extracting sha256:64e5e0365c94a627970f434d61707b28f09883a6d96b20b11045327b198b058e 1.3s done\n",
      "#4 sha256:4d76720bbbdf6da83f5a4462f53a02c385fa5bd57ae022ff0c3c43768aea3edc 11.00kB / 11.00kB 28.7s done\n",
      "#4 sha256:dbe0a72ef98aac36a26f9ac382a8738611e684604bf4a440a03e23994ee359ec 397.15MB / 397.15MB 29.8s\n",
      "#4 sha256:fd9af73569c6d3b3b7dbcb50aa15e9405b87adf1b550509fc4c4e99123a10074 0B / 3.95GB 31.1s\n",
      "#4 sha256:a3c27f64127b606ad37cac8467a931cabe3ae3aec42bcab37bfdb099030fdf7f 313.77MB / 313.77MB 31.7s done\n",
      "#4 extracting sha256:a4e265e924b90950a9956a87468511dbda3b5b1d9ae0ff6370d836bc0eacc639\n",
      "#4 sha256:fd9af73569c6d3b3b7dbcb50aa15e9405b87adf1b550509fc4c4e99123a10074 202.38MB / 3.95GB 33.0s\n",
      "#4 extracting sha256:a4e265e924b90950a9956a87468511dbda3b5b1d9ae0ff6370d836bc0eacc639 0.7s done\n",
      "#4 sha256:fd9af73569c6d3b3b7dbcb50aa15e9405b87adf1b550509fc4c4e99123a10074 416.28MB / 3.95GB 34.4s\n",
      "#4 sha256:dbe0a72ef98aac36a26f9ac382a8738611e684604bf4a440a03e23994ee359ec 397.15MB / 397.15MB 34.8s done\n",
      "#4 sha256:fd9af73569c6d3b3b7dbcb50aa15e9405b87adf1b550509fc4c4e99123a10074 619.71MB / 3.95GB 35.8s\n",
      "#4 extracting sha256:e2c2fd07bff9b5e62262d6231b3abb856133a44f45c3806e9d9752134cf63703\n",
      "#4 extracting sha256:e2c2fd07bff9b5e62262d6231b3abb856133a44f45c3806e9d9752134cf63703 0.6s done\n",
      "#4 sha256:fd9af73569c6d3b3b7dbcb50aa15e9405b87adf1b550509fc4c4e99123a10074 828.38MB / 3.95GB 37.1s\n",
      "#4 extracting sha256:0c4f60182985297bf3f375af289387227dcd1129c7b869169c866061d1295331 0.1s done\n",
      "#4 extracting sha256:a63b9b1262fd109c8b07b98c065c461c4b49684d004f61fe9f5527b389641655\n",
      "#4 sha256:fd9af73569c6d3b3b7dbcb50aa15e9405b87adf1b550509fc4c4e99123a10074 1.04GB / 3.95GB 38.5s\n",
      "#4 sha256:fd9af73569c6d3b3b7dbcb50aa15e9405b87adf1b550509fc4c4e99123a10074 1.24GB / 3.95GB 39.7s\n",
      "#4 sha256:fd9af73569c6d3b3b7dbcb50aa15e9405b87adf1b550509fc4c4e99123a10074 1.45GB / 3.95GB 41.0s\n",
      "#4 sha256:fd9af73569c6d3b3b7dbcb50aa15e9405b87adf1b550509fc4c4e99123a10074 1.65GB / 3.95GB 42.2s\n",
      "#4 sha256:fd9af73569c6d3b3b7dbcb50aa15e9405b87adf1b550509fc4c4e99123a10074 1.86GB / 3.95GB 43.4s\n",
      "#4 extracting sha256:a63b9b1262fd109c8b07b98c065c461c4b49684d004f61fe9f5527b389641655 5.0s\n",
      "#4 sha256:fd9af73569c6d3b3b7dbcb50aa15e9405b87adf1b550509fc4c4e99123a10074 2.06GB / 3.95GB 44.9s\n",
      "#4 sha256:fd9af73569c6d3b3b7dbcb50aa15e9405b87adf1b550509fc4c4e99123a10074 2.27GB / 3.95GB 46.2s\n",
      "#4 sha256:fd9af73569c6d3b3b7dbcb50aa15e9405b87adf1b550509fc4c4e99123a10074 2.47GB / 3.95GB 47.6s\n",
      "#4 extracting sha256:a63b9b1262fd109c8b07b98c065c461c4b49684d004f61fe9f5527b389641655 10.2s\n",
      "#4 sha256:fd9af73569c6d3b3b7dbcb50aa15e9405b87adf1b550509fc4c4e99123a10074 2.68GB / 3.95GB 49.0s\n",
      "#4 extracting sha256:a63b9b1262fd109c8b07b98c065c461c4b49684d004f61fe9f5527b389641655 11.0s done\n",
      "#4 extracting sha256:48ce0bc44f140feaaaa1f12bec743b6b1c82db711bec4e87e8fdce827662ef08\n",
      "#4 extracting sha256:48ce0bc44f140feaaaa1f12bec743b6b1c82db711bec4e87e8fdce827662ef08 0.1s done\n",
      "#4 extracting sha256:02f4d656889f2dbed3d743adfde6c76292d67044c2246c3cbfb2907057b19d20\n",
      "#4 extracting sha256:02f4d656889f2dbed3d743adfde6c76292d67044c2246c3cbfb2907057b19d20 0.1s done\n",
      "#4 extracting sha256:87e622d6d8d55a86300ced6f377975763570aef1ac0928c6524e219def035e5f 0.1s done\n",
      "#4 sha256:fd9af73569c6d3b3b7dbcb50aa15e9405b87adf1b550509fc4c4e99123a10074 2.91GB / 3.95GB 50.3s\n",
      "#4 extracting sha256:b7900f8fafa1225b8fd8408b50edcf7757a7f07f76bd464225b6b6189ea848de\n",
      "#4 sha256:fd9af73569c6d3b3b7dbcb50aa15e9405b87adf1b550509fc4c4e99123a10074 3.11GB / 3.95GB 51.4s\n",
      "#4 sha256:fd9af73569c6d3b3b7dbcb50aa15e9405b87adf1b550509fc4c4e99123a10074 3.32GB / 3.95GB 52.6s\n",
      "#4 sha256:fd9af73569c6d3b3b7dbcb50aa15e9405b87adf1b550509fc4c4e99123a10074 3.53GB / 3.95GB 53.9s\n",
      "#4 extracting sha256:b7900f8fafa1225b8fd8408b50edcf7757a7f07f76bd464225b6b6189ea848de 4.3s done\n",
      "#4 sha256:fd9af73569c6d3b3b7dbcb50aa15e9405b87adf1b550509fc4c4e99123a10074 3.75GB / 3.95GB 55.1s\n",
      "#4 extracting sha256:274f1c4884281f93b4442023e134b67fcf3bcea500a426d4b68c7f3b813c6e4b\n",
      "#4 sha256:fd9af73569c6d3b3b7dbcb50aa15e9405b87adf1b550509fc4c4e99123a10074 3.95GB / 3.95GB 56.6s\n",
      "#4 extracting sha256:274f1c4884281f93b4442023e134b67fcf3bcea500a426d4b68c7f3b813c6e4b 5.1s\n",
      "#4 sha256:fd9af73569c6d3b3b7dbcb50aa15e9405b87adf1b550509fc4c4e99123a10074 3.95GB / 3.95GB 61.8s\n",
      "#4 sha256:fd9af73569c6d3b3b7dbcb50aa15e9405b87adf1b550509fc4c4e99123a10074 3.95GB / 3.95GB 66.8s\n",
      "#4 extracting sha256:274f1c4884281f93b4442023e134b67fcf3bcea500a426d4b68c7f3b813c6e4b 11.2s\n",
      "#4 extracting sha256:274f1c4884281f93b4442023e134b67fcf3bcea500a426d4b68c7f3b813c6e4b 16.2s\n",
      "#4 sha256:fd9af73569c6d3b3b7dbcb50aa15e9405b87adf1b550509fc4c4e99123a10074 3.95GB / 3.95GB 71.9s\n",
      "#4 extracting sha256:274f1c4884281f93b4442023e134b67fcf3bcea500a426d4b68c7f3b813c6e4b 21.4s\n",
      "#4 sha256:fd9af73569c6d3b3b7dbcb50aa15e9405b87adf1b550509fc4c4e99123a10074 3.95GB / 3.95GB 77.0s\n",
      "#4 extracting sha256:274f1c4884281f93b4442023e134b67fcf3bcea500a426d4b68c7f3b813c6e4b 22.8s done\n",
      "#4 extracting sha256:cd0bdba38181c5c59ee6745978fec0ea7ae78ed70e89075bbc1c6fc25f4488ce\n",
      "#4 sha256:fd9af73569c6d3b3b7dbcb50aa15e9405b87adf1b550509fc4c4e99123a10074 3.95GB / 3.95GB 82.0s\n",
      "#4 extracting sha256:cd0bdba38181c5c59ee6745978fec0ea7ae78ed70e89075bbc1c6fc25f4488ce 1.0s done\n",
      "#4 extracting sha256:1389a59ee1103041d8ba9ef1eba0693f205803ef609b288407aa48d6ca0e1ba6\n",
      "#4 extracting sha256:1389a59ee1103041d8ba9ef1eba0693f205803ef609b288407aa48d6ca0e1ba6 0.7s done\n",
      "#4 extracting sha256:42d093ca080778bcd543d6c28c5d6ba84ab9828cc27c3afbbec36d606ce2be1d\n",
      "#4 sha256:fd9af73569c6d3b3b7dbcb50aa15e9405b87adf1b550509fc4c4e99123a10074 3.95GB / 3.95GB 87.0s\n",
      "#4 extracting sha256:42d093ca080778bcd543d6c28c5d6ba84ab9828cc27c3afbbec36d606ce2be1d 0.7s done\n",
      "#4 sha256:fd9af73569c6d3b3b7dbcb50aa15e9405b87adf1b550509fc4c4e99123a10074 3.95GB / 3.95GB 92.2s\n",
      "#4 extracting sha256:96e0030bb2d295bb1b5cafd150606852d99f1ff92b307f0d46e9bd913a3d78e8 0.1s\n",
      "#4 sha256:fd9af73569c6d3b3b7dbcb50aa15e9405b87adf1b550509fc4c4e99123a10074 3.95GB / 3.95GB 97.3s\n",
      "#4 extracting sha256:96e0030bb2d295bb1b5cafd150606852d99f1ff92b307f0d46e9bd913a3d78e8 5.2s\n",
      "#4 sha256:fd9af73569c6d3b3b7dbcb50aa15e9405b87adf1b550509fc4c4e99123a10074 3.95GB / 3.95GB 100.0s done\n",
      "#4 extracting sha256:96e0030bb2d295bb1b5cafd150606852d99f1ff92b307f0d46e9bd913a3d78e8 10.4s\n",
      "#4 extracting sha256:96e0030bb2d295bb1b5cafd150606852d99f1ff92b307f0d46e9bd913a3d78e8 15.5s\n",
      "#4 extracting sha256:96e0030bb2d295bb1b5cafd150606852d99f1ff92b307f0d46e9bd913a3d78e8 20.9s\n",
      "#4 extracting sha256:96e0030bb2d295bb1b5cafd150606852d99f1ff92b307f0d46e9bd913a3d78e8 26.0s\n",
      "#4 extracting sha256:96e0030bb2d295bb1b5cafd150606852d99f1ff92b307f0d46e9bd913a3d78e8 28.1s done\n",
      "#4 extracting sha256:fcc5e6a41fda939c85db54112a0dd554c1d4ad04ee5ddd35c01b0ba229cecce9\n",
      "#4 extracting sha256:fcc5e6a41fda939c85db54112a0dd554c1d4ad04ee5ddd35c01b0ba229cecce9 0.1s done\n",
      "#4 extracting sha256:ed621a90b0fc0b0de0fb6da8a971e9a75b42f200fa6bac6246c1b21d2eafbac3\n",
      "#4 extracting sha256:ed621a90b0fc0b0de0fb6da8a971e9a75b42f200fa6bac6246c1b21d2eafbac3 0.1s done\n",
      "#4 extracting sha256:56b77bbcf0531e8cd9e5a631dc47cc74f0809b4d583d36c3bccb8e2f1ed761f5\n",
      "#4 extracting sha256:56b77bbcf0531e8cd9e5a631dc47cc74f0809b4d583d36c3bccb8e2f1ed761f5 0.1s done\n",
      "#4 extracting sha256:a3c27f64127b606ad37cac8467a931cabe3ae3aec42bcab37bfdb099030fdf7f\n",
      "#4 extracting sha256:a3c27f64127b606ad37cac8467a931cabe3ae3aec42bcab37bfdb099030fdf7f 5.0s\n",
      "#4 extracting sha256:a3c27f64127b606ad37cac8467a931cabe3ae3aec42bcab37bfdb099030fdf7f 10.1s\n",
      "#4 extracting sha256:a3c27f64127b606ad37cac8467a931cabe3ae3aec42bcab37bfdb099030fdf7f 15.1s\n",
      "#4 extracting sha256:a3c27f64127b606ad37cac8467a931cabe3ae3aec42bcab37bfdb099030fdf7f 20.3s\n",
      "#4 extracting sha256:a3c27f64127b606ad37cac8467a931cabe3ae3aec42bcab37bfdb099030fdf7f 23.6s done\n",
      "#4 extracting sha256:dbe0a72ef98aac36a26f9ac382a8738611e684604bf4a440a03e23994ee359ec\n",
      "#4 extracting sha256:dbe0a72ef98aac36a26f9ac382a8738611e684604bf4a440a03e23994ee359ec 5.1s\n",
      "#4 extracting sha256:dbe0a72ef98aac36a26f9ac382a8738611e684604bf4a440a03e23994ee359ec 10.2s\n",
      "#4 extracting sha256:dbe0a72ef98aac36a26f9ac382a8738611e684604bf4a440a03e23994ee359ec 15.2s\n",
      "#4 extracting sha256:dbe0a72ef98aac36a26f9ac382a8738611e684604bf4a440a03e23994ee359ec 20.3s\n",
      "#4 extracting sha256:dbe0a72ef98aac36a26f9ac382a8738611e684604bf4a440a03e23994ee359ec 25.5s\n",
      "#4 extracting sha256:dbe0a72ef98aac36a26f9ac382a8738611e684604bf4a440a03e23994ee359ec 30.6s\n",
      "#4 extracting sha256:dbe0a72ef98aac36a26f9ac382a8738611e684604bf4a440a03e23994ee359ec 35.7s\n",
      "#4 extracting sha256:dbe0a72ef98aac36a26f9ac382a8738611e684604bf4a440a03e23994ee359ec 40.8s\n",
      "#4 extracting sha256:dbe0a72ef98aac36a26f9ac382a8738611e684604bf4a440a03e23994ee359ec 45.9s\n",
      "#4 extracting sha256:dbe0a72ef98aac36a26f9ac382a8738611e684604bf4a440a03e23994ee359ec 51.0s\n",
      "#4 extracting sha256:dbe0a72ef98aac36a26f9ac382a8738611e684604bf4a440a03e23994ee359ec 56.6s\n",
      "#4 extracting sha256:dbe0a72ef98aac36a26f9ac382a8738611e684604bf4a440a03e23994ee359ec 61.7s\n",
      "#4 extracting sha256:dbe0a72ef98aac36a26f9ac382a8738611e684604bf4a440a03e23994ee359ec 62.7s done\n",
      "#4 extracting sha256:1263bd08ce5ae3aff6732538d318f1b51bd65e6176a39b98300ddef63aa38048\n",
      "#4 extracting sha256:1263bd08ce5ae3aff6732538d318f1b51bd65e6176a39b98300ddef63aa38048 2.9s done\n",
      "#4 extracting sha256:4d76720bbbdf6da83f5a4462f53a02c385fa5bd57ae022ff0c3c43768aea3edc\n",
      "#4 extracting sha256:4d76720bbbdf6da83f5a4462f53a02c385fa5bd57ae022ff0c3c43768aea3edc 0.4s done\n",
      "#4 extracting sha256:fd9af73569c6d3b3b7dbcb50aa15e9405b87adf1b550509fc4c4e99123a10074\n",
      "#4 extracting sha256:fd9af73569c6d3b3b7dbcb50aa15e9405b87adf1b550509fc4c4e99123a10074 5.1s\n",
      "#4 extracting sha256:fd9af73569c6d3b3b7dbcb50aa15e9405b87adf1b550509fc4c4e99123a10074 10.2s\n",
      "#4 extracting sha256:fd9af73569c6d3b3b7dbcb50aa15e9405b87adf1b550509fc4c4e99123a10074 15.3s\n",
      "#4 extracting sha256:fd9af73569c6d3b3b7dbcb50aa15e9405b87adf1b550509fc4c4e99123a10074 20.4s\n",
      "#4 extracting sha256:fd9af73569c6d3b3b7dbcb50aa15e9405b87adf1b550509fc4c4e99123a10074 25.4s\n",
      "#4 extracting sha256:fd9af73569c6d3b3b7dbcb50aa15e9405b87adf1b550509fc4c4e99123a10074 30.4s\n",
      "#4 extracting sha256:fd9af73569c6d3b3b7dbcb50aa15e9405b87adf1b550509fc4c4e99123a10074 35.4s\n",
      "#4 extracting sha256:fd9af73569c6d3b3b7dbcb50aa15e9405b87adf1b550509fc4c4e99123a10074 40.5s\n",
      "#4 extracting sha256:fd9af73569c6d3b3b7dbcb50aa15e9405b87adf1b550509fc4c4e99123a10074 45.6s\n",
      "#4 extracting sha256:fd9af73569c6d3b3b7dbcb50aa15e9405b87adf1b550509fc4c4e99123a10074 50.6s\n",
      "#4 extracting sha256:fd9af73569c6d3b3b7dbcb50aa15e9405b87adf1b550509fc4c4e99123a10074 55.6s\n",
      "#4 extracting sha256:fd9af73569c6d3b3b7dbcb50aa15e9405b87adf1b550509fc4c4e99123a10074 60.7s\n",
      "#4 extracting sha256:fd9af73569c6d3b3b7dbcb50aa15e9405b87adf1b550509fc4c4e99123a10074 65.7s\n",
      "#4 extracting sha256:fd9af73569c6d3b3b7dbcb50aa15e9405b87adf1b550509fc4c4e99123a10074 70.8s\n",
      "#4 extracting sha256:fd9af73569c6d3b3b7dbcb50aa15e9405b87adf1b550509fc4c4e99123a10074 75.8s\n",
      "#4 extracting sha256:fd9af73569c6d3b3b7dbcb50aa15e9405b87adf1b550509fc4c4e99123a10074 80.9s\n",
      "#4 extracting sha256:fd9af73569c6d3b3b7dbcb50aa15e9405b87adf1b550509fc4c4e99123a10074 85.9s\n",
      "#4 extracting sha256:fd9af73569c6d3b3b7dbcb50aa15e9405b87adf1b550509fc4c4e99123a10074 91.0s\n",
      "#4 extracting sha256:fd9af73569c6d3b3b7dbcb50aa15e9405b87adf1b550509fc4c4e99123a10074 96.1s\n",
      "#4 extracting sha256:fd9af73569c6d3b3b7dbcb50aa15e9405b87adf1b550509fc4c4e99123a10074 101.3s\n",
      "#4 extracting sha256:fd9af73569c6d3b3b7dbcb50aa15e9405b87adf1b550509fc4c4e99123a10074 106.3s\n",
      "#4 extracting sha256:fd9af73569c6d3b3b7dbcb50aa15e9405b87adf1b550509fc4c4e99123a10074 111.4s\n",
      "#4 extracting sha256:fd9af73569c6d3b3b7dbcb50aa15e9405b87adf1b550509fc4c4e99123a10074 116.4s\n",
      "#4 extracting sha256:fd9af73569c6d3b3b7dbcb50aa15e9405b87adf1b550509fc4c4e99123a10074 121.5s\n",
      "#4 extracting sha256:fd9af73569c6d3b3b7dbcb50aa15e9405b87adf1b550509fc4c4e99123a10074 126.5s\n",
      "#4 extracting sha256:fd9af73569c6d3b3b7dbcb50aa15e9405b87adf1b550509fc4c4e99123a10074 131.6s\n",
      "#4 extracting sha256:fd9af73569c6d3b3b7dbcb50aa15e9405b87adf1b550509fc4c4e99123a10074 136.6s\n",
      "#4 extracting sha256:fd9af73569c6d3b3b7dbcb50aa15e9405b87adf1b550509fc4c4e99123a10074 141.8s\n",
      "#4 extracting sha256:fd9af73569c6d3b3b7dbcb50aa15e9405b87adf1b550509fc4c4e99123a10074 146.9s\n",
      "#4 extracting sha256:fd9af73569c6d3b3b7dbcb50aa15e9405b87adf1b550509fc4c4e99123a10074 152.0s\n",
      "#4 extracting sha256:fd9af73569c6d3b3b7dbcb50aa15e9405b87adf1b550509fc4c4e99123a10074 157.0s\n",
      "#4 extracting sha256:fd9af73569c6d3b3b7dbcb50aa15e9405b87adf1b550509fc4c4e99123a10074 162.1s\n",
      "#4 extracting sha256:fd9af73569c6d3b3b7dbcb50aa15e9405b87adf1b550509fc4c4e99123a10074 167.1s\n",
      "#4 extracting sha256:fd9af73569c6d3b3b7dbcb50aa15e9405b87adf1b550509fc4c4e99123a10074 172.2s\n",
      "#4 extracting sha256:fd9af73569c6d3b3b7dbcb50aa15e9405b87adf1b550509fc4c4e99123a10074 177.3s\n",
      "#4 extracting sha256:fd9af73569c6d3b3b7dbcb50aa15e9405b87adf1b550509fc4c4e99123a10074 182.5s\n",
      "#4 extracting sha256:fd9af73569c6d3b3b7dbcb50aa15e9405b87adf1b550509fc4c4e99123a10074 187.6s\n",
      "#4 extracting sha256:fd9af73569c6d3b3b7dbcb50aa15e9405b87adf1b550509fc4c4e99123a10074 192.6s\n",
      "#4 extracting sha256:fd9af73569c6d3b3b7dbcb50aa15e9405b87adf1b550509fc4c4e99123a10074 197.7s\n",
      "#4 extracting sha256:fd9af73569c6d3b3b7dbcb50aa15e9405b87adf1b550509fc4c4e99123a10074 202.7s\n",
      "#4 extracting sha256:fd9af73569c6d3b3b7dbcb50aa15e9405b87adf1b550509fc4c4e99123a10074 207.8s\n",
      "#4 extracting sha256:fd9af73569c6d3b3b7dbcb50aa15e9405b87adf1b550509fc4c4e99123a10074 212.9s\n",
      "#4 extracting sha256:fd9af73569c6d3b3b7dbcb50aa15e9405b87adf1b550509fc4c4e99123a10074 218.0s\n",
      "#4 extracting sha256:fd9af73569c6d3b3b7dbcb50aa15e9405b87adf1b550509fc4c4e99123a10074 223.0s\n",
      "#4 extracting sha256:fd9af73569c6d3b3b7dbcb50aa15e9405b87adf1b550509fc4c4e99123a10074 228.1s\n",
      "#4 extracting sha256:fd9af73569c6d3b3b7dbcb50aa15e9405b87adf1b550509fc4c4e99123a10074 233.1s\n",
      "#4 extracting sha256:fd9af73569c6d3b3b7dbcb50aa15e9405b87adf1b550509fc4c4e99123a10074 238.2s\n",
      "#4 extracting sha256:fd9af73569c6d3b3b7dbcb50aa15e9405b87adf1b550509fc4c4e99123a10074 243.2s\n",
      "#4 extracting sha256:fd9af73569c6d3b3b7dbcb50aa15e9405b87adf1b550509fc4c4e99123a10074 248.4s\n",
      "#4 extracting sha256:fd9af73569c6d3b3b7dbcb50aa15e9405b87adf1b550509fc4c4e99123a10074 253.5s\n",
      "#4 extracting sha256:fd9af73569c6d3b3b7dbcb50aa15e9405b87adf1b550509fc4c4e99123a10074 258.6s\n",
      "#4 extracting sha256:fd9af73569c6d3b3b7dbcb50aa15e9405b87adf1b550509fc4c4e99123a10074 263.6s\n",
      "#4 extracting sha256:fd9af73569c6d3b3b7dbcb50aa15e9405b87adf1b550509fc4c4e99123a10074 268.7s\n",
      "#4 extracting sha256:fd9af73569c6d3b3b7dbcb50aa15e9405b87adf1b550509fc4c4e99123a10074 273.7s\n",
      "#4 extracting sha256:fd9af73569c6d3b3b7dbcb50aa15e9405b87adf1b550509fc4c4e99123a10074 278.8s\n",
      "#4 extracting sha256:fd9af73569c6d3b3b7dbcb50aa15e9405b87adf1b550509fc4c4e99123a10074 280.4s done\n",
      "#4 DONE 669.2s\n",
      "\n",
      "#5 [2/3] RUN pip install --pre --no-cache-dir lightning &&     fix-permissions \"/opt/conda\" &&     fix-permissions \"/home/jovyan\"\n",
      "#5 12.11 Collecting lightning\n",
      "#5 12.24   Downloading lightning-2.5.1.post0-py3-none-any.whl.metadata (39 kB)\n",
      "#5 12.34 Requirement already satisfied: PyYAML<8.0,>=5.4 in /opt/conda/lib/python3.12/site-packages (from lightning) (6.0.2)\n",
      "#5 12.34 Requirement already satisfied: fsspec<2026.0,>=2022.5.0 in /opt/conda/lib/python3.12/site-packages (from fsspec[http]<2026.0,>=2022.5.0->lightning) (2025.3.2)\n",
      "#5 12.36 Collecting lightning-utilities<2.0,>=0.10.0 (from lightning)\n",
      "#5 12.47   Downloading lightning_utilities-0.14.3-py3-none-any.whl.metadata (5.6 kB)\n",
      "#5 12.50 Collecting packaging<25.0,>=20.0 (from lightning)\n",
      "#5 12.62   Downloading packaging-24.2-py3-none-any.whl.metadata (3.2 kB)\n",
      "#5 12.62 Requirement already satisfied: torch<4.0,>=2.1.0 in /opt/conda/lib/python3.12/site-packages (from lightning) (2.7.0+cu128)\n",
      "#5 12.66 Collecting torchmetrics<3.0,>=0.7.0 (from lightning)\n",
      "#5 12.80   Downloading torchmetrics-1.7.1-py3-none-any.whl.metadata (21 kB)\n",
      "#5 12.89 Requirement already satisfied: tqdm<6.0,>=4.57.0 in /opt/conda/lib/python3.12/site-packages (from lightning) (4.67.1)\n",
      "#5 12.89 Requirement already satisfied: typing-extensions<6.0,>=4.4.0 in /opt/conda/lib/python3.12/site-packages (from lightning) (4.13.2)\n",
      "#5 12.95 Collecting pytorch-lightning (from lightning)\n",
      "#5 13.14   Downloading pytorch_lightning-2.5.1.post0-py3-none-any.whl.metadata (20 kB)\n",
      "#5 13.71 Collecting aiohttp!=4.0.0a0,!=4.0.0a1 (from fsspec[http]<2026.0,>=2022.5.0->lightning)\n",
      "#5 13.93   Downloading aiohttp-3.11.18-cp312-cp312-manylinux_2_17_x86_64.manylinux2014_x86_64.whl.metadata (7.7 kB)\n",
      "#5 13.94 Requirement already satisfied: setuptools in /opt/conda/lib/python3.12/site-packages (from lightning-utilities<2.0,>=0.10.0->lightning) (80.1.0)\n",
      "#5 13.94 Requirement already satisfied: filelock in /opt/conda/lib/python3.12/site-packages (from torch<4.0,>=2.1.0->lightning) (3.13.1)\n",
      "#5 13.95 Requirement already satisfied: sympy>=1.13.3 in /opt/conda/lib/python3.12/site-packages (from torch<4.0,>=2.1.0->lightning) (1.14.0)\n",
      "#5 13.95 Requirement already satisfied: networkx in /opt/conda/lib/python3.12/site-packages (from torch<4.0,>=2.1.0->lightning) (3.4.2)\n",
      "#5 13.95 Requirement already satisfied: jinja2 in /opt/conda/lib/python3.12/site-packages (from torch<4.0,>=2.1.0->lightning) (3.1.6)\n",
      "#5 13.95 Requirement already satisfied: nvidia-cuda-nvrtc-cu12==12.8.61 in /opt/conda/lib/python3.12/site-packages (from torch<4.0,>=2.1.0->lightning) (12.8.61)\n",
      "#5 13.95 Requirement already satisfied: nvidia-cuda-runtime-cu12==12.8.57 in /opt/conda/lib/python3.12/site-packages (from torch<4.0,>=2.1.0->lightning) (12.8.57)\n",
      "#5 13.95 Requirement already satisfied: nvidia-cuda-cupti-cu12==12.8.57 in /opt/conda/lib/python3.12/site-packages (from torch<4.0,>=2.1.0->lightning) (12.8.57)\n",
      "#5 13.95 Requirement already satisfied: nvidia-cudnn-cu12==9.7.1.26 in /opt/conda/lib/python3.12/site-packages (from torch<4.0,>=2.1.0->lightning) (9.7.1.26)\n",
      "#5 13.95 Requirement already satisfied: nvidia-cublas-cu12==12.8.3.14 in /opt/conda/lib/python3.12/site-packages (from torch<4.0,>=2.1.0->lightning) (12.8.3.14)\n",
      "#5 13.95 Requirement already satisfied: nvidia-cufft-cu12==11.3.3.41 in /opt/conda/lib/python3.12/site-packages (from torch<4.0,>=2.1.0->lightning) (11.3.3.41)\n",
      "#5 13.96 Requirement already satisfied: nvidia-curand-cu12==10.3.9.55 in /opt/conda/lib/python3.12/site-packages (from torch<4.0,>=2.1.0->lightning) (10.3.9.55)\n",
      "#5 13.96 Requirement already satisfied: nvidia-cusolver-cu12==11.7.2.55 in /opt/conda/lib/python3.12/site-packages (from torch<4.0,>=2.1.0->lightning) (11.7.2.55)\n",
      "#5 13.96 Requirement already satisfied: nvidia-cusparse-cu12==12.5.7.53 in /opt/conda/lib/python3.12/site-packages (from torch<4.0,>=2.1.0->lightning) (12.5.7.53)\n",
      "#5 13.96 Requirement already satisfied: nvidia-cusparselt-cu12==0.6.3 in /opt/conda/lib/python3.12/site-packages (from torch<4.0,>=2.1.0->lightning) (0.6.3)\n",
      "#5 13.96 Requirement already satisfied: nvidia-nccl-cu12==2.26.2 in /opt/conda/lib/python3.12/site-packages (from torch<4.0,>=2.1.0->lightning) (2.26.2)\n",
      "#5 13.96 Requirement already satisfied: nvidia-nvtx-cu12==12.8.55 in /opt/conda/lib/python3.12/site-packages (from torch<4.0,>=2.1.0->lightning) (12.8.55)\n",
      "#5 13.96 Requirement already satisfied: nvidia-nvjitlink-cu12==12.8.61 in /opt/conda/lib/python3.12/site-packages (from torch<4.0,>=2.1.0->lightning) (12.8.61)\n",
      "#5 13.96 Requirement already satisfied: nvidia-cufile-cu12==1.13.0.11 in /opt/conda/lib/python3.12/site-packages (from torch<4.0,>=2.1.0->lightning) (1.13.0.11)\n",
      "#5 13.96 Requirement already satisfied: triton==3.3.0 in /opt/conda/lib/python3.12/site-packages (from torch<4.0,>=2.1.0->lightning) (3.3.0)\n",
      "#5 13.98 Requirement already satisfied: numpy>1.20.0 in /opt/conda/lib/python3.12/site-packages (from torchmetrics<3.0,>=0.7.0->lightning) (2.2.5)\n",
      "#5 14.02 Collecting aiohappyeyeballs>=2.3.0 (from aiohttp!=4.0.0a0,!=4.0.0a1->fsspec[http]<2026.0,>=2022.5.0->lightning)\n",
      "#5 14.26   Downloading aiohappyeyeballs-2.6.1-py3-none-any.whl.metadata (5.9 kB)\n",
      "#5 14.27 Collecting aiosignal>=1.1.2 (from aiohttp!=4.0.0a0,!=4.0.0a1->fsspec[http]<2026.0,>=2022.5.0->lightning)\n",
      "#5 14.63   Downloading aiosignal-1.3.2-py2.py3-none-any.whl.metadata (3.8 kB)\n",
      "#5 14.64 Requirement already satisfied: attrs>=17.3.0 in /opt/conda/lib/python3.12/site-packages (from aiohttp!=4.0.0a0,!=4.0.0a1->fsspec[http]<2026.0,>=2022.5.0->lightning) (25.3.0)\n",
      "#5 14.70 Collecting frozenlist>=1.1.1 (from aiohttp!=4.0.0a0,!=4.0.0a1->fsspec[http]<2026.0,>=2022.5.0->lightning)\n",
      "#5 14.93   Downloading frozenlist-1.6.0-cp312-cp312-manylinux_2_5_x86_64.manylinux1_x86_64.manylinux_2_17_x86_64.manylinux2014_x86_64.whl.metadata (16 kB)\n",
      "#5 15.21 Collecting multidict<7.0,>=4.5 (from aiohttp!=4.0.0a0,!=4.0.0a1->fsspec[http]<2026.0,>=2022.5.0->lightning)\n",
      "#5 15.45   Downloading multidict-6.4.3-cp312-cp312-manylinux_2_17_x86_64.manylinux2014_x86_64.whl.metadata (5.3 kB)\n",
      "#5 15.50 Collecting propcache>=0.2.0 (from aiohttp!=4.0.0a0,!=4.0.0a1->fsspec[http]<2026.0,>=2022.5.0->lightning)\n",
      "#5 15.77   Downloading propcache-0.3.1-cp312-cp312-manylinux_2_17_x86_64.manylinux2014_x86_64.whl.metadata (10 kB)\n",
      "#5 16.09 Collecting yarl<2.0,>=1.17.0 (from aiohttp!=4.0.0a0,!=4.0.0a1->fsspec[http]<2026.0,>=2022.5.0->lightning)\n",
      "#5 16.28   Downloading yarl-1.20.0-cp312-cp312-manylinux_2_17_x86_64.manylinux2014_x86_64.whl.metadata (72 kB)\n",
      "#5 16.31 Requirement already satisfied: idna>=2.0 in /opt/conda/lib/python3.12/site-packages (from yarl<2.0,>=1.17.0->aiohttp!=4.0.0a0,!=4.0.0a1->fsspec[http]<2026.0,>=2022.5.0->lightning) (3.10)\n",
      "#5 16.35 Requirement already satisfied: mpmath<1.4,>=1.1.0 in /opt/conda/lib/python3.12/site-packages (from sympy>=1.13.3->torch<4.0,>=2.1.0->lightning) (1.3.0)\n",
      "#5 16.36 Requirement already satisfied: MarkupSafe>=2.0 in /opt/conda/lib/python3.12/site-packages (from jinja2->torch<4.0,>=2.1.0->lightning) (3.0.2)\n",
      "#5 16.58 Downloading lightning-2.5.1.post0-py3-none-any.whl (819 kB)\n",
      "#5 16.66    ━━━━━━━━━━━━━━━━━━━━━━━━━━━━━━━━━━━━━━━━ 819.0/819.0 kB 10.4 MB/s eta 0:00:00\n",
      "#5 16.94 Downloading lightning_utilities-0.14.3-py3-none-any.whl (28 kB)\n",
      "#5 17.23 Downloading packaging-24.2-py3-none-any.whl (65 kB)\n",
      "#5 17.39 Downloading torchmetrics-1.7.1-py3-none-any.whl (961 kB)\n",
      "#5 17.43    ━━━━━━━━━━━━━━━━━━━━━━━━━━━━━━━━━━━━━━━━ 961.5/961.5 kB 44.4 MB/s eta 0:00:00\n",
      "#5 17.60 Downloading aiohttp-3.11.18-cp312-cp312-manylinux_2_17_x86_64.manylinux2014_x86_64.whl (1.7 MB)\n",
      "#5 17.62    ━━━━━━━━━━━━━━━━━━━━━━━━━━━━━━━━━━━━━━━━ 1.7/1.7 MB 101.6 MB/s eta 0:00:00\n",
      "#5 17.69 Downloading multidict-6.4.3-cp312-cp312-manylinux_2_17_x86_64.manylinux2014_x86_64.whl (223 kB)\n",
      "#5 17.77 Downloading yarl-1.20.0-cp312-cp312-manylinux_2_17_x86_64.manylinux2014_x86_64.whl (349 kB)\n",
      "#5 17.82 Downloading aiohappyeyeballs-2.6.1-py3-none-any.whl (15 kB)\n",
      "#5 17.89 Downloading aiosignal-1.3.2-py2.py3-none-any.whl (7.6 kB)\n",
      "#5 17.99 Downloading frozenlist-1.6.0-cp312-cp312-manylinux_2_5_x86_64.manylinux1_x86_64.manylinux_2_17_x86_64.manylinux2014_x86_64.whl (316 kB)\n",
      "#5 18.09 Downloading propcache-0.3.1-cp312-cp312-manylinux_2_17_x86_64.manylinux2014_x86_64.whl (245 kB)\n",
      "#5 18.17 Downloading pytorch_lightning-2.5.1.post0-py3-none-any.whl (823 kB)\n",
      "#5 18.18    ━━━━━━━━━━━━━━━━━━━━━━━━━━━━━━━━━━━━━━━ 823.1/823.1 kB 277.6 MB/s eta 0:00:00\n",
      "#5 18.63 Installing collected packages: propcache, packaging, multidict, frozenlist, aiohappyeyeballs, yarl, lightning-utilities, aiosignal, aiohttp, torchmetrics, pytorch-lightning, lightning\n",
      "#5 18.76   Attempting uninstall: packaging\n",
      "#5 18.77     Found existing installation: packaging 25.0\n",
      "#5 18.77     Uninstalling packaging-25.0:\n",
      "#5 18.87       Successfully uninstalled packaging-25.0\n",
      "#5 21.59 \n",
      "#5 21.63 Successfully installed aiohappyeyeballs-2.6.1 aiohttp-3.11.18 aiosignal-1.3.2 frozenlist-1.6.0 lightning-2.5.1.post0 lightning-utilities-0.14.3 multidict-6.4.3 packaging-24.2 propcache-0.3.1 pytorch-lightning-2.5.1.post0 torchmetrics-1.7.1 yarl-1.20.0\n",
      "#5 DONE 24.5s\n",
      "\n",
      "#6 [3/3] RUN pip install --pre --no-cache-dir pynvml &&     pip install --pre --no-cache-dir mlflow &&     fix-permissions \"/opt/conda\" &&     fix-permissions \"/home/jovyan\"\n",
      "#6 2.533 Collecting pynvml\n",
      "#6 2.568   Downloading pynvml-12.0.0-py3-none-any.whl.metadata (5.4 kB)\n",
      "#6 2.623 Collecting nvidia-ml-py<13.0.0a0,>=12.0.0 (from pynvml)\n",
      "#6 2.632   Downloading nvidia_ml_py-12.575.51-py3-none-any.whl.metadata (9.3 kB)\n",
      "#6 2.643 Downloading pynvml-12.0.0-py3-none-any.whl (26 kB)\n",
      "#6 2.655 Downloading nvidia_ml_py-12.575.51-py3-none-any.whl (47 kB)\n",
      "#6 3.116 Installing collected packages: nvidia-ml-py, pynvml\n",
      "#6 3.459 \n",
      "#6 3.491 Successfully installed nvidia-ml-py-12.575.51 pynvml-12.0.0\n",
      "#6 4.142 Collecting mlflow\n",
      "#6 4.179   Downloading mlflow-3.0.0rc1-py3-none-any.whl.metadata (29 kB)\n",
      "#6 4.225 Collecting mlflow-skinny==3.0.0rc1 (from mlflow)\n",
      "#6 4.234   Downloading mlflow_skinny-3.0.0rc1-py3-none-any.whl.metadata (30 kB)\n",
      "#6 4.266 Collecting Flask<4 (from mlflow)\n",
      "#6 4.275   Downloading flask-3.1.0-py3-none-any.whl.metadata (2.7 kB)\n",
      "#6 4.278 Requirement already satisfied: Jinja2<4,>=2.11 in /opt/conda/lib/python3.12/site-packages (from mlflow) (3.1.6)\n",
      "#6 4.279 Requirement already satisfied: alembic!=1.10.0,<2 in /opt/conda/lib/python3.12/site-packages (from mlflow) (1.15.2)\n",
      "#6 4.304 Collecting docker<8,>=4.0.0 (from mlflow)\n",
      "#6 4.313   Downloading docker-7.1.0-py3-none-any.whl.metadata (3.8 kB)\n",
      "#6 4.342 Collecting graphene<4 (from mlflow)\n",
      "#6 4.350   Downloading graphene-3.4.3-py2.py3-none-any.whl.metadata (6.9 kB)\n",
      "#6 4.379 Collecting gunicorn<24 (from mlflow)\n",
      "#6 4.387   Downloading gunicorn-23.0.0-py3-none-any.whl.metadata (4.4 kB)\n",
      "#6 4.423 Collecting markdown<4,>=3.3 (from mlflow)\n",
      "#6 4.433   Downloading markdown-3.8-py3-none-any.whl.metadata (5.1 kB)\n",
      "#6 4.437 Requirement already satisfied: matplotlib<4 in /opt/conda/lib/python3.12/site-packages (from mlflow) (3.10.1)\n",
      "#6 4.437 Requirement already satisfied: numpy<3 in /opt/conda/lib/python3.12/site-packages (from mlflow) (2.2.5)\n",
      "#6 4.438 Requirement already satisfied: pandas<3 in /opt/conda/lib/python3.12/site-packages (from mlflow) (2.2.3)\n",
      "#6 4.545 Collecting pyarrow<20,>=4.0.0 (from mlflow)\n",
      "#6 4.553   Downloading pyarrow-19.0.1-cp312-cp312-manylinux_2_28_x86_64.whl.metadata (3.3 kB)\n",
      "#6 4.562 Requirement already satisfied: scikit-learn<2 in /opt/conda/lib/python3.12/site-packages (from mlflow) (1.6.1)\n",
      "#6 4.562 Requirement already satisfied: scipy<2 in /opt/conda/lib/python3.12/site-packages (from mlflow) (1.15.2)\n",
      "#6 4.563 Requirement already satisfied: sqlalchemy<3,>=1.4.0 in /opt/conda/lib/python3.12/site-packages (from mlflow) (2.0.40)\n",
      "#6 4.585 Collecting cachetools<6,>=5.0.0 (from mlflow-skinny==3.0.0rc1->mlflow)\n",
      "#6 4.594   Downloading cachetools-5.5.2-py3-none-any.whl.metadata (5.4 kB)\n",
      "#6 4.596 Requirement already satisfied: click<9,>=7.0 in /opt/conda/lib/python3.12/site-packages (from mlflow-skinny==3.0.0rc1->mlflow) (8.1.8)\n",
      "#6 4.597 Requirement already satisfied: cloudpickle<4 in /opt/conda/lib/python3.12/site-packages (from mlflow-skinny==3.0.0rc1->mlflow) (3.1.1)\n",
      "#6 4.649 Collecting databricks-sdk<1,>=0.20.0 (from mlflow-skinny==3.0.0rc1->mlflow)\n",
      "#6 4.658   Downloading databricks_sdk-0.52.0-py3-none-any.whl.metadata (39 kB)\n",
      "#6 4.732 Collecting fastapi<1 (from mlflow-skinny==3.0.0rc1->mlflow)\n",
      "#6 4.741   Downloading fastapi-0.115.12-py3-none-any.whl.metadata (27 kB)\n",
      "#6 4.749 Requirement already satisfied: gitpython<4,>=3.1.9 in /opt/conda/lib/python3.12/site-packages (from mlflow-skinny==3.0.0rc1->mlflow) (3.1.44)\n",
      "#6 4.750 Requirement already satisfied: importlib_metadata!=4.7.0,<9,>=3.7.0 in /opt/conda/lib/python3.12/site-packages (from mlflow-skinny==3.0.0rc1->mlflow) (8.6.1)\n",
      "#6 4.777 Collecting opentelemetry-api<3,>=1.9.0 (from mlflow-skinny==3.0.0rc1->mlflow)\n",
      "#6 4.786   Downloading opentelemetry_api-1.33.0-py3-none-any.whl.metadata (1.6 kB)\n",
      "#6 4.817 Collecting opentelemetry-sdk<3,>=1.9.0 (from mlflow-skinny==3.0.0rc1->mlflow)\n",
      "#6 4.826   Downloading opentelemetry_sdk-1.33.0-py3-none-any.whl.metadata (1.6 kB)\n",
      "#6 4.828 Requirement already satisfied: packaging<26 in /opt/conda/lib/python3.12/site-packages (from mlflow-skinny==3.0.0rc1->mlflow) (24.2)\n",
      "#6 4.829 Requirement already satisfied: protobuf<7,>=3.12.0 in /opt/conda/lib/python3.12/site-packages (from mlflow-skinny==3.0.0rc1->mlflow) (5.29.3)\n",
      "#6 4.829 Requirement already satisfied: pydantic<3,>=1.10.8 in /opt/conda/lib/python3.12/site-packages (from mlflow-skinny==3.0.0rc1->mlflow) (2.11.3)\n",
      "#6 4.830 Requirement already satisfied: pyyaml<7,>=5.1 in /opt/conda/lib/python3.12/site-packages (from mlflow-skinny==3.0.0rc1->mlflow) (6.0.2)\n",
      "#6 4.831 Requirement already satisfied: requests<3,>=2.17.3 in /opt/conda/lib/python3.12/site-packages (from mlflow-skinny==3.0.0rc1->mlflow) (2.32.3)\n",
      "#6 4.846 Collecting sqlparse<1,>=0.4.0 (from mlflow-skinny==3.0.0rc1->mlflow)\n",
      "#6 4.854   Downloading sqlparse-0.5.3-py3-none-any.whl.metadata (3.9 kB)\n",
      "#6 4.857 Requirement already satisfied: typing-extensions<5,>=4.0.0 in /opt/conda/lib/python3.12/site-packages (from mlflow-skinny==3.0.0rc1->mlflow) (4.13.2)\n",
      "#6 4.890 Collecting uvicorn<1 (from mlflow-skinny==3.0.0rc1->mlflow)\n",
      "#6 4.899   Downloading uvicorn-0.34.2-py3-none-any.whl.metadata (6.5 kB)\n",
      "#6 4.904 Requirement already satisfied: Mako in /opt/conda/lib/python3.12/site-packages (from alembic!=1.10.0,<2->mlflow) (1.3.10)\n",
      "#6 4.962 Collecting google-auth~=2.0 (from databricks-sdk<1,>=0.20.0->mlflow-skinny==3.0.0rc1->mlflow)\n",
      "#6 4.974   Downloading google_auth-2.40.1-py2.py3-none-any.whl.metadata (6.2 kB)\n",
      "#6 4.986 Requirement already satisfied: urllib3>=1.26.0 in /opt/conda/lib/python3.12/site-packages (from docker<8,>=4.0.0->mlflow) (2.4.0)\n",
      "#6 5.018 Collecting starlette<0.47.0,>=0.40.0 (from fastapi<1->mlflow-skinny==3.0.0rc1->mlflow)\n",
      "#6 5.027   Downloading starlette-0.46.2-py3-none-any.whl.metadata (6.2 kB)\n",
      "#6 5.057 Collecting Werkzeug>=3.1 (from Flask<4->mlflow)\n",
      "#6 5.066   Downloading werkzeug-3.1.3-py3-none-any.whl.metadata (3.7 kB)\n",
      "#6 5.083 Collecting itsdangerous>=2.2 (from Flask<4->mlflow)\n",
      "#6 5.092   Downloading itsdangerous-2.2.0-py3-none-any.whl.metadata (1.9 kB)\n",
      "#6 5.094 Requirement already satisfied: blinker>=1.9 in /opt/conda/lib/python3.12/site-packages (from Flask<4->mlflow) (1.9.0)\n",
      "#6 5.096 Requirement already satisfied: gitdb<5,>=4.0.1 in /opt/conda/lib/python3.12/site-packages (from gitpython<4,>=3.1.9->mlflow-skinny==3.0.0rc1->mlflow) (4.0.12)\n",
      "#6 5.100 Requirement already satisfied: smmap<6,>=3.0.1 in /opt/conda/lib/python3.12/site-packages (from gitdb<5,>=4.0.1->gitpython<4,>=3.1.9->mlflow-skinny==3.0.0rc1->mlflow) (5.0.2)\n",
      "#6 5.128 Collecting pyasn1-modules>=0.2.1 (from google-auth~=2.0->databricks-sdk<1,>=0.20.0->mlflow-skinny==3.0.0rc1->mlflow)\n",
      "#6 5.137   Downloading pyasn1_modules-0.4.2-py3-none-any.whl.metadata (3.5 kB)\n",
      "#6 5.156 Collecting rsa<5,>=3.1.4 (from google-auth~=2.0->databricks-sdk<1,>=0.20.0->mlflow-skinny==3.0.0rc1->mlflow)\n",
      "#6 5.202   Downloading rsa-4.9.1-py3-none-any.whl.metadata (5.6 kB)\n",
      "#6 5.234 Collecting graphql-core<3.3,>=3.1 (from graphene<4->mlflow)\n",
      "#6 5.242   Downloading graphql_core-3.2.6-py3-none-any.whl.metadata (11 kB)\n",
      "#6 5.259 Collecting graphql-relay<3.3,>=3.1 (from graphene<4->mlflow)\n",
      "#6 5.268   Downloading graphql_relay-3.2.0-py3-none-any.whl.metadata (12 kB)\n",
      "#6 5.272 Requirement already satisfied: python-dateutil<3,>=2.7.0 in /opt/conda/lib/python3.12/site-packages (from graphene<4->mlflow) (2.9.0.post0)\n",
      "#6 5.290 Requirement already satisfied: zipp>=3.20 in /opt/conda/lib/python3.12/site-packages (from importlib_metadata!=4.7.0,<9,>=3.7.0->mlflow-skinny==3.0.0rc1->mlflow) (3.21.0)\n",
      "#6 5.294 Requirement already satisfied: MarkupSafe>=2.0 in /opt/conda/lib/python3.12/site-packages (from Jinja2<4,>=2.11->mlflow) (3.0.2)\n",
      "#6 5.298 Requirement already satisfied: contourpy>=1.0.1 in /opt/conda/lib/python3.12/site-packages (from matplotlib<4->mlflow) (1.3.2)\n",
      "#6 5.298 Requirement already satisfied: cycler>=0.10 in /opt/conda/lib/python3.12/site-packages (from matplotlib<4->mlflow) (0.12.1)\n",
      "#6 5.299 Requirement already satisfied: fonttools>=4.22.0 in /opt/conda/lib/python3.12/site-packages (from matplotlib<4->mlflow) (4.57.0)\n",
      "#6 5.300 Requirement already satisfied: kiwisolver>=1.3.1 in /opt/conda/lib/python3.12/site-packages (from matplotlib<4->mlflow) (1.4.8)\n",
      "#6 5.301 Requirement already satisfied: pillow>=8 in /opt/conda/lib/python3.12/site-packages (from matplotlib<4->mlflow) (11.1.0)\n",
      "#6 5.302 Requirement already satisfied: pyparsing>=2.3.1 in /opt/conda/lib/python3.12/site-packages (from matplotlib<4->mlflow) (3.2.3)\n",
      "#6 5.321 Collecting deprecated>=1.2.6 (from opentelemetry-api<3,>=1.9.0->mlflow-skinny==3.0.0rc1->mlflow)\n",
      "#6 5.330   Downloading Deprecated-1.2.18-py2.py3-none-any.whl.metadata (5.7 kB)\n",
      "#6 5.358 Collecting opentelemetry-semantic-conventions==0.54b0 (from opentelemetry-sdk<3,>=1.9.0->mlflow-skinny==3.0.0rc1->mlflow)\n",
      "#6 5.367   Downloading opentelemetry_semantic_conventions-0.54b0-py3-none-any.whl.metadata (2.5 kB)\n",
      "#6 5.375 Requirement already satisfied: pytz>=2020.1 in /opt/conda/lib/python3.12/site-packages (from pandas<3->mlflow) (2025.2)\n",
      "#6 5.376 Requirement already satisfied: tzdata>=2022.7 in /opt/conda/lib/python3.12/site-packages (from pandas<3->mlflow) (2025.2)\n",
      "#6 5.393 Requirement already satisfied: annotated-types>=0.6.0 in /opt/conda/lib/python3.12/site-packages (from pydantic<3,>=1.10.8->mlflow-skinny==3.0.0rc1->mlflow) (0.7.0)\n",
      "#6 5.394 Requirement already satisfied: pydantic-core==2.33.1 in /opt/conda/lib/python3.12/site-packages (from pydantic<3,>=1.10.8->mlflow-skinny==3.0.0rc1->mlflow) (2.33.1)\n",
      "#6 5.395 Requirement already satisfied: typing-inspection>=0.4.0 in /opt/conda/lib/python3.12/site-packages (from pydantic<3,>=1.10.8->mlflow-skinny==3.0.0rc1->mlflow) (0.4.0)\n",
      "#6 5.399 Requirement already satisfied: six>=1.5 in /opt/conda/lib/python3.12/site-packages (from python-dateutil<3,>=2.7.0->graphene<4->mlflow) (1.17.0)\n",
      "#6 5.402 Requirement already satisfied: charset_normalizer<4,>=2 in /opt/conda/lib/python3.12/site-packages (from requests<3,>=2.17.3->mlflow-skinny==3.0.0rc1->mlflow) (3.4.2)\n",
      "#6 5.403 Requirement already satisfied: idna<4,>=2.5 in /opt/conda/lib/python3.12/site-packages (from requests<3,>=2.17.3->mlflow-skinny==3.0.0rc1->mlflow) (3.10)\n",
      "#6 5.404 Requirement already satisfied: certifi>=2017.4.17 in /opt/conda/lib/python3.12/site-packages (from requests<3,>=2.17.3->mlflow-skinny==3.0.0rc1->mlflow) (2025.1.31)\n",
      "#6 5.436 Collecting pyasn1>=0.1.3 (from rsa<5,>=3.1.4->google-auth~=2.0->databricks-sdk<1,>=0.20.0->mlflow-skinny==3.0.0rc1->mlflow)\n",
      "#6 5.445   Downloading pyasn1-0.6.1-py3-none-any.whl.metadata (8.4 kB)\n",
      "#6 5.450 Requirement already satisfied: joblib>=1.2.0 in /opt/conda/lib/python3.12/site-packages (from scikit-learn<2->mlflow) (1.5.0)\n",
      "#6 5.451 Requirement already satisfied: threadpoolctl>=3.1.0 in /opt/conda/lib/python3.12/site-packages (from scikit-learn<2->mlflow) (3.6.0)\n",
      "#6 5.470 Requirement already satisfied: greenlet>=1 in /opt/conda/lib/python3.12/site-packages (from sqlalchemy<3,>=1.4.0->mlflow) (3.2.1)\n",
      "#6 5.479 Requirement already satisfied: anyio<5,>=3.6.2 in /opt/conda/lib/python3.12/site-packages (from starlette<0.47.0,>=0.40.0->fastapi<1->mlflow-skinny==3.0.0rc1->mlflow) (4.9.0)\n",
      "#6 5.481 Requirement already satisfied: sniffio>=1.1 in /opt/conda/lib/python3.12/site-packages (from anyio<5,>=3.6.2->starlette<0.47.0,>=0.40.0->fastapi<1->mlflow-skinny==3.0.0rc1->mlflow) (1.3.1)\n",
      "#6 5.491 Requirement already satisfied: h11>=0.8 in /opt/conda/lib/python3.12/site-packages (from uvicorn<1->mlflow-skinny==3.0.0rc1->mlflow) (0.16.0)\n",
      "#6 5.622 Collecting wrapt<2,>=1.10 (from deprecated>=1.2.6->opentelemetry-api<3,>=1.9.0->mlflow-skinny==3.0.0rc1->mlflow)\n",
      "#6 5.630   Downloading wrapt-1.17.2-cp312-cp312-manylinux_2_5_x86_64.manylinux1_x86_64.manylinux_2_17_x86_64.manylinux2014_x86_64.whl.metadata (6.4 kB)\n",
      "#6 5.693 Downloading mlflow-3.0.0rc1-py3-none-any.whl (29.0 MB)\n",
      "#6 6.013    ━━━━━━━━━━━━━━━━━━━━━━━━━━━━━━━━━━━━━━━━ 29.0/29.0 MB 93.9 MB/s eta 0:00:00\n",
      "#6 6.024 Downloading mlflow_skinny-3.0.0rc1-py3-none-any.whl (6.2 MB)\n",
      "#6 6.062    ━━━━━━━━━━━━━━━━━━━━━━━━━━━━━━━━━━━━━━━━ 6.2/6.2 MB 181.8 MB/s eta 0:00:00\n",
      "#6 6.073 Downloading cachetools-5.5.2-py3-none-any.whl (10 kB)\n",
      "#6 6.084 Downloading databricks_sdk-0.52.0-py3-none-any.whl (700 kB)\n",
      "#6 6.091    ━━━━━━━━━━━━━━━━━━━━━━━━━━━━━━━━━━━━━━━ 700.2/700.2 kB 281.7 MB/s eta 0:00:00\n",
      "#6 6.101 Downloading docker-7.1.0-py3-none-any.whl (147 kB)\n",
      "#6 6.111 Downloading fastapi-0.115.12-py3-none-any.whl (95 kB)\n",
      "#6 6.122 Downloading flask-3.1.0-py3-none-any.whl (102 kB)\n",
      "#6 6.133 Downloading google_auth-2.40.1-py2.py3-none-any.whl (216 kB)\n",
      "#6 6.144 Downloading graphene-3.4.3-py2.py3-none-any.whl (114 kB)\n",
      "#6 6.154 Downloading graphql_core-3.2.6-py3-none-any.whl (203 kB)\n",
      "#6 6.165 Downloading graphql_relay-3.2.0-py3-none-any.whl (16 kB)\n",
      "#6 6.176 Downloading gunicorn-23.0.0-py3-none-any.whl (85 kB)\n",
      "#6 6.186 Downloading markdown-3.8-py3-none-any.whl (106 kB)\n",
      "#6 6.197 Downloading opentelemetry_api-1.33.0-py3-none-any.whl (65 kB)\n",
      "#6 6.208 Downloading opentelemetry_sdk-1.33.0-py3-none-any.whl (118 kB)\n",
      "#6 6.219 Downloading opentelemetry_semantic_conventions-0.54b0-py3-none-any.whl (194 kB)\n",
      "#6 6.230 Downloading pyarrow-19.0.1-cp312-cp312-manylinux_2_28_x86_64.whl (42.1 MB)\n",
      "#6 6.614    ━━━━━━━━━━━━━━━━━━━━━━━━━━━━━━━━━━━━━━━━ 42.1/42.1 MB 110.1 MB/s eta 0:00:00\n",
      "#6 6.624 Downloading rsa-4.9.1-py3-none-any.whl (34 kB)\n",
      "#6 6.635 Downloading sqlparse-0.5.3-py3-none-any.whl (44 kB)\n",
      "#6 6.645 Downloading starlette-0.46.2-py3-none-any.whl (72 kB)\n",
      "#6 6.655 Downloading uvicorn-0.34.2-py3-none-any.whl (62 kB)\n",
      "#6 6.668 Downloading Deprecated-1.2.18-py2.py3-none-any.whl (10.0 kB)\n",
      "#6 6.680 Downloading wrapt-1.17.2-cp312-cp312-manylinux_2_5_x86_64.manylinux1_x86_64.manylinux_2_17_x86_64.manylinux2014_x86_64.whl (89 kB)\n",
      "#6 6.691 Downloading itsdangerous-2.2.0-py3-none-any.whl (16 kB)\n",
      "#6 6.702 Downloading pyasn1-0.6.1-py3-none-any.whl (83 kB)\n",
      "#6 6.713 Downloading pyasn1_modules-0.4.2-py3-none-any.whl (181 kB)\n",
      "#6 6.723 Downloading werkzeug-3.1.3-py3-none-any.whl (224 kB)\n",
      "#6 7.530 Installing collected packages: wrapt, Werkzeug, uvicorn, sqlparse, pyasn1, pyarrow, markdown, itsdangerous, gunicorn, graphql-core, cachetools, starlette, rsa, pyasn1-modules, graphql-relay, Flask, docker, deprecated, opentelemetry-api, graphene, google-auth, fastapi, opentelemetry-semantic-conventions, databricks-sdk, opentelemetry-sdk, mlflow-skinny, mlflow\n",
      "#6 8.299   Attempting uninstall: pyarrow\n",
      "#6 8.309     Found existing installation: pyarrow 20.0.0\n",
      "#6 8.312     Uninstalling pyarrow-20.0.0:\n",
      "#6 9.747       Successfully uninstalled pyarrow-20.0.0\n",
      "#6 18.41 \n",
      "#6 18.44 Successfully installed Flask-3.1.0 Werkzeug-3.1.3 cachetools-5.5.2 databricks-sdk-0.52.0 deprecated-1.2.18 docker-7.1.0 fastapi-0.115.12 google-auth-2.40.1 graphene-3.4.3 graphql-core-3.2.6 graphql-relay-3.2.0 gunicorn-23.0.0 itsdangerous-2.2.0 markdown-3.8 mlflow-3.0.0rc1 mlflow-skinny-3.0.0rc1 opentelemetry-api-1.33.0 opentelemetry-sdk-1.33.0 opentelemetry-semantic-conventions-0.54b0 pyarrow-19.0.1 pyasn1-0.6.1 pyasn1-modules-0.4.2 rsa-4.9.1 sqlparse-0.5.3 starlette-0.46.2 uvicorn-0.34.2 wrapt-1.17.2\n",
      "#6 DONE 23.5s\n",
      "\n",
      "#7 exporting to image\n",
      "#7 exporting layers\n",
      "#7 exporting layers 4.1s done\n",
      "#7 writing image sha256:e185dd2f37181fd1102c2b316a8985e8d4c1e9c8ba6e6f6fddd959ae02e80530 0.0s done\n",
      "#7 naming to docker.io/library/jupyter-mlflow 0.1s done\n",
      "#7 DONE 4.3s\n"
     ]
    },
    {
     "data": {
      "text/plain": [
       "<Result cmd='docker build -t jupyter-mlflow -f /home/cc/restaurant-recommender/ml_train_docker/Dockerfile.jupyter-torch-mlflow-cuda /home/cc/restaurant-recommender' exited=0>"
      ]
     },
     "execution_count": 67,
     "metadata": {},
     "output_type": "execute_result"
    }
   ],
   "source": [
    "# Build the MLFlow container image\n",
    "s.execute(\"docker build -t jupyter-mlflow -f /home/cc/restaurant-recommender/ml_train_docker/Dockerfile.jupyter-torch-mlflow-cuda /home/cc/restaurant-recommender\")\n"
   ]
  },
  {
   "cell_type": "code",
   "execution_count": null,
   "id": "7a462a3a-069b-4c86-a8cd-a284b0f1c153",
   "metadata": {
    "tags": []
   },
   "outputs": [],
   "source": [
    "# Run MLFlow container\n",
    "s.execute(\n",
    "    \"docker rm -f mlflow; \"\n",
    "    \"docker run -d -p 8889:8888 --gpus all --name mlflow \"\n",
    "    \"-v /home/cc/restaurant-recommender:/home/jovyan/restaurant-recommender \"\n",
    "    \"-v /mnt/object:/home/jovyan/work/data \"\n",
    "    \"-u 1000:1000 \"\n",
    "    \"jupyter-mlflow\"\n",
    ")\n",
    "\n",
    "\n",
    "\n",
    "\n",
    "HOST_IP=$(curl --silent http://169.254.169.254/latest/meta-data/public-ipv4 )\n",
    "docker run  -d --rm  -p 8888:8888 \\\n",
    "    --gpus all \\\n",
    "    --shm-size 16G \\\n",
    "    -v ~/mltrain-chi/workspace_mlflow:/home/jovyan/work/ \\\n",
    "    -v food11:/mnt/ \\\n",
    "    -e MLFLOW_TRACKING_URI=http://${HOST_IP}:8000/ \\\n",
    "    -e FOOD11_DATA_DIR=/mnt/Food-11 \\\n",
    "    --name jupyter \\\n",
    "    jupyter-mlflow"
   ]
  },
  {
   "cell_type": "code",
   "execution_count": null,
   "id": "e341de3d-cea9-41fb-84d3-286731393ac7",
   "metadata": {
    "tags": []
   },
   "outputs": [],
   "source": [
    "s.execute(\"docker logs mlflow\")\n"
   ]
  },
  {
   "cell_type": "code",
   "execution_count": null,
   "id": "e975d097-6fc1-46c8-a82f-2f6827fff39b",
   "metadata": {
    "tags": []
   },
   "outputs": [],
   "source": [
    "s.execute(\"docker run -d -p 8889:8888 --gpus all --name mlflow jupyter-mlflow\")\n"
   ]
  },
  {
   "cell_type": "code",
   "execution_count": null,
   "id": "3b108bf6-0d28-4ce8-a8aa-1369b69e5d46",
   "metadata": {
    "tags": []
   },
   "outputs": [],
   "source": [
    "s.execute(\"docker ps\")\n"
   ]
  },
  {
   "cell_type": "code",
   "execution_count": null,
   "id": "c240a5e7-887d-46fd-b4ae-d16aeecd3bef",
   "metadata": {},
   "outputs": [],
   "source": [
    "cd ~/restaurant-recommender/ml_train_docker\n",
    "docker compose -f docker-compose-mlflow.yaml up -d"
   ]
  },
  {
   "cell_type": "code",
   "execution_count": null,
   "id": "bc10886d-31a5-414f-8a02-9825692d7083",
   "metadata": {},
   "outputs": [],
   "source": []
  },
  {
   "cell_type": "code",
   "execution_count": null,
   "id": "85a80ecd-fceb-4141-8a55-425d5948ea24",
   "metadata": {},
   "outputs": [],
   "source": []
  },
  {
   "cell_type": "code",
   "execution_count": null,
   "id": "4042154c-ff8c-4cf3-b110-cdc4baac4b42",
   "metadata": {
    "tags": []
   },
   "outputs": [],
   "source": [
    "#s.execute(\"docker stop torchnb\")\n"
   ]
  },
  {
   "cell_type": "code",
   "execution_count": null,
   "id": "93c07abe-c0e1-4e72-ac8a-ad87998afa0c",
   "metadata": {},
   "outputs": [],
   "source": []
  }
 ],
 "metadata": {
  "kernelspec": {
   "display_name": "Python 3 (ipykernel)",
   "language": "python",
   "name": "python3"
  },
  "language_info": {
   "codemirror_mode": {
    "name": "ipython",
    "version": 3
   },
   "file_extension": ".py",
   "mimetype": "text/x-python",
   "name": "python",
   "nbconvert_exporter": "python",
   "pygments_lexer": "ipython3",
   "version": "3.10.9"
  }
 },
 "nbformat": 4,
 "nbformat_minor": 5
}
