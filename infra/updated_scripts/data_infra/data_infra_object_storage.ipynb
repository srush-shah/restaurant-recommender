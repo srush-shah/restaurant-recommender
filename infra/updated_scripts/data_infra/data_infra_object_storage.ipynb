{
 "cells": [
  {
   "cell_type": "code",
   "execution_count": 1,
   "id": "ba6a3405-9f37-495a-8b11-6c4b6e1bfb1b",
   "metadata": {
    "tags": []
   },
   "outputs": [],
   "source": [
    "from chi import context\n",
    "import chi\n",
    "import os\n",
    "import swiftclient\n"
   ]
  },
  {
   "cell_type": "code",
   "execution_count": 2,
   "id": "7779a794-a954-47d6-8428-75a1f8946ffc",
   "metadata": {
    "tags": []
   },
   "outputs": [
    {
     "data": {
      "application/vnd.jupyter.widget-view+json": {
       "model_id": "3a83002dc83a4264bd20cffda67acce0",
       "version_major": 2,
       "version_minor": 0
      },
      "text/plain": [
       "VBox(children=(Dropdown(description='Select Project', options=('CHI-251409',), value='CHI-251409'), Output()))"
      ]
     },
     "metadata": {},
     "output_type": "display_data"
    },
    {
     "data": {
      "application/vnd.jupyter.widget-view+json": {
       "model_id": "8018260cb83d49fcb938ea5946d1e4e5",
       "version_major": 2,
       "version_minor": 0
      },
      "text/plain": [
       "VBox(children=(Dropdown(description='Select Site', options=('CHI@TACC', 'CHI@UC', 'CHI@EVL', 'CHI@NCAR', 'CHI@…"
      ]
     },
     "metadata": {},
     "output_type": "display_data"
    }
   ],
   "source": [
    "context.version = \"1.0\"\n",
    "context.choose_project()                      \n",
    "context.choose_site(default=\"CHI@TACC\")"
   ]
  },
  {
   "cell_type": "code",
   "execution_count": 4,
   "id": "fb55bf10-a499-4f39-b83c-4ef18a4fd494",
   "metadata": {
    "tags": []
   },
   "outputs": [
    {
     "data": {
      "text/plain": [
       "<openstack.connection.Connection at 0x7f94c83c14b0>"
      ]
     },
     "execution_count": 4,
     "metadata": {},
     "output_type": "execute_result"
    }
   ],
   "source": [
    "os_conn = chi.clients.connection()\n",
    "os_conn"
   ]
  },
  {
   "cell_type": "code",
   "execution_count": 5,
   "id": "f19f3e4c-9261-48f6-919d-05bb974732c7",
   "metadata": {
    "tags": []
   },
   "outputs": [
    {
     "data": {
      "text/plain": [
       "'gAAAAABoG9YrLlKyfctb5s-E3TW-rFI0YZy_A0ca4F9JOZPHzsgqXuVdksxAQ_Mf_rc5GaLXC9iDiO2U_6mK7m5xQw7DH1gFtmu51A6-gbkqfW9ptGt3gmHUB1KUrYdtOEmvlwRI_Cc4_o7m6L-spFjARijkVu0x_39Ayi-qlxkbLSwNbwo4RRoKcEXkpsb0b9dVynVBuXSNvF52QjSV-0pLBRIugbV1NVwH4wZ7iUxHlrdzAUalxiPWb0c0exLx_iDrVHEIN9Nu'"
      ]
     },
     "execution_count": 5,
     "metadata": {},
     "output_type": "execute_result"
    }
   ],
   "source": [
    "token = os_conn.authorize()\n",
    "token"
   ]
  },
  {
   "cell_type": "code",
   "execution_count": 6,
   "id": "83f9a8d0-bc01-454b-9fd1-ab6ebcadc971",
   "metadata": {
    "tags": []
   },
   "outputs": [],
   "source": [
    "swift_conn = swiftclient.Connection(\n",
    "    preauthurl=storage_url,\n",
    "    preauthtoken=token,\n",
    "    retries=5\n",
    ")"
   ]
  },
  {
   "cell_type": "code",
   "execution_count": 7,
   "id": "7aaf9a65-1b5a-45fd-8f3e-03332d53556c",
   "metadata": {
    "tags": []
   },
   "outputs": [
    {
     "data": {
      "text/plain": [
       "'object-persist-project23_2'"
      ]
     },
     "execution_count": 7,
     "metadata": {},
     "output_type": "execute_result"
    }
   ],
   "source": [
    "netid = \"project23_2\"\n",
    "container_name = f\"object-persist-{netid}\"\n",
    "container_name"
   ]
  },
  {
   "cell_type": "code",
   "execution_count": 8,
   "id": "ebbe9553-aaf3-4cce-b144-70a819194a10",
   "metadata": {
    "tags": []
   },
   "outputs": [
    {
     "name": "stdout",
     "output_type": "stream",
     "text": [
      "✅ Created object store container: object-persist-project23_2\n"
     ]
    }
   ],
   "source": [
    "swift_conn.put_container(container_name)\n",
    "print(f\"✅ Created object store container: {container_name}\")"
   ]
  },
  {
   "cell_type": "code",
   "execution_count": 9,
   "id": "b4d51302-cae8-419f-9bfa-c937e52fe6df",
   "metadata": {
    "tags": []
   },
   "outputs": [
    {
     "name": "stdout",
     "output_type": "stream",
     "text": [
      "Available containers:\n",
      "- AdFame-project-group15\n",
      "- AdFame-project-group15_segments\n",
      "- CropNet-project4\n",
      "- Object_persist_sb9880\n",
      "- block-persist-hl6151\n",
      "- bucket-train-data-project25\n",
      "- el-silencio-data\n",
      "- llama_training\n",
      "- meetings‑project39\n",
      "- metadata\n",
      "- mlop_group7\n",
      "- mlops-lab-group45\n",
      "- mlops-project20\n",
      "- mlops-project20-model1-artifacts\n",
      "- mlops_group7\n",
      "- models\n",
      "- object-persist-129.114.25.229\n",
      "- object-persist-41\n",
      "- object-persist-41_segments\n",
      "- object-persist-4999\n",
      "- object-persist-aj4513\n",
      "- object-persist-arg9653\n",
      "- object-persist-bm3788\n",
      "- object-persist-dk4999\n",
      "- object-persist-group23\n",
      "- object-persist-group25\n",
      "- object-persist-img894\n",
      "- object-persist-img8943\n",
      "- object-persist-jc13140\n",
      "- object-persist-jc13140_segments\n",
      "- object-persist-jd6065\n",
      "- object-persist-jd6065-project54\n",
      "- object-persist-jd6065-project54-captions\n",
      "- object-persist-jd6065-project54-images\n",
      "- object-persist-jz7074\n",
      "- object-persist-khp3878\n",
      "- object-persist-mps10088\n",
      "- object-persist-netID_segments\n",
      "- object-persist-ng3230\n",
      "- object-persist-nm4709_1\n",
      "- object-persist-ns6108\n",
      "- object-persist-ns6287\n",
      "- object-persist-project\n",
      "- object-persist-project-14\n",
      "- object-persist-project-21\n",
      "- object-persist-project-22\n",
      "- object-persist-project-22_segments\n",
      "- object-persist-project-4\n",
      "- object-persist-project-5\n",
      "- object-persist-project-50\n",
      "- object-persist-project12\n",
      "- object-persist-project14\n",
      "- object-persist-project15\n",
      "- object-persist-project16\n",
      "- object-persist-project17\n",
      "- object-persist-project17_segments\n",
      "- object-persist-project19\n",
      "- object-persist-project20\n",
      "- object-persist-project23\n",
      "- object-persist-project23_2\n",
      "- object-persist-project24\n",
      "- object-persist-project25\n",
      "- object-persist-project25_segments\n",
      "- object-persist-project26\n",
      "- object-persist-project28\n",
      "- object-persist-project29\n",
      "- object-persist-project29_segments\n",
      "- object-persist-project30\n",
      "- object-persist-project31\n",
      "- object-persist-project32\n",
      "- object-persist-project33\n",
      "- object-persist-project35\n",
      "- object-persist-project37\n",
      "- object-persist-project39\n",
      "- object-persist-project40\n",
      "- object-persist-project41\n",
      "- object-persist-project41_segments\n",
      "- object-persist-project42\n",
      "- object-persist-project43\n",
      "- object-persist-project44\n",
      "- object-persist-project44-2\n",
      "- object-persist-project45\n",
      "- object-persist-project46\n",
      "- object-persist-project47\n",
      "- object-persist-project47_segments\n",
      "- object-persist-project48\n",
      "- object-persist-project51\n",
      "- object-persist-project54-sbb9447\n",
      "- object-persist-project8\n",
      "- object-persist-project8_segments\n",
      "- object-persist-qh226\n",
      "- object-persist-rd3668\n",
      "- object-persist-rg5073-test\n",
      "- object-persist-rm6791\n",
      "- object-persist-sbb9447\n",
      "- object-persist-sp8138\n",
      "- object-persist-yp2693\n",
      "- object-persist-zh3194\n",
      "- object-persist-zl5573\n",
      "- object-persist-zw4763\n",
      "- object-persist-zz10054\n",
      "- object-persist-zz4249\n",
      "- object-persist-你的netID\n",
      "- object-project1\n",
      "- object-storage-group34\n",
      "- object_persist_rs9194\n",
      "- objectstorage-group34\n",
      "- taxi-etl-output\n",
      "- terraform-tfstate-group36\n",
      "- testremotepath\n",
      "- whisper\n",
      "- xray-gpt-project-13\n"
     ]
    }
   ],
   "source": [
    "_, containers = swift_conn.get_account()\n",
    "print(\"Available containers:\")\n",
    "for c in containers:\n",
    "    print(\"-\", c[\"name\"])\n"
   ]
  },
  {
   "cell_type": "code",
   "execution_count": 10,
   "id": "15407dae-e65e-4198-8778-a18dc8c93ebf",
   "metadata": {
    "tags": []
   },
   "outputs": [
    {
     "name": "stdout",
     "output_type": "stream",
     "text": [
      "📤 Uploaded example.txt to container.\n"
     ]
    }
   ],
   "source": [
    "with open(\"example.txt\", \"w\") as f:\n",
    "    f.write(\"This is a test upload.\")\n",
    "\n",
    "with open(\"example.txt\", \"rb\") as f:\n",
    "    swift_conn.put_object(container_name, \"example.txt\", contents=f)\n",
    "    print(\"📤 Uploaded example.txt to container.\")\n"
   ]
  },
  {
   "cell_type": "code",
   "execution_count": null,
   "id": "dc941f9b-fe4b-46fb-bd2d-b6ba2a327e22",
   "metadata": {},
   "outputs": [],
   "source": []
  }
 ],
 "metadata": {
  "kernelspec": {
   "display_name": "Python 3 (ipykernel)",
   "language": "python",
   "name": "python3"
  },
  "language_info": {
   "codemirror_mode": {
    "name": "ipython",
    "version": 3
   },
   "file_extension": ".py",
   "mimetype": "text/x-python",
   "name": "python",
   "nbconvert_exporter": "python",
   "pygments_lexer": "ipython3",
   "version": "3.10.9"
  }
 },
 "nbformat": 4,
 "nbformat_minor": 5
}
