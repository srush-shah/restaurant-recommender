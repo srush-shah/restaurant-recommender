{
 "cells": [
  {
   "cell_type": "code",
   "execution_count": 1,
   "id": "ff8f6873-3ddc-4387-bad5-5ceb752821ed",
   "metadata": {
    "tags": []
   },
   "outputs": [],
   "source": [
    "from chi import context, server\n",
    "import chi\n",
    "import os\n"
   ]
  },
  {
   "cell_type": "code",
   "execution_count": 2,
   "id": "85b46548-93c4-4368-a62e-04b01e5a53b2",
   "metadata": {
    "tags": []
   },
   "outputs": [
    {
     "data": {
      "application/vnd.jupyter.widget-view+json": {
       "model_id": "ee96f778244443e8bdb07d63c0605ebb",
       "version_major": 2,
       "version_minor": 0
      },
      "text/plain": [
       "VBox(children=(Dropdown(description='Select Project', options=('CHI-251409',), value='CHI-251409'), Output()))"
      ]
     },
     "metadata": {},
     "output_type": "display_data"
    },
    {
     "data": {
      "application/vnd.jupyter.widget-view+json": {
       "model_id": "b35647b52d1a4cd6b49aabdaf1f4a9b0",
       "version_major": 2,
       "version_minor": 0
      },
      "text/plain": [
       "VBox(children=(Dropdown(description='Select Site', index=7, options=('CHI@TACC', 'CHI@UC', 'CHI@EVL', 'CHI@NCA…"
      ]
     },
     "metadata": {},
     "output_type": "display_data"
    }
   ],
   "source": [
    "context.version = \"1.0\"\n",
    "context.choose_project()\n",
    "context.choose_site(default=\"KVM@TACC\")"
   ]
  },
  {
   "cell_type": "code",
   "execution_count": 4,
   "id": "191041ed-fe25-40f2-9644-43859227e18e",
   "metadata": {
    "tags": []
   },
   "outputs": [
    {
     "data": {
      "text/plain": [
       "'project23_2'"
      ]
     },
     "execution_count": 4,
     "metadata": {},
     "output_type": "execute_result"
    }
   ],
   "source": [
    "username = \"project23_2\"  # custom suffix for all resource names\n",
    "username\n"
   ]
  },
  {
   "cell_type": "code",
   "execution_count": 5,
   "id": "f73a98c7-3120-44a7-bec8-4dc6494bd10a",
   "metadata": {
    "tags": []
   },
   "outputs": [
    {
     "data": {
      "text/plain": [
       "'block-persist-project23_2'"
      ]
     },
     "execution_count": 5,
     "metadata": {},
     "output_type": "execute_result"
    }
   ],
   "source": [
    "volume_name = f\"block-persist-{username}\"\n",
    "volume_name"
   ]
  },
  {
   "cell_type": "code",
   "execution_count": 6,
   "id": "ac8552ba-8c34-47f1-8f06-84648c29d7bd",
   "metadata": {
    "tags": []
   },
   "outputs": [
    {
     "name": "stdout",
     "output_type": "stream",
     "text": [
      "Created volume: block-persist-project23_2 (2 GiB)\n"
     ]
    }
   ],
   "source": [
    "# Create block volume (2 GiB)\n",
    "cinder = chi.clients.cinder()\n",
    "volume = cinder.volumes.create(name=volume_name, size=2)\n",
    "print(f\"Created volume: {volume.name} (2 GiB)\")"
   ]
  },
  {
   "cell_type": "code",
   "execution_count": 8,
   "id": "0cfee290-c428-4aff-b272-569e45b7989c",
   "metadata": {
    "tags": []
   },
   "outputs": [
    {
     "name": "stdout",
     "output_type": "stream",
     "text": [
      "node-persist-project23_2\n"
     ]
    }
   ],
   "source": [
    "print(f\"node-persist-{username}\")"
   ]
  },
  {
   "cell_type": "code",
   "execution_count": 9,
   "id": "8185a52d-e74c-4275-b135-d6ccfe912358",
   "metadata": {
    "tags": []
   },
   "outputs": [
    {
     "name": "stdout",
     "output_type": "stream",
     "text": [
      "Attached volume block-persist-project23_2 to instance node-persist-project23_2\n"
     ]
    }
   ],
   "source": [
    "# Attach to the server\n",
    "srv = server.get_server(f\"node-persist-{username}\")\n",
    "volume_manager = chi.nova().volumes\n",
    "volume_manager.create_server_volume(server_id=srv.id, volume_id=volume.id)\n",
    "print(f\"Attached volume {volume.name} to instance {srv.name}\")"
   ]
  },
  {
   "cell_type": "code",
   "execution_count": null,
   "id": "2abbbe78-1c86-430f-89d1-89c995ee9d95",
   "metadata": {},
   "outputs": [],
   "source": []
  }
 ],
 "metadata": {
  "kernelspec": {
   "display_name": "Python 3 (ipykernel)",
   "language": "python",
   "name": "python3"
  },
  "language_info": {
   "codemirror_mode": {
    "name": "ipython",
    "version": 3
   },
   "file_extension": ".py",
   "mimetype": "text/x-python",
   "name": "python",
   "nbconvert_exporter": "python",
   "pygments_lexer": "ipython3",
   "version": "3.10.9"
  }
 },
 "nbformat": 4,
 "nbformat_minor": 5
}
