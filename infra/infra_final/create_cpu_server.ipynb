{
 "cells": [
  {
   "cell_type": "code",
   "execution_count": 6,
   "metadata": {
    "tags": []
   },
   "outputs": [
    {
     "data": {
      "application/vnd.jupyter.widget-view+json": {
       "model_id": "2dcc7a1287bd439d84d7d50015c64c37",
       "version_major": 2,
       "version_minor": 0
      },
      "text/plain": [
       "VBox(children=(Dropdown(description='Select Project', options=('CHI-251409',), value='CHI-251409'), Output()))"
      ]
     },
     "metadata": {},
     "output_type": "display_data"
    },
    {
     "data": {
      "application/vnd.jupyter.widget-view+json": {
       "model_id": "79147f02737a45b9aeeecc1c8fabdcc7",
       "version_major": 2,
       "version_minor": 0
      },
      "text/plain": [
       "VBox(children=(Dropdown(description='Select Site', options=('CHI@TACC', 'CHI@UC', 'CHI@EVL', 'CHI@NCAR', 'CHI@…"
      ]
     },
     "metadata": {},
     "output_type": "display_data"
    }
   ],
   "source": [
    "from chi import server, context, lease\n",
    "import os, time\n",
    "\n",
    "context.version = \"1.0\" \n",
    "context.choose_project()\n",
    "context.choose_site(default=\"CHI@TACC\")"
   ]
  },
  {
   "cell_type": "code",
   "execution_count": 8,
   "metadata": {
    "tags": []
   },
   "outputs": [
    {
     "data": {
      "application/vnd.jupyter.widget-view+json": {
       "model_id": "89a398034e634c55b1892892f54bfe78",
       "version_major": 2,
       "version_minor": 0
      },
      "text/plain": [
       "HTML(value='\\n        <h2>Lease Details</h2>\\n        <table>\\n            <tr><th>Name</th><td>mlops-dday-pro…"
      ]
     },
     "metadata": {},
     "output_type": "display_data"
    },
    {
     "name": "stdout",
     "output_type": "stream",
     "text": [
      "Lease Details:\n",
      "Name: mlops-dday-project23\n",
      "ID: e0c6643e-15cd-4fd0-b6ff-1a056a470c09\n",
      "Status: ACTIVE\n",
      "Start Date: 2025-05-11 08:09:00\n",
      "End Date: 2025-05-11 23:59:00\n",
      "User ID: f9a642531ef78b49697f8beaba43bd4081bc2584478a0f280c0577547b859bc6\n",
      "Project ID: d3c6e101843a4ba79e665ebf59b521a2\n",
      "\n",
      "Node Reservations:\n",
      "ID: 53230b33-4907-43c5-ab06-30a9117788f6, Status: active, Min: 1, Max: 1\n",
      "\n",
      "Floating IP Reservations:\n",
      "\n",
      "Network Reservations:\n",
      "\n",
      "Events:\n"
     ]
    }
   ],
   "source": [
    "l = lease.get_lease(f\"mlops-dday-project23\")\n",
    "l.show()"
   ]
  },
  {
   "cell_type": "code",
   "execution_count": 9,
   "metadata": {
    "tags": []
   },
   "outputs": [
    {
     "name": "stdout",
     "output_type": "stream",
     "text": [
      "Waiting for server node-alstrain-project23's status to become ACTIVE. This typically takes 10 minutes, but can take up to 20 minutes.\n"
     ]
    },
    {
     "data": {
      "application/vnd.jupyter.widget-view+json": {
       "model_id": "a51d98987f664aed8a908084bedea80f",
       "version_major": 2,
       "version_minor": 0
      },
      "text/plain": [
       "HBox(children=(Label(value=''), IntProgress(value=0, bar_style='success')))"
      ]
     },
     "metadata": {},
     "output_type": "display_data"
    },
    {
     "name": "stdout",
     "output_type": "stream",
     "text": [
      "Server has moved to status ACTIVE\n"
     ]
    },
    {
     "data": {
      "text/html": [
       "<table style='border-collapse: collapse; width: 100%;'><tr style='background-color: #f2f2f2;'><th style='border: 1px solid #ddd; padding: 8px;'>Attribute</th><th style='border: 1px solid #ddd; padding: 8px;'>node-alstrain-project23</th></tr><tr><td style='border: 1px solid #ddd; padding: 8px;'>Id</td><td style='border: 1px solid #ddd; padding: 8px;'>96fa2597-30a6-4b10-9b61-2463ae2866ed</td></tr><tr><td style='border: 1px solid #ddd; padding: 8px;'>Status</td><td style='border: 1px solid #ddd; padding: 8px;'>ACTIVE</td></tr><tr><td style='border: 1px solid #ddd; padding: 8px;'>Image Name</td><td style='border: 1px solid #ddd; padding: 8px;'>CC-Ubuntu24.04-hwe</td></tr><tr><td style='border: 1px solid #ddd; padding: 8px;'>Flavor Name</td><td style='border: 1px solid #ddd; padding: 8px;'>baremetal</td></tr><tr><td style='border: 1px solid #ddd; padding: 8px;'>Addresses</td><td style='border: 1px solid #ddd; padding: 8px;'><strong>sharednet1:</strong><br>&nbsp;&nbsp;IP: 10.52.2.255 (v4)<br>&nbsp;&nbsp;Type: fixed<br>&nbsp;&nbsp;MAC: bc:97:e1:c4:d1:b0<br></td></tr><tr><td style='border: 1px solid #ddd; padding: 8px;'>Network Name</td><td style='border: 1px solid #ddd; padding: 8px;'>sharednet1</td></tr><tr><td style='border: 1px solid #ddd; padding: 8px;'>Created At</td><td style='border: 1px solid #ddd; padding: 8px;'>2025-05-11T08:41:29Z</td></tr><tr><td style='border: 1px solid #ddd; padding: 8px;'>Keypair</td><td style='border: 1px solid #ddd; padding: 8px;'>id_rsa_project23</td></tr><tr><td style='border: 1px solid #ddd; padding: 8px;'>Reservation Id</td><td style='border: 1px solid #ddd; padding: 8px;'>53230b33-4907-43c5-ab06-30a9117788f6</td></tr><tr><td style='border: 1px solid #ddd; padding: 8px;'>Host Id</td><td style='border: 1px solid #ddd; padding: 8px;'>9acf860df16fe3cd915f9522cd52cf171577a815ef5c486f67a143e3</td></tr><tr><td style='border: 1px solid #ddd; padding: 8px;'>Host Status</td><td style='border: 1px solid #ddd; padding: 8px;'>None</td></tr><tr><td style='border: 1px solid #ddd; padding: 8px;'>Hypervisor Hostname</td><td style='border: 1px solid #ddd; padding: 8px;'>9e66767e-93eb-4023-866f-c859d8bbd3ca</td></tr><tr><td style='border: 1px solid #ddd; padding: 8px;'>Is Locked</td><td style='border: 1px solid #ddd; padding: 8px;'>False</td></tr></table>"
      ],
      "text/plain": [
       "<IPython.core.display.HTML object>"
      ]
     },
     "metadata": {},
     "output_type": "display_data"
    }
   ],
   "source": [
    "username = \"project23\"\n",
    "s = server.Server(\n",
    "    f\"node-alstrain-{username}\", \n",
    "    reservation_id=l.node_reservations[0][\"id\"],\n",
    "    image_name=\"CC-Ubuntu24.04-hwe\",\n",
    "    key_name=\"id_rsa_project23\"\n",
    ")\n",
    "s.submit(idempotent=True)"
   ]
  },
  {
   "cell_type": "code",
   "execution_count": 10,
   "metadata": {
    "tags": []
   },
   "outputs": [],
   "source": [
    "s.associate_floating_ip()"
   ]
  },
  {
   "cell_type": "code",
   "execution_count": 11,
   "metadata": {
    "tags": []
   },
   "outputs": [
    {
     "name": "stdout",
     "output_type": "stream",
     "text": [
      "Checking connectivity to 129.114.108.24 port 22.\n"
     ]
    },
    {
     "data": {
      "application/vnd.jupyter.widget-view+json": {
       "model_id": "b95492aca8f6483aa7c9a08f78c03f15",
       "version_major": 2,
       "version_minor": 0
      },
      "text/plain": [
       "HBox(children=(Label(value=''), IntProgress(value=0, bar_style='success')))"
      ]
     },
     "metadata": {},
     "output_type": "display_data"
    },
    {
     "name": "stdout",
     "output_type": "stream",
     "text": [
      "Connection successful\n"
     ]
    }
   ],
   "source": [
    "s.refresh()\n",
    "s.check_connectivity()\n",
    "# ssh -i ~/.ssh/id_rsa_project23 cc@129.114.108.24"
   ]
  },
  {
   "cell_type": "code",
   "execution_count": 12,
   "metadata": {
    "tags": []
   },
   "outputs": [
    {
     "data": {
      "text/html": [
       "<table style='border-collapse: collapse; width: 100%;'><tr style='background-color: #f2f2f2;'><th style='border: 1px solid #ddd; padding: 8px;'>Attribute</th><th style='border: 1px solid #ddd; padding: 8px;'>node-alstrain-project23</th></tr><tr><td style='border: 1px solid #ddd; padding: 8px;'>Id</td><td style='border: 1px solid #ddd; padding: 8px;'>96fa2597-30a6-4b10-9b61-2463ae2866ed</td></tr><tr><td style='border: 1px solid #ddd; padding: 8px;'>Status</td><td style='border: 1px solid #ddd; padding: 8px;'>ACTIVE</td></tr><tr><td style='border: 1px solid #ddd; padding: 8px;'>Image Name</td><td style='border: 1px solid #ddd; padding: 8px;'>CC-Ubuntu24.04-hwe</td></tr><tr><td style='border: 1px solid #ddd; padding: 8px;'>Flavor Name</td><td style='border: 1px solid #ddd; padding: 8px;'>baremetal</td></tr><tr><td style='border: 1px solid #ddd; padding: 8px;'>Addresses</td><td style='border: 1px solid #ddd; padding: 8px;'><strong>sharednet1:</strong><br>&nbsp;&nbsp;IP: 10.52.2.255 (v4)<br>&nbsp;&nbsp;Type: fixed<br>&nbsp;&nbsp;MAC: bc:97:e1:c4:d1:b0<br>&nbsp;&nbsp;IP: 129.114.108.24 (v4)<br>&nbsp;&nbsp;Type: floating<br>&nbsp;&nbsp;MAC: bc:97:e1:c4:d1:b0<br></td></tr><tr><td style='border: 1px solid #ddd; padding: 8px;'>Network Name</td><td style='border: 1px solid #ddd; padding: 8px;'>sharednet1</td></tr><tr><td style='border: 1px solid #ddd; padding: 8px;'>Created At</td><td style='border: 1px solid #ddd; padding: 8px;'>2025-05-11T08:41:29Z</td></tr><tr><td style='border: 1px solid #ddd; padding: 8px;'>Keypair</td><td style='border: 1px solid #ddd; padding: 8px;'>id_rsa_project23</td></tr><tr><td style='border: 1px solid #ddd; padding: 8px;'>Reservation Id</td><td style='border: 1px solid #ddd; padding: 8px;'>53230b33-4907-43c5-ab06-30a9117788f6</td></tr><tr><td style='border: 1px solid #ddd; padding: 8px;'>Host Id</td><td style='border: 1px solid #ddd; padding: 8px;'>9acf860df16fe3cd915f9522cd52cf171577a815ef5c486f67a143e3</td></tr><tr><td style='border: 1px solid #ddd; padding: 8px;'>Host Status</td><td style='border: 1px solid #ddd; padding: 8px;'>None</td></tr><tr><td style='border: 1px solid #ddd; padding: 8px;'>Hypervisor Hostname</td><td style='border: 1px solid #ddd; padding: 8px;'>9e66767e-93eb-4023-866f-c859d8bbd3ca</td></tr><tr><td style='border: 1px solid #ddd; padding: 8px;'>Is Locked</td><td style='border: 1px solid #ddd; padding: 8px;'>False</td></tr></table>"
      ],
      "text/plain": [
       "<IPython.core.display.HTML object>"
      ]
     },
     "metadata": {},
     "output_type": "display_data"
    }
   ],
   "source": [
    "s.refresh()\n",
    "s.show(type=\"widget\")"
   ]
  },
  {
   "cell_type": "markdown",
   "metadata": {},
   "source": [
    "## Setting up Docker"
   ]
  },
  {
   "cell_type": "code",
   "execution_count": 13,
   "metadata": {
    "tags": []
   },
   "outputs": [
    {
     "name": "stderr",
     "output_type": "stream",
     "text": [
      "/opt/conda/lib/python3.10/site-packages/paramiko/client.py:889: UserWarning: Unknown ssh-ed25519 host key for 129.114.108.24: b'600d232c0389d2eee078e0fdc8322740'\n",
      "  warnings.warn(\n"
     ]
    },
    {
     "name": "stdout",
     "output_type": "stream",
     "text": [
      "# Executing docker install script, commit: 53a22f61c0628e58e1d6680b49e82993d304b449\n"
     ]
    },
    {
     "name": "stderr",
     "output_type": "stream",
     "text": [
      "+ sh -c apt-get -qq update >/dev/null\n",
      "+ sh -c DEBIAN_FRONTEND=noninteractive apt-get -y -qq install ca-certificates curl >/dev/null\n",
      "+ sh -c install -m 0755 -d /etc/apt/keyrings\n",
      "+ sh -c curl -fsSL \"https://download.docker.com/linux/ubuntu/gpg\" -o /etc/apt/keyrings/docker.asc\n",
      "+ sh -c chmod a+r /etc/apt/keyrings/docker.asc\n",
      "+ sh -c echo \"deb [arch=amd64 signed-by=/etc/apt/keyrings/docker.asc] https://download.docker.com/linux/ubuntu noble stable\" > /etc/apt/sources.list.d/docker.list\n",
      "+ sh -c apt-get -qq update >/dev/null\n",
      "+ sh -c DEBIAN_FRONTEND=noninteractive apt-get -y -qq install docker-ce docker-ce-cli containerd.io docker-compose-plugin docker-ce-rootless-extras docker-buildx-plugin >/dev/null\n",
      "\n",
      "Running kernel seems to be up-to-date.\n",
      "\n",
      "The processor microcode seems to be up-to-date.\n",
      "\n",
      "No services need to be restarted.\n",
      "\n",
      "No containers need to be restarted.\n",
      "\n",
      "No user sessions are running outdated binaries.\n",
      "\n",
      "No VM guests are running outdated hypervisor (qemu) binaries on this host.\n",
      "+ sh -c docker version\n"
     ]
    },
    {
     "name": "stdout",
     "output_type": "stream",
     "text": [
      "Client: Docker Engine - Community\n",
      " Version:           28.1.1\n",
      " API version:       1.49\n",
      " Go version:        go1.23.8\n",
      " Git commit:        4eba377\n",
      " Built:             Fri Apr 18 09:52:14 2025\n",
      " OS/Arch:           linux/amd64\n",
      " Context:           default\n",
      "\n",
      "Server: Docker Engine - Community\n",
      " Engine:\n",
      "  Version:          28.1.1\n",
      "  API version:      1.49 (minimum version 1.24)\n",
      "  Go version:       go1.23.8\n",
      "  Git commit:       01f442b\n",
      "  Built:            Fri Apr 18 09:52:14 2025\n",
      "  OS/Arch:          linux/amd64\n",
      "  Experimental:     false\n",
      " containerd:\n",
      "  Version:          1.7.27\n",
      "  GitCommit:        05044ec0a9a75232cad458027ca83437aae3f4da\n",
      " runc:\n",
      "  Version:          1.2.5\n",
      "  GitCommit:        v1.2.5-0-g59923ef\n",
      " docker-init:\n",
      "  Version:          0.19.0\n",
      "  GitCommit:        de40ad0\n",
      "\n",
      "================================================================================\n",
      "\n",
      "To run Docker as a non-privileged user, consider setting up the\n",
      "Docker daemon in rootless mode for your user:\n",
      "\n",
      "    dockerd-rootless-setuptool.sh install\n",
      "\n",
      "Visit https://docs.docker.com/go/rootless/ to learn about rootless mode.\n",
      "\n",
      "\n",
      "To run the Docker daemon as a fully privileged service, but granting non-root\n",
      "users access, refer to https://docs.docker.com/go/daemon-access/\n",
      "\n",
      "WARNING: Access to the remote API on a privileged Docker daemon is equivalent\n",
      "         to root access on the host. Refer to the 'Docker daemon attack surface'\n",
      "         documentation for details: https://docs.docker.com/go/attack-surface/\n",
      "\n",
      "================================================================================\n",
      "\n"
     ]
    },
    {
     "data": {
      "text/plain": [
       "<Result cmd='sudo groupadd -f docker; sudo usermod -aG docker $USER' exited=0>"
      ]
     },
     "execution_count": 13,
     "metadata": {},
     "output_type": "execute_result"
    }
   ],
   "source": [
    "s.execute(\"curl -sSL https://get.docker.com/ | sudo sh\")\n",
    "s.execute(\"sudo groupadd -f docker; sudo usermod -aG docker $USER\")"
   ]
  },
  {
   "cell_type": "markdown",
   "metadata": {},
   "source": [
    "## Pull and start Jupyter/PySpark container"
   ]
  },
  {
   "cell_type": "code",
   "execution_count": 14,
   "metadata": {
    "tags": []
   },
   "outputs": [
    {
     "name": "stdout",
     "output_type": "stream",
     "text": [
      "latest: Pulling from jupyter/pyspark-notebook\n",
      "aece8493d397: Pulling fs layer\n",
      "fd92c719666c: Pulling fs layer\n",
      "088f11eb1e74: Pulling fs layer\n",
      "4f4fb700ef54: Pulling fs layer\n",
      "ef8373d600b0: Pulling fs layer\n",
      "77e45ee945dc: Pulling fs layer\n",
      "a30f89a0af6c: Pulling fs layer\n",
      "dc42adc7eb73: Pulling fs layer\n",
      "abaa8376a650: Pulling fs layer\n",
      "aa099bb9e49a: Pulling fs layer\n",
      "822c4cbcf6a6: Pulling fs layer\n",
      "d25166dcdc7b: Pulling fs layer\n",
      "964fc3e4ff9f: Pulling fs layer\n",
      "2c4c69587ee4: Pulling fs layer\n",
      "de2cdd875fa8: Pulling fs layer\n",
      "75d33599f5f2: Pulling fs layer\n",
      "4f4fb700ef54: Waiting\n",
      "31973ea82470: Pulling fs layer\n",
      "96ee7e4439c7: Pulling fs layer\n",
      "1f9ad23c07ac: Pulling fs layer\n",
      "ef8373d600b0: Waiting\n",
      "d19266e0cb17: Pulling fs layer\n",
      "9a165b6e9dc7: Pulling fs layer\n",
      "5689442fd4e1: Pulling fs layer\n",
      "dc42adc7eb73: Waiting\n",
      "77e45ee945dc: Waiting\n",
      "9a6a202f62a6: Pulling fs layer\n",
      "a30f89a0af6c: Waiting\n",
      "734ea0c3d94e: Pulling fs layer\n",
      "a21a167f7127: Pulling fs layer\n",
      "abaa8376a650: Waiting\n",
      "467e20fcd668: Pulling fs layer\n",
      "7024bb03412a: Pulling fs layer\n",
      "7c128e9d2ddd: Pulling fs layer\n",
      "80782ae10995: Pulling fs layer\n",
      "aa099bb9e49a: Waiting\n",
      "691924032e73: Pulling fs layer\n",
      "05c5a5d9ae5f: Pulling fs layer\n",
      "822c4cbcf6a6: Waiting\n",
      "d25166dcdc7b: Waiting\n",
      "467e20fcd668: Waiting\n",
      "7024bb03412a: Waiting\n",
      "7c128e9d2ddd: Waiting\n",
      "734ea0c3d94e: Waiting\n",
      "964fc3e4ff9f: Waiting\n",
      "80782ae10995: Waiting\n",
      "691924032e73: Waiting\n",
      "a21a167f7127: Waiting\n",
      "9a165b6e9dc7: Waiting\n",
      "2c4c69587ee4: Waiting\n",
      "05c5a5d9ae5f: Waiting\n",
      "de2cdd875fa8: Waiting\n",
      "9a6a202f62a6: Waiting\n",
      "5689442fd4e1: Waiting\n",
      "96ee7e4439c7: Waiting\n",
      "d19266e0cb17: Waiting\n",
      "75d33599f5f2: Waiting\n",
      "1f9ad23c07ac: Waiting\n",
      "088f11eb1e74: Download complete\n",
      "fd92c719666c: Verifying Checksum\n",
      "fd92c719666c: Download complete\n",
      "4f4fb700ef54: Verifying Checksum\n",
      "4f4fb700ef54: Download complete\n",
      "ef8373d600b0: Verifying Checksum\n",
      "ef8373d600b0: Download complete\n",
      "aece8493d397: Verifying Checksum\n",
      "aece8493d397: Download complete\n",
      "77e45ee945dc: Verifying Checksum\n",
      "77e45ee945dc: Download complete\n",
      "a30f89a0af6c: Verifying Checksum\n",
      "dc42adc7eb73: Download complete\n",
      "aa099bb9e49a: Verifying Checksum\n",
      "aa099bb9e49a: Download complete\n",
      "822c4cbcf6a6: Verifying Checksum\n",
      "822c4cbcf6a6: Download complete\n",
      "d25166dcdc7b: Verifying Checksum\n",
      "d25166dcdc7b: Download complete\n",
      "2c4c69587ee4: Download complete\n",
      "de2cdd875fa8: Download complete\n",
      "abaa8376a650: Verifying Checksum\n",
      "abaa8376a650: Download complete\n",
      "75d33599f5f2: Verifying Checksum\n",
      "75d33599f5f2: Download complete\n",
      "96ee7e4439c7: Verifying Checksum\n",
      "96ee7e4439c7: Download complete\n",
      "1f9ad23c07ac: Download complete\n",
      "964fc3e4ff9f: Verifying Checksum\n",
      "964fc3e4ff9f: Download complete\n",
      "d19266e0cb17: Download complete\n",
      "5689442fd4e1: Download complete\n",
      "31973ea82470: Verifying Checksum\n",
      "31973ea82470: Download complete\n",
      "aece8493d397: Pull complete\n",
      "734ea0c3d94e: Verifying Checksum\n",
      "734ea0c3d94e: Download complete\n",
      "a21a167f7127: Download complete\n",
      "fd92c719666c: Pull complete\n",
      "088f11eb1e74: Pull complete\n",
      "4f4fb700ef54: Pull complete\n",
      "ef8373d600b0: Pull complete\n",
      "77e45ee945dc: Pull complete\n",
      "a30f89a0af6c: Pull complete\n",
      "dc42adc7eb73: Pull complete\n",
      "467e20fcd668: Verifying Checksum\n",
      "467e20fcd668: Download complete\n",
      "9a165b6e9dc7: Verifying Checksum\n",
      "9a165b6e9dc7: Download complete\n",
      "7c128e9d2ddd: Download complete\n",
      "80782ae10995: Verifying Checksum\n",
      "80782ae10995: Download complete\n",
      "691924032e73: Download complete\n",
      "05c5a5d9ae5f: Verifying Checksum\n",
      "05c5a5d9ae5f: Download complete\n",
      "9a6a202f62a6: Verifying Checksum\n",
      "9a6a202f62a6: Download complete\n",
      "7024bb03412a: Verifying Checksum\n",
      "7024bb03412a: Download complete\n",
      "abaa8376a650: Pull complete\n",
      "aa099bb9e49a: Pull complete\n",
      "822c4cbcf6a6: Pull complete\n",
      "d25166dcdc7b: Pull complete\n",
      "964fc3e4ff9f: Pull complete\n",
      "2c4c69587ee4: Pull complete\n",
      "de2cdd875fa8: Pull complete\n",
      "75d33599f5f2: Pull complete\n",
      "31973ea82470: Pull complete\n",
      "96ee7e4439c7: Pull complete\n",
      "1f9ad23c07ac: Pull complete\n",
      "d19266e0cb17: Pull complete\n",
      "9a165b6e9dc7: Pull complete\n",
      "5689442fd4e1: Pull complete\n",
      "9a6a202f62a6: Pull complete\n",
      "734ea0c3d94e: Pull complete\n",
      "a21a167f7127: Pull complete\n",
      "467e20fcd668: Pull complete\n",
      "7024bb03412a: Pull complete\n",
      "7c128e9d2ddd: Pull complete\n",
      "80782ae10995: Pull complete\n",
      "691924032e73: Pull complete\n",
      "05c5a5d9ae5f: Pull complete\n",
      "Digest: sha256:58377aaa152b741e244f201679f96d909a024ea337088cc276b0ee32ab3f076f\n",
      "Status: Downloaded newer image for jupyter/pyspark-notebook:latest\n",
      "docker.io/jupyter/pyspark-notebook:latest\n"
     ]
    },
    {
     "data": {
      "text/plain": [
       "<Result cmd='docker pull jupyter/pyspark-notebook:latest' exited=0>"
      ]
     },
     "execution_count": 14,
     "metadata": {},
     "output_type": "execute_result"
    }
   ],
   "source": [
    "s.execute(\"docker pull jupyter/pyspark-notebook:latest\")"
   ]
  },
  {
   "cell_type": "code",
   "execution_count": null,
   "metadata": {},
   "outputs": [],
   "source": [
    "s.execute(\"curl https://rclone.org/install.sh | sudo bash\")\n",
    "s.execute(\"sudo sed -i '/^#user_allow_other/s/^#//' /etc/fuse.conf\")\n",
    "s.execute(\"mkdir -p ~/.config/rclone\")\n",
    "s.execute('''cat > ~/.config/rclone/rclone.conf <<'EOF'\n",
    "[chi_tacc]\n",
    "type = swift\n",
    "user_id = 59b49300deb6f11832f7764d9f2c3451ba51e578bb556d58e02bf4c64bd89a31\n",
    "application_credential_id = aba2c756cb1649b6bd47c572f67a9528\n",
    "application_credential_secret = HnUZC1Dvhnw1A5-19LiDQORiWURpL1IflqK3tk506NXJp8Tb0HSW4m0V9Ch4zEhwV9WR7tTxiAPTcTGHMi2SKw\n",
    "auth = https://chi.tacc.chameleoncloud.org:5000/v3\n",
    "region = CHI@TACC\n",
    "EOF''')\n",
    "s.execute(\"rclone lsd chi_tacc:\")\n",
    "s.execute(\"export RCLONE_CONTAINER=object-persist-project23\")\n",
    "s.execute(\"sudo mkdir -p /mnt/object\")\n",
    "s.execute(\"sudo chown -R cc /mnt/object\")\n",
    "s.execute(\"sudo chgrp -R cc /mnt/object\")\n",
    "s.execute(\"rclone mount chi_tacc:object-persist-project23 /mnt/object --read-only --allow-other --daemon\")\n",
    "s.execute(\"ls /mnt/object\")"
   ]
  },
  {
   "cell_type": "markdown",
   "metadata": {},
   "source": [
    "Mount the object store to the node so we can attach it to the Jupyterlabs container as a volume\n",
    "\n",
    "    curl https://rclone.org/install.sh | sudo bash\n",
    "\n",
    "    sudo sed -i '/^#user_allow_other/s/^#//' /etc/fuse.conf\n",
    "\n",
    "    mkdir -p ~/.config/rclone\n",
    "\n",
    "    # Write your rclone.conf\n",
    "    cat > ~/.config/rclone/rclone.conf <<'EOF'\n",
    "    [chi_tacc]\n",
    "    type = swift\n",
    "    user_id =   f9a642531ef78b49697f8beaba43bd4081bc2584478a0f280c0577547b859bc6\n",
    "    application_credential_id = 6929d1f79f1146419f8836e5ef2da483\n",
    "    application_credential_secret = gYN47v-JA0n61qBaMIVOBE-krxat-5kqQ04Q6hrDIGUxcx0F2m3zJ5CDFvZPskwdKPAYIt1OEzjoutpFduCsFQ\n",
    "    auth = https://chi.tacc.chameleoncloud.org:5000/v3\n",
    "    region = CHI@TACC\n",
    "    EOF\n",
    "\n",
    "    rclone lsd chi_tacc:\n",
    "\n",
    "    export RCLONE_CONTAINER=object-persist-project23\n",
    "\n",
    "    sudo mkdir -p /mnt/object\n",
    "    sudo chown -R cc /mnt/object\n",
    "    sudo chgrp -R cc /mnt/object\n",
    "\n",
    "    rclone mount chi_tacc:object-persist-project23 /mnt/object --allow-other --daemon\n",
    "\n",
    "    ls /mnt/object"
   ]
  },
  {
   "cell_type": "markdown",
   "metadata": {},
   "source": [
    "Start the Jupyter container\n",
    "\n",
    "s.execute(\"\"\"\n",
    "HOST_IP=$(curl --silent http://169.254.169.254/latest/meta-data/public-ipv4)\n",
    "docker run -it --rm -p 8888:8888 \\\n",
    "--name pysparknb \\\n",
    "-v ~/my_workspace:/home/jovyan/work \\\n",
    "-v /home/cc/restaurant-recommender:/home/jovyan/restaurant-recommender \\\n",
    "-v /mnt/object:/home/jovyan/work/data \\\n",
    "-e RAY_ADDRESS=http://$HOST_IP:8265 \\\n",
    "-u 1000:1000 \\\n",
    "jupyter/pyspark-notebook\n",
    "\"\"\")\n"
   ]
  },
  {
   "cell_type": "markdown",
   "metadata": {},
   "source": [
    "\n",
    "Run this sommand to create the container\n",
    "\n",
    "s.execute(\"docker compose -f docker-compose-ray-cpu.yaml up -d --build\")\n"
   ]
  }
 ],
 "metadata": {
  "kernelspec": {
   "display_name": "Python 3 (ipykernel)",
   "language": "python",
   "name": "python3"
  },
  "language_info": {
   "codemirror_mode": {
    "name": "ipython",
    "version": 3
   },
   "file_extension": ".py",
   "mimetype": "text/x-python",
   "name": "python",
   "nbconvert_exporter": "python",
   "pygments_lexer": "ipython3",
   "version": "3.10.9"
  }
 },
 "nbformat": 4,
 "nbformat_minor": 4
}
