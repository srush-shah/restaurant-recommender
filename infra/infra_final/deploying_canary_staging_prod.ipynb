{
 "cells": [
  {
   "cell_type": "code",
   "execution_count": 1,
   "id": "e53b40fb-0baa-4a2c-a60d-fcb466bf5ea8",
   "metadata": {
    "tags": []
   },
   "outputs": [
    {
     "data": {
      "application/vnd.jupyter.widget-view+json": {
       "model_id": "348c65395a344fba87eb2778802e64de",
       "version_major": 2,
       "version_minor": 0
      },
      "text/plain": [
       "VBox(children=(Dropdown(description='Select Project', options=('CHI-251409',), value='CHI-251409'), Output()))"
      ]
     },
     "metadata": {},
     "output_type": "display_data"
    },
    {
     "data": {
      "application/vnd.jupyter.widget-view+json": {
       "model_id": "4deaff3d54014736a53ebfeeb87e713d",
       "version_major": 2,
       "version_minor": 0
      },
      "text/plain": [
       "VBox(children=(Dropdown(description='Select Site', index=7, options=('CHI@TACC', 'CHI@UC', 'CHI@EVL', 'CHI@NCA…"
      ]
     },
     "metadata": {},
     "output_type": "display_data"
    }
   ],
   "source": [
    "# runs in Chameleon Jupyter environment\n",
    "from chi import server, context\n",
    "\n",
    "context.version = \"1.0\" \n",
    "context.choose_project()\n",
    "context.choose_site(default=\"KVM@TACC\")"
   ]
  },
  {
   "cell_type": "code",
   "execution_count": 2,
   "id": "32f819bb-22ec-4ac2-9a14-68a8f0aabb6d",
   "metadata": {
    "tags": []
   },
   "outputs": [],
   "source": [
    "# runs in Chameleon Jupyter environment\n",
    "server.update_keypair()"
   ]
  },
  {
   "cell_type": "code",
   "execution_count": 3,
   "id": "be74a479-d849-470e-873a-e5604a377e1e",
   "metadata": {
    "tags": []
   },
   "outputs": [
    {
     "name": "stdout",
     "output_type": "stream",
     "text": [
      "Cloning into '/work/restaurant-recommender-iac'...\n",
      "remote: Enumerating objects: 500, done.\u001b[K\n",
      "remote: Counting objects: 100% (306/306), done.\u001b[K\n",
      "remote: Compressing objects: 100% (216/216), done.\u001b[K\n",
      "remote: Total 500 (delta 117), reused 238 (delta 66), pack-reused 194 (from 1)\u001b[K\n",
      "Receiving objects: 100% (500/500), 1.67 MiB | 8.58 MiB/s, done.\n",
      "Resolving deltas: 100% (187/187), done.\n"
     ]
    }
   ],
   "source": [
    "#git clone --recurse-submodules https://github.com/srush-shah/restaurant-recommender\n",
    "\n",
    "!git clone --recurse-submodules https://github.com/srush-shah/restaurant-recommender.git /work/restaurant-recommender-iac\n",
    "\n",
    "\n"
   ]
  },
  {
   "cell_type": "code",
   "execution_count": 4,
   "id": "d7a91fa3-3dbe-4543-848b-2500cb1f0615",
   "metadata": {
    "tags": []
   },
   "outputs": [
    {
     "name": "stdout",
     "output_type": "stream",
     "text": [
      "--2025-05-11 19:49:56--  https://releases.hashicorp.com/terraform/1.10.5/terraform_1.10.5_linux_amd64.zip\n",
      "Resolving releases.hashicorp.com (releases.hashicorp.com)... 18.238.171.62, 18.238.171.101, 18.238.171.54, ...\n",
      "Connecting to releases.hashicorp.com (releases.hashicorp.com)|18.238.171.62|:443... connected.\n",
      "HTTP request sent, awaiting response... 200 OK\n",
      "Length: 27714924 (26M) [application/zip]\n",
      "Saving to: ‘terraform_1.10.5_linux_amd64.zip’\n",
      "\n",
      "terraform_1.10.5_li 100%[===================>]  26.43M   139MB/s    in 0.2s    \n",
      "\n",
      "2025-05-11 19:49:56 (139 MB/s) - ‘terraform_1.10.5_linux_amd64.zip’ saved [27714924/27714924]\n",
      "\n"
     ]
    }
   ],
   "source": [
    "# Runs in Python kernel in Chameleon Jupyter environment\n",
    "!mkdir -p /work/.local/bin && \\\n",
    "wget https://releases.hashicorp.com/terraform/1.10.5/terraform_1.10.5_linux_amd64.zip && \\\n",
    "unzip -o -q terraform_1.10.5_linux_amd64.zip && \\\n",
    "mv terraform /work/.local/bin && \\\n",
    "rm terraform_1.10.5_linux_amd64.zip\n"
   ]
  },
  {
   "cell_type": "code",
   "execution_count": 5,
   "id": "7a37805f-045c-4b6e-bbdb-bec91e415d2f",
   "metadata": {
    "tags": []
   },
   "outputs": [],
   "source": [
    "import os\n",
    "\n",
    "# Prepend /work/.local/bin to PATH\n",
    "os.environ[\"PATH\"] = \"/work/.local/bin:\" + os.environ[\"PATH\"]\n"
   ]
  },
  {
   "cell_type": "code",
   "execution_count": 6,
   "id": "4b8af2eb-4915-4fe2-a1bc-97eef09845d9",
   "metadata": {
    "tags": []
   },
   "outputs": [
    {
     "name": "stdout",
     "output_type": "stream",
     "text": [
      "Usage: terraform [global options] <subcommand> [args]\n",
      "\n",
      "The available commands for execution are listed below.\n",
      "The primary workflow commands are given first, followed by\n",
      "less common or more advanced commands.\n",
      "\n",
      "Main commands:\n",
      "  init          Prepare your working directory for other commands\n",
      "  validate      Check whether the configuration is valid\n",
      "  plan          Show changes required by the current configuration\n",
      "  apply         Create or update infrastructure\n",
      "  destroy       Destroy previously-created infrastructure\n",
      "\n",
      "All other commands:\n",
      "  console       Try Terraform expressions at an interactive command prompt\n",
      "  fmt           Reformat your configuration in the standard style\n",
      "  force-unlock  Release a stuck lock on the current workspace\n",
      "  get           Install or upgrade remote Terraform modules\n",
      "  graph         Generate a Graphviz graph of the steps in an operation\n",
      "  import        Associate existing infrastructure with a Terraform resource\n",
      "  login         Obtain and save credentials for a remote host\n",
      "  logout        Remove locally-stored credentials for a remote host\n",
      "  metadata      Metadata related commands\n",
      "  modules       Show all declared modules in a working directory\n",
      "  output        Show output values from your root module\n",
      "  providers     Show the providers required for this configuration\n",
      "  refresh       Update the state to match remote systems\n",
      "  show          Show the current state or a saved plan\n",
      "  state         Advanced state management\n",
      "  taint         Mark a resource instance as not fully functional\n",
      "  test          Execute integration tests for Terraform modules\n",
      "  untaint       Remove the 'tainted' state from a resource instance\n",
      "  version       Show the current Terraform version\n",
      "  workspace     Workspace management\n",
      "\n",
      "Global options (use these before the subcommand, if any):\n",
      "  -chdir=DIR    Switch to a different working directory before executing the\n",
      "                given subcommand.\n",
      "  -help         Show this help output, or the help for a specified subcommand.\n",
      "  -version      An alias for the \"version\" subcommand.\n"
     ]
    }
   ],
   "source": [
    "!terraform\n"
   ]
  },
  {
   "cell_type": "code",
   "execution_count": null,
   "id": "6a049548-5e3f-49ab-9319-44cb24ab2b6a",
   "metadata": {
    "tags": []
   },
   "outputs": [],
   "source": [
    "!cp clouds.yaml /work/restaurant-recommender-iac/restaurant-recommender-iac/tf/kvm/clouds.yaml\n"
   ]
  },
  {
   "cell_type": "code",
   "execution_count": 17,
   "id": "fbb75f5d-869d-44d4-99aa-2bac69119c63",
   "metadata": {
    "tags": []
   },
   "outputs": [
    {
     "name": "stdout",
     "output_type": "stream",
     "text": [
      "Collecting ansible-core==2.16.9\n",
      "  Downloading ansible_core-2.16.9-py3-none-any.whl (2.3 MB)\n",
      "\u001b[2K     \u001b[90m━━━━━━━━━━━━━━━━━━━━━━━━━━━━━━━━━━━━━━━━\u001b[0m \u001b[32m2.3/2.3 MB\u001b[0m \u001b[31m9.3 MB/s\u001b[0m eta \u001b[36m0:00:00\u001b[0m:00:01\u001b[0m00:01\u001b[0m\n",
      "\u001b[?25hCollecting ansible==9.8.0\n",
      "  Downloading ansible-9.8.0-py3-none-any.whl (48.4 MB)\n",
      "\u001b[2K     \u001b[90m━━━━━━━━━━━━━━━━━━━━━━━━━━━━━━━━━━━━━━━━\u001b[0m \u001b[32m48.4/48.4 MB\u001b[0m \u001b[31m12.6 MB/s\u001b[0m eta \u001b[36m0:00:00\u001b[0m00:01\u001b[0m00:01\u001b[0m\n",
      "\u001b[?25hCollecting resolvelib<1.1.0,>=0.5.3\n",
      "  Downloading resolvelib-1.0.1-py2.py3-none-any.whl (17 kB)\n",
      "Requirement already satisfied: packaging in /opt/conda/lib/python3.10/site-packages (from ansible-core==2.16.9) (23.0)\n",
      "Requirement already satisfied: cryptography in /opt/conda/lib/python3.10/site-packages (from ansible-core==2.16.9) (39.0.2)\n",
      "Requirement already satisfied: PyYAML>=5.1 in /opt/conda/lib/python3.10/site-packages (from ansible-core==2.16.9) (5.3.1)\n",
      "Requirement already satisfied: jinja2>=3.0.0 in /opt/conda/lib/python3.10/site-packages (from ansible-core==2.16.9) (3.1.2)\n",
      "Requirement already satisfied: MarkupSafe>=2.0 in /opt/conda/lib/python3.10/site-packages (from jinja2>=3.0.0->ansible-core==2.16.9) (2.1.2)\n",
      "Requirement already satisfied: cffi>=1.12 in /opt/conda/lib/python3.10/site-packages (from cryptography->ansible-core==2.16.9) (1.15.1)\n",
      "Requirement already satisfied: pycparser in /opt/conda/lib/python3.10/site-packages (from cffi>=1.12->cryptography->ansible-core==2.16.9) (2.21)\n",
      "Installing collected packages: resolvelib, ansible-core, ansible\n",
      "Successfully installed ansible-9.8.0 ansible-core-2.16.9 resolvelib-1.0.1\n"
     ]
    }
   ],
   "source": [
    "!PYTHONUSERBASE=/work/.local pip install --user ansible-core==2.16.9 ansible==9.8.0\n"
   ]
  },
  {
   "cell_type": "code",
   "execution_count": 18,
   "id": "60c0f313-7cf0-43f3-9946-c28bd1efdd0b",
   "metadata": {
    "tags": []
   },
   "outputs": [],
   "source": [
    "# Update environment variables in Python\n",
    "os.environ[\"PATH\"] = \"/work/.local/bin:\" + os.environ.get(\"PATH\", \"\")\n",
    "os.environ[\"PYTHONUSERBASE\"] = \"/work/.local\"\n"
   ]
  },
  {
   "cell_type": "code",
   "execution_count": 19,
   "id": "a8e217c8-7699-48ed-a0a3-afd780588f00",
   "metadata": {
    "tags": []
   },
   "outputs": [],
   "source": [
    "import os\n",
    "\n",
    "# Unset all environment variables starting with 'OS_'\n",
    "for key in list(os.environ.keys()):\n",
    "    if key.startswith(\"OS_\"):\n",
    "        del os.environ[key]\n"
   ]
  },
  {
   "cell_type": "code",
   "execution_count": 22,
   "id": "2c162fd8-9f0d-4788-81ca-bdf3978296c6",
   "metadata": {
    "tags": []
   },
   "outputs": [
    {
     "name": "stdout",
     "output_type": "stream",
     "text": [
      "/work/restaurant-recommender-iac/restaurant-recommender-iac/tf/kvm\n"
     ]
    }
   ],
   "source": [
    "%cd /work/restaurant-recommender-iac/restaurant-recommender-iac/tf/kvm\n",
    "\n"
   ]
  },
  {
   "cell_type": "code",
   "execution_count": 23,
   "id": "71ab4825-a2a6-4133-902f-dc10071cdcf7",
   "metadata": {
    "tags": []
   },
   "outputs": [
    {
     "name": "stdout",
     "output_type": "stream",
     "text": [
      "clouds:\n",
      "  openstack:\n",
      "    auth:\n",
      "      auth_url: https://kvm.tacc.chameleoncloud.org:5000\n",
      "      application_credential_id: \"d5c4d5e9c9b74b798fdf0d026fa72573\"\n",
      "      application_credential_secret: \"3aUqosO7AhWxqaP-DGT7iwfKbKWWiAEsH57XgG9thcdd-F8wsDqzqx9jD42Lj64ya8SVsdVFy-1eH8TKuAGW6Q\"\n",
      "    region_name: \"KVM@TACC\"\n",
      "    interface: \"public\"\n",
      "    identity_api_version: 3\n",
      "    auth_type: \"v3applicationcredential\"\n",
      "\n",
      "  uc:\n",
      "    auth:\n",
      "      auth_url: https://chi.uc.chameleoncloud.org:5000\n",
      "      application_credential_id: \"REDACTED_UNIQUE_ID_UC\"\n",
      "      application_credential_secret: \"REDACTED_SECRET_UC\"\n",
      "    region_name: \"CHI@UC\"\n",
      "    interface: \"public\"\n",
      "    identity_api_version: 3\n",
      "    auth_type: \"v3applicationcredential\"\n",
      "\n",
      "  chi_tacc:\n",
      "    auth:\n",
      "      auth_url: https://chi.tacc.chameleoncloud.org:5000\n",
      "      application_credential_id: \"REDACTED_UNIQUE_ID_CHI_TACC\"\n",
      "      application_credential_secret: \"REDACTED_SECRET_CHI_TACC\"\n",
      "    region_name: \"CHI@TACC\"\n",
      "    interface: \"public\"\n",
      "    identity_api_version: 3\n",
      "    auth_type: \"v3applicationcredential\"\n"
     ]
    }
   ],
   "source": [
    "!cat clouds.yaml\n"
   ]
  },
  {
   "cell_type": "code",
   "execution_count": 27,
   "id": "1d1cba3b-8cf6-4914-b12c-f332d0e27985",
   "metadata": {
    "tags": []
   },
   "outputs": [],
   "source": [
    "!PYTHONUSERBASE=/work/.local pip install --user -r /work/restaurant-recommender-iac/restaurant-recommender-iac/ansible/k8s/kubespray/requirements.txt\n"
   ]
  },
  {
   "cell_type": "code",
   "execution_count": 28,
   "id": "8c0f7976-8b36-4474-a395-9071292f53de",
   "metadata": {
    "tags": []
   },
   "outputs": [
    {
     "name": "stdout",
     "output_type": "stream",
     "text": [
      "/work/restaurant-recommender-iac/restaurant-recommender-iac/ansible\n"
     ]
    }
   ],
   "source": [
    "%cd /work/restaurant-recommender-iac/restaurant-recommender-iac/ansible\n"
   ]
  },
  {
   "cell_type": "code",
   "execution_count": null,
   "id": "cac68219-9832-48ef-ac94-025513de6be3",
   "metadata": {
    "tags": []
   },
   "outputs": [],
   "source": [
    "!ansible -i inventory.yml all -m ping"
   ]
  },
  {
   "cell_type": "code",
   "execution_count": null,
   "id": "8900f28e-6c6e-4d0b-8070-4b1252856471",
   "metadata": {},
   "outputs": [],
   "source": [
    "ansible-playbook -i inventory.yml general/hello_host.yml"
   ]
  },
  {
   "cell_type": "code",
   "execution_count": null,
   "id": "ac2006d9-47c0-4bd1-b532-4eabb3a7cbd0",
   "metadata": {},
   "outputs": [],
   "source": [
    "import os\n",
    "\n",
    "os.environ[\"PATH\"] = \"/work/.local/bin:\" + os.environ.get(\"PATH\", \"\")\n",
    "os.environ[\"PYTHONUSERBASE\"] = \"/work/.local\"\n"
   ]
  },
  {
   "cell_type": "code",
   "execution_count": null,
   "id": "87b4ab36-3e91-4fcc-ad11-d0b9b396344f",
   "metadata": {},
   "outputs": [],
   "source": [
    "%cd /work/restaurant-recommender-iac/restaurant-recommender-iac/ansible\n",
    "!ansible-playbook -i inventory.yml pre_k8s/pre_k8s_configure.yml\n"
   ]
  },
  {
   "cell_type": "code",
   "execution_count": null,
   "id": "0fbbddee-1770-4b57-92d3-981adfd31788",
   "metadata": {},
   "outputs": [],
   "source": [
    "import os\n",
    "\n",
    "os.environ[\"ANSIBLE_CONFIG\"] = \"/work/restaurant-recommender-iac/restaurant-recommender-iac/ansible/ansible.cfg\"\n",
    "os.environ[\"ANSIBLE_ROLES_PATH\"] = \"roles\"\n"
   ]
  },
  {
   "cell_type": "code",
   "execution_count": null,
   "id": "71cd0399-bca4-4d16-b78f-58776d9e22ec",
   "metadata": {},
   "outputs": [],
   "source": [
    "%cd /work/restaurant-recommender-iac/restaurant-recommender-iac/ansible/k8s/kubespray\n",
    "!ansible-playbook -i ../inventory/mycluster --become --become-user=root ./cluster.yml\n"
   ]
  },
  {
   "cell_type": "code",
   "execution_count": 47,
   "id": "624f1a6e-4240-46cd-8081-6bdffd62af8e",
   "metadata": {
    "tags": []
   },
   "outputs": [],
   "source": [
    "### Access the Kubernetes dashboard (optional)\n"
   ]
  },
  {
   "cell_type": "code",
   "execution_count": null,
   "id": "bb0cb923-102e-489d-a522-d48479a08f58",
   "metadata": {},
   "outputs": [],
   "source": [
    "!kubectl port-forward -n kube-system svc/kubernetes-dashboard 8443:443 --address 0.0.0.0\n"
   ]
  },
  {
   "cell_type": "code",
   "execution_count": 48,
   "id": "5a7e81d6-41f2-41f9-870a-12ecba531803",
   "metadata": {
    "tags": []
   },
   "outputs": [],
   "source": [
    "#Access the ArgoCD dashboard (optional)\n"
   ]
  },
  {
   "cell_type": "code",
   "execution_count": null,
   "id": "d39d6c33-e8fa-4b46-a2fc-53bff86abba3",
   "metadata": {},
   "outputs": [],
   "source": [
    "!kubectl port-forward -n argocd svc/argocd-server 8888:443 --address 0.0.0.0\n"
   ]
  },
  {
   "cell_type": "code",
   "execution_count": 49,
   "id": "e9dc68b8-5741-4ad0-b330-8c0861c09285",
   "metadata": {
    "tags": []
   },
   "outputs": [],
   "source": [
    "#Access the Argo Workflows dashboard (optional)"
   ]
  },
  {
   "cell_type": "code",
   "execution_count": null,
   "id": "68b96dfe-9ad9-425f-89ab-b9ed48efa4e2",
   "metadata": {},
   "outputs": [],
   "source": [
    "!kubectl -n argo port-forward svc/argo-server 2746:2746 --address 0.0.0.0\n"
   ]
  },
  {
   "cell_type": "code",
   "execution_count": 51,
   "id": "9818ca01-e98b-48f5-84e0-335fee52b2de",
   "metadata": {
    "tags": []
   },
   "outputs": [],
   "source": [
    "import os\n",
    "\n",
    "os.environ[\"PATH\"] = \"/work/.local/bin:\" + os.environ.get(\"PATH\", \"\")\n",
    "os.environ[\"PYTHONUSERBASE\"] = \"/work/.local\"\n",
    "os.environ[\"ANSIBLE_CONFIG\"] = \"/work/restaurant-recommender-iac/restaurant-recommender-iac/ansible/ansible.cfg\"\n",
    "os.environ[\"ANSIBLE_ROLES_PATH\"] = \"roles\"\n"
   ]
  },
  {
   "cell_type": "code",
   "execution_count": null,
   "id": "dad466bf-df3e-4dc4-86d7-167fb730c4fc",
   "metadata": {},
   "outputs": [],
   "source": [
    "%cd /work/restaurant-recommender-iac/restaurant-recommender-iac/ansible\n",
    "!ansible-playbook -i inventory.yml argocd/argocd_add_platform.yml\n"
   ]
  },
  {
   "cell_type": "code",
   "execution_count": null,
   "id": "5540574e-8092-49e7-a97b-55cada87731b",
   "metadata": {},
   "outputs": [],
   "source": [
    "###MinIO object store on http://A.B.C.D:9001 (substitute your own floating IP) - log in with the access key and secret printed by the playbook above. Our model artifacts will be stored here once we start generating them.\n",
    "###MLFlow model registry on http://A.B.C.D:8000 (substitute your own floating IP), and click on the “Models” tab."
   ]
  },
  {
   "cell_type": "code",
   "execution_count": null,
   "id": "e049d630",
   "metadata": {},
   "outputs": [],
   "source": [
    "%cd /work/restaurant-recommender-iac/restaurant-recommender-iac/ansible\n",
    "!ansible-playbook -i inventory.yml argocd/workflow_build_init.yml\n"
   ]
  },
  {
   "cell_type": "code",
   "execution_count": null,
   "id": "614e485c",
   "metadata": {},
   "outputs": [],
   "source": [
    "%cd /work/restaurant-recommender-iac/restaurant-recommender-iac/ansible\n",
    "!ansible-playbook -i inventory.yml argocd/argocd_add_staging.yml\n"
   ]
  },
  {
   "cell_type": "code",
   "execution_count": null,
   "id": "a1850a0e",
   "metadata": {},
   "outputs": [],
   "source": [
    "%cd /work/restaurant-recommender-iac/restaurant-recommender-iac/ansible\n",
    "!ansible-playbook -i inventory.yml argocd/argocd_add_canary.yml\n"
   ]
  },
  {
   "cell_type": "code",
   "execution_count": null,
   "id": "a22e4c93",
   "metadata": {},
   "outputs": [],
   "source": [
    "%cd /work/restaurant-recommender-iac/restaurant-recommender-iac/ansible\n",
    "!ansible-playbook -i inventory.yml argocd/argocd_add_prod.yml\n"
   ]
  },
  {
   "cell_type": "markdown",
   "id": "cdc17c0b",
   "metadata": {},
   "source": [
    "http://A.B.C.D:8081 (substituting the value of your floating IP) to test the staging service\n",
    "\n",
    "http://A.B.C.D:8080 (substituting the value of your floating IP) to test the canary service\n",
    "\n",
    "http://A.B.C.D (substituting the value of your floating IP) to test the production service"
   ]
  },
  {
   "cell_type": "markdown",
   "id": "53f35894",
   "metadata": {},
   "source": [
    "%cd /work/restaurant-recommender-iac/restaurant-recommender-iac/ansible\n",
    "!ansible-playbook -i inventory.yml argocd/workflow_templates_apply.yml\n"
   ]
  },
  {
   "cell_type": "code",
   "execution_count": null,
   "id": "ddce9ea9",
   "metadata": {},
   "outputs": [],
   "source": [
    "!docker run --rm -d -p 9090:8000 \\\n",
    "    -e MLFLOW_TRACKING_URI=http://A.B.C.D:8000/ \\\n",
    "    -e GIT_PYTHON_REFRESH=quiet \\\n",
    "    --name recommendation-train \\\n",
    "    recommendation-train\n"
   ]
  },
  {
   "cell_type": "code",
   "execution_count": null,
   "id": "a06bd6f1",
   "metadata": {},
   "outputs": [],
   "source": [
    "# Step 1: Change directory to the Terraform folder\n",
    "%cd /work/restaurant-recommender-iac/restaurant-recommender-iac/tf/kvm\n",
    "\n",
    "# Step 2: Set environment variables and clean OS_*\n",
    "import os\n",
    "os.environ[\"PATH\"] = \"/work/.local/bin:\" + os.environ.get(\"PATH\", \"\")\n",
    "os.environ[\"TF_VAR_suffix\"] = \"project23\"  # <-- Replace with your NetID\n",
    "os.environ[\"TF_VAR_key\"] = \"id_rsa_project23\"  # <-- Replace with your SSH key name\n",
    "\n",
    "# Unset all OS_... environment variables to avoid OpenStack conflicts\n",
    "for key in list(os.environ.keys()):\n",
    "    if key.startswith(\"OS_\"):\n",
    "        del os.environ[key]\n"
   ]
  },
  {
   "cell_type": "code",
   "execution_count": null,
   "id": "f41185be",
   "metadata": {},
   "outputs": [],
   "source": [
    "!terraform destroy -auto-approve\n"
   ]
  }
 ],
 "metadata": {
  "kernelspec": {
   "display_name": "Python 3 (ipykernel)",
   "language": "python",
   "name": "python3"
  },
  "language_info": {
   "codemirror_mode": {
    "name": "ipython",
    "version": 3
   },
   "file_extension": ".py",
   "mimetype": "text/x-python",
   "name": "python",
   "nbconvert_exporter": "python",
   "pygments_lexer": "ipython3",
   "version": "3.10.9"
  }
 },
 "nbformat": 4,
 "nbformat_minor": 5
}
