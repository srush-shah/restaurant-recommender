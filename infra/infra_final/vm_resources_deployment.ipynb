{
 "cells": [
  {
   "cell_type": "code",
   "execution_count": null,
   "id": "1b265093-5f76-49f3-ac9f-4738b8b79d2d",
   "metadata": {
    "tags": []
   },
   "outputs": [],
   "source": [
    "from chi import server, context\n",
    "import chi, os, time, datetime\n",
    "\n",
    "context.version = \"1.0\" \n",
    "context.choose_project()\n",
    "context.choose_site(default=\"KVM@TACC\")"
   ]
  },
  {
   "cell_type": "code",
   "execution_count": null,
   "id": "a6da4073-8cfc-46c5-b168-2e24b9c7dba2",
   "metadata": {
    "tags": []
   },
   "outputs": [],
   "source": [
    "username = \"project23\"  # custom suffix for all resource names\n",
    "username"
   ]
  },
  {
   "cell_type": "code",
   "execution_count": null,
   "id": "8193355d-ef64-4edd-8e97-31010ed19ed6",
   "metadata": {
    "tags": []
   },
   "outputs": [],
   "source": [
    "#username = os.getenv('USER') # all exp resources will have this prefix\n",
    "s = server.Server(\n",
    "    f\"node-final-{username}\", \n",
    "    image_name=\"CC-Ubuntu24.04\",\n",
    "    flavor_name=\"m1.medium\"  # specify the shared key uploaded to the project\n",
    ")\n",
    "s.submit(idempotent=True)"
   ]
  },
  {
   "cell_type": "code",
   "execution_count": null,
   "id": "a8cd00aa-d3f8-4422-8ca3-e5840ff51a07",
   "metadata": {
    "tags": []
   },
   "outputs": [],
   "source": [
    "s.associate_floating_ip()\n"
   ]
  },
  {
   "cell_type": "code",
   "execution_count": null,
   "id": "b6ff3cdd-aeaa-439a-bd62-2a2e885ce4c9",
   "metadata": {
    "tags": []
   },
   "outputs": [],
   "source": [
    "s.refresh()\n",
    "s.check_connectivity()"
   ]
  },
  {
   "cell_type": "code",
   "execution_count": null,
   "id": "fcf62679-a050-4069-b794-22e38497940f",
   "metadata": {
    "tags": []
   },
   "outputs": [],
   "source": [
    "s.refresh()\n",
    "s.show(type=\"widget\")"
   ]
  },
  {
   "cell_type": "code",
   "execution_count": null,
   "id": "2e16d18b-bf9c-4016-bb97-209bf4a15634",
   "metadata": {
    "tags": []
   },
   "outputs": [],
   "source": [
    "security_groups = [\n",
    "  {'name': \"allow-ssh\", 'port': 22, 'description': \"Enable SSH traffic on TCP port 22\"},\n",
    "  {'name': \"allow-5000\", 'port': 5000, 'description': \"Enable TCP port 5000 (used by MLFlow)\"},\n",
    "  {'name': \"allow-8000\", 'port': 8000, 'description': \"Enable TCP port 8000 (used by FastAPI)\"},\n",
    "  {'name': \"allow-8888\", 'port': 8888, 'description': \"Enable TCP port 8888 (used by Jupyter)\"},\n",
    "  {'name': \"allow-3000\", 'port': 3000, 'description': \"Enable TCP port 3000 (used by Grafana)\"},\n",
    "  {'name': \"allow-9090\", 'port': 9090, 'description': \"Enable TCP port 9090 (used by Prometheus)\"},\n",
    "#  {'name': \"allow-8080\", 'port': 8080, 'description': \"Enable TCP port 8080 (used by Airflow)\"},\n",
    "  {'name': \"allow-9000\", 'port': 9000, 'description': \"Enable TCP port 9000 (used by MinIO API)\"},\n",
    "  {'name': \"allow-9001\", 'port': 9001, 'description': \"Enable TCP port 9001 (used by MinIO Web UI)\"},\n",
    "]"
   ]
  },
  {
   "cell_type": "code",
   "execution_count": null,
   "id": "82b0e6fd-ec7b-452d-bf9e-28a4cf1f22e0",
   "metadata": {
    "tags": []
   },
   "outputs": [],
   "source": [
    "# configure openstacksdk for actions unsupported by python-chi\n",
    "os_conn = chi.clients.connection()\n",
    "nova_server = chi.nova().servers.get(s.id)\n",
    "\n",
    "for sg in security_groups:\n",
    "\n",
    "  if not os_conn.get_security_group(sg['name']):\n",
    "      os_conn.create_security_group(sg['name'], sg['description'])\n",
    "      os_conn.create_security_group_rule(sg['name'], port_range_min=sg['port'], port_range_max=sg['port'], protocol='tcp', remote_ip_prefix='0.0.0.0/0')\n",
    "\n",
    "  nova_server.add_security_group(sg['name'])\n",
    "\n",
    "print(f\"updated security groups: {[group.name for group in nova_server.list_security_group()]}\")"
   ]
  },
  {
   "cell_type": "code",
   "execution_count": null,
   "id": "69bc2ee1-4a89-456c-b95e-b50d9f8cf696",
   "metadata": {
    "tags": []
   },
   "outputs": [],
   "source": [
    "#s.execute(\"rm -rf restaurant-recommender && git clone https://github.com/srush-shah/restaurant-recommender\")\n"
   ]
  },
  {
   "cell_type": "code",
   "execution_count": null,
   "id": "053ba079-ff71-4984-8421-e63e742e9579",
   "metadata": {
    "tags": []
   },
   "outputs": [],
   "source": [
    "s.execute(\"git clone https://github.com/srush-shah/restaurant-recommender\")"
   ]
  },
  {
   "cell_type": "code",
   "execution_count": null,
   "id": "7cf05ed3-fff0-4332-8450-bef506db06ad",
   "metadata": {
    "tags": []
   },
   "outputs": [],
   "source": [
    "s.execute(\"curl -sSL https://get.docker.com/ | sudo sh\")\n",
    "s.execute(\"sudo groupadd -f docker; sudo usermod -aG docker $USER\")"
   ]
  },
  {
   "cell_type": "code",
   "execution_count": null,
   "id": "8f9160ed-1917-4f7a-8e99-3920d70ea0fb",
   "metadata": {
    "tags": []
   },
   "outputs": [],
   "source": [
    "s.execute(\"curl https://rclone.org/install.sh | sudo bash\")\n",
    "s.execute(\"sudo sed -i '/^#user_allow_other/s/^#//' /etc/fuse.conf\")\n",
    "s.execute(\"mkdir -p ~/.config/rclone\")\n",
    "s.execute('''cat > ~/.config/rclone/rclone.conf <<'EOF'\n",
    "[chi_tacc]\n",
    "type = swift\n",
    "user_id = 59b49300deb6f11832f7764d9f2c3451ba51e578bb556d58e02bf4c64bd89a31\n",
    "application_credential_id = aba2c756cb1649b6bd47c572f67a9528\n",
    "application_credential_secret = HnUZC1Dvhnw1A5-19LiDQORiWURpL1IflqK3tk506NXJp8Tb0HSW4m0V9Ch4zEhwV9WR7tTxiAPTcTGHMi2SKw\n",
    "auth = https://chi.tacc.chameleoncloud.org:5000/v3\n",
    "region = CHI@TACC\n",
    "EOF''')\n",
    "s.execute(\"rclone lsd chi_tacc:\")\n",
    "s.execute(\"export RCLONE_CONTAINER=object-persist-project23\")\n",
    "s.execute(\"sudo mkdir -p /mnt/object\")\n",
    "s.execute(\"sudo chown -R cc /mnt/object\")\n",
    "s.execute(\"sudo chgrp -R cc /mnt/object\")\n",
    "s.execute(\"rclone mount chi_tacc:object-persist-project23 /mnt/object --read-only --allow-other --daemon\")\n",
    "s.execute(\"ls /mnt/object\")"
   ]
  },
  {
   "cell_type": "code",
   "execution_count": null,
   "id": "edb9595d-1e9c-410a-87f7-dc1e6c24c780",
   "metadata": {
    "tags": []
   },
   "outputs": [],
   "source": [
    "s.execute(\"sh ~/restaurant-recommender/monitoring/start_services.sh\")"
   ]
  },
  {
   "cell_type": "code",
   "execution_count": null,
   "id": "35343bc4-db27-426c-b6f7-d6900e3f1dc2",
   "metadata": {},
   "outputs": [],
   "source": [
    "s.execute(\"\n",
    "docker run -d --rm \\\n",
    "    -p 8888:8888 \\\n",
    "    -v /home/cc/my_workspace:/home/jovyan/work \\\n",
    "    -v /mnt/object:/home/jovyan/work/data \\\n",
    "    --name jupyter \\\n",
    "    quay.io/jupyter/pytorch-notebook:pytorch-2.5.1\n",
    "\")\n"
   ]
  }
 ],
 "metadata": {
  "kernelspec": {
   "display_name": "Python 3 (ipykernel)",
   "language": "python",
   "name": "python3"
  },
  "language_info": {
   "codemirror_mode": {
    "name": "ipython",
    "version": 3
   },
   "file_extension": ".py",
   "mimetype": "text/x-python",
   "name": "python",
   "nbconvert_exporter": "python",
   "pygments_lexer": "ipython3",
   "version": "3.10.9"
  }
 },
 "nbformat": 4,
 "nbformat_minor": 5
}
