{
 "cells": [
  {
   "cell_type": "code",
   "execution_count": 15,
   "id": "dd5a72be-12c7-4c6e-92d7-8590397cd359",
   "metadata": {},
   "outputs": [],
   "source": [
    "import requests\n",
    "import random\n",
    "from concurrent.futures import ThreadPoolExecutor, as_completed\n",
    "import time"
   ]
  },
  {
   "cell_type": "code",
   "execution_count": 6,
   "id": "b087d680-1703-4270-aa6d-d6590ffa5566",
   "metadata": {},
   "outputs": [],
   "source": [
    "FASTAPI_URL = \"http://129.114.27.200:8000/recommend\"\n",
    "payload = {\"user_id\": \"22ml-CTcoabnc-uu4WXXOw\"}\n",
    "num_requests = 100\n",
    "\n",
    "for _ in range(num_requests):\n",
    "    response = requests.post(FASTAPI_URL, json=payload)"
   ]
  },
  {
   "cell_type": "code",
   "execution_count": 13,
   "id": "f3a64b87-4f22-4b76-b664-f4dfce0417b2",
   "metadata": {},
   "outputs": [],
   "source": [
    "FASTAPI_URL = \"http://129.114.27.200:8000/recommend\"\n",
    "payload = {\"user_id\": \"22ml-CTcoabnc-uu4WXXOw\"}\n",
    "\n",
    "def send_continuous_requests(duration_sec):\n",
    "    session = requests.Session()\n",
    "    # mount adapter to support enough connections in the pool\n",
    "    adapter = requests.adapters.HTTPAdapter(pool_connections=100, pool_maxsize=100)\n",
    "    session.mount(\"http://\", adapter)\n",
    "\n",
    "    start = time.time()\n",
    "    while time.time() - start < duration_sec:\n",
    "        try:\n",
    "            session.post(FASTAPI_URL, json=payload, timeout=5)\n",
    "        except Exception:\n",
    "            pass  # swallow errors for load test\n",
    "\n",
    "def run_load_stage(concurrent_workers, duration_sec):\n",
    "    with ThreadPoolExecutor(max_workers=concurrent_workers) as ex:\n",
    "        futures = [ex.submit(send_continuous_requests, duration_sec)\n",
    "                   for _ in range(concurrent_workers)]\n",
    "        for f in futures:\n",
    "            f.result()\n",
    "\n",
    "load_pattern = [1, 2, 3, 5, 3, 2, 1]\n",
    "delay = 30\n",
    "for c in load_pattern:\n",
    "    run_load_stage(c, delay)"
   ]
  },
  {
   "cell_type": "code",
   "execution_count": 18,
   "id": "ac7f40b0-df8c-494b-b4e5-cbedf36b6d4a",
   "metadata": {},
   "outputs": [
    {
     "name": "stdout",
     "output_type": "stream",
     "text": [
      "Starting stage: 1 workers for 30s\n",
      "Completed stage: 1 workers\n",
      "\n",
      "Starting stage: 3 workers for 30s\n",
      "Completed stage: 3 workers\n",
      "\n",
      "Starting stage: 5 workers for 30s\n",
      "Completed stage: 5 workers\n",
      "\n",
      "Starting stage: 10 workers for 30s\n",
      "Completed stage: 10 workers\n",
      "\n",
      "Starting stage: 5 workers for 30s\n",
      "Completed stage: 5 workers\n",
      "\n",
      "Starting stage: 3 workers for 30s\n",
      "Completed stage: 3 workers\n",
      "\n",
      "Starting stage: 1 workers for 30s\n",
      "Completed stage: 1 workers\n",
      "\n"
     ]
    }
   ],
   "source": [
    "FASTAPI_URL = \"http://129.114.27.200:8000/recommend\"\n",
    "load_pattern = [1, 3, 5, 10, 5, 3, 1]  # concurrency levels\n",
    "delay_between_steps = 30  # seconds per stage\n",
    "\n",
    "def send_continuous_requests(duration_sec):\n",
    "    session = requests.Session()\n",
    "    adapter = requests.adapters.HTTPAdapter(pool_connections=100, pool_maxsize=100)\n",
    "    session.mount(\"http://\", adapter)\n",
    "\n",
    "    start = time.time()\n",
    "    while time.time() - start < duration_sec:\n",
    "        payload = random.choice([{}, {\"user_id\": \"bad data\"}])\n",
    "        try:\n",
    "            session.post(FASTAPI_URL, json=payload, timeout=5)\n",
    "        except Exception:\n",
    "            pass  # ignore errors during load test\n",
    "\n",
    "def run_load_stage(concurrent_workers, duration_sec):\n",
    "    with ThreadPoolExecutor(max_workers=concurrent_workers) as executor:\n",
    "        futures = [\n",
    "            executor.submit(send_continuous_requests, duration_sec)\n",
    "            for _ in range(concurrent_workers)\n",
    "        ]\n",
    "        for f in futures:\n",
    "            f.result()\n",
    "\n",
    "for load in load_pattern:\n",
    "    print(f\"Starting stage: {load} workers for {delay_between_steps}s\")\n",
    "    run_load_stage(load, delay_between_steps)\n",
    "    print(f\"Completed stage: {load} workers\\n\")"
   ]
  },
  {
   "cell_type": "code",
   "execution_count": null,
   "id": "7a223e4f-1f8e-4f98-8cd7-741ffde81469",
   "metadata": {},
   "outputs": [],
   "source": []
  }
 ],
 "metadata": {
  "kernelspec": {
   "display_name": "Python 3 (ipykernel)",
   "language": "python",
   "name": "python3"
  },
  "language_info": {
   "codemirror_mode": {
    "name": "ipython",
    "version": 3
   },
   "file_extension": ".py",
   "mimetype": "text/x-python",
   "name": "python",
   "nbconvert_exporter": "python",
   "pygments_lexer": "ipython3",
   "version": "3.12.8"
  }
 },
 "nbformat": 4,
 "nbformat_minor": 5
}
