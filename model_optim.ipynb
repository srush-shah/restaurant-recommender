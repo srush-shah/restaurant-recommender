{
 "cells": [
  {
   "cell_type": "code",
   "execution_count": 30,
   "id": "b054c352-d87e-42b1-9e53-b0834c99d453",
   "metadata": {},
   "outputs": [],
   "source": [
    "import os\n",
    "import torch\n",
    "import torch.nn as nn\n",
    "from torch.utils.data import TensorDataset, DataLoader\n",
    "from torchinfo import summary\n",
    "import time\n",
    "import numpy as np\n",
    "import pandas as pd"
   ]
  },
  {
   "cell_type": "code",
   "execution_count": 2,
   "id": "9583a334-edb1-4f79-9d0a-5f116a208de2",
   "metadata": {},
   "outputs": [],
   "source": [
    "class SimpleMLP(nn.Module):\n",
    "    def __init__(self, input_feature_dim, hidden_dim_1, hidden_dim_2, output_size=1): \n",
    "        super(SimpleMLP, self).__init__()\n",
    "        self.fc1 = nn.Linear(input_feature_dim, hidden_dim_1)\n",
    "        self.relu1 = nn.ReLU()                        \n",
    "        self.fc2 = nn.Linear(hidden_dim_1, hidden_dim_2)\n",
    "        self.relu2 = nn.ReLU()\n",
    "        self.output_logits = nn.Linear(hidden_dim_2, output_size)\n",
    "\n",
    "    def forward(self, x):\n",
    "        x = self.relu1(self.fc1(x))\n",
    "        x = self.relu2(self.fc2(x))\n",
    "        logits = self.output_logits(x)\n",
    "        \n",
    "        # Scale sigmoid output to be between 0 and 5\n",
    "        rating = 5.0 * torch.sigmoid(logits)\n",
    "        return rating"
   ]
  },
  {
   "cell_type": "code",
   "execution_count": 15,
   "id": "99c84686-bbc2-4550-9c8b-1fda59969876",
   "metadata": {},
   "outputs": [
    {
     "name": "stderr",
     "output_type": "stream",
     "text": [
      "/tmp/ipykernel_18295/3220036478.py:7: FutureWarning: You are using `torch.load` with `weights_only=False` (the current default value), which uses the default pickle module implicitly. It is possible to construct malicious pickle data which will execute arbitrary code during unpickling (See https://github.com/pytorch/pytorch/blob/main/SECURITY.md#untrusted-models for more details). In a future release, the default value for `weights_only` will be flipped to `True`. This limits the functions that could be executed during unpickling. Arbitrary objects will no longer be allowed to be loaded via this mode unless they are explicitly allowlisted by the user via `torch.serialization.add_safe_globals`. We recommend you start setting `weights_only=True` for any use case where you don't have full control of the loaded file. Please open an issue on GitHub for any issues related to this experimental feature.\n",
      "  model.load_state_dict(torch.load(model_path, map_location=device))\n"
     ]
    },
    {
     "data": {
      "text/plain": [
       "=================================================================\n",
       "Layer (type:depth-idx)                   Param #\n",
       "=================================================================\n",
       "SimpleMLP                                --\n",
       "├─Linear: 1-1                            108,288\n",
       "├─ReLU: 1-2                              --\n",
       "├─Linear: 1-3                            32,896\n",
       "├─ReLU: 1-4                              --\n",
       "├─Linear: 1-5                            129\n",
       "=================================================================\n",
       "Total params: 141,313\n",
       "Trainable params: 141,313\n",
       "Non-trainable params: 0\n",
       "================================================================="
      ]
     },
     "execution_count": 15,
     "metadata": {},
     "output_type": "execute_result"
    }
   ],
   "source": [
    "INPUT_DIM = 422\n",
    "H1, H2 = 256, 128\n",
    "\n",
    "model_path = \"./models/simple_mlp_ratings_statedict.pth\"\n",
    "device = torch.device(\"cpu\")\n",
    "\n",
    "model = SimpleMLP(INPUT_DIM, H1, H2).to(device)\n",
    "model.load_state_dict(torch.load(model_path, map_location=device))\n",
    "model.eval()\n",
    "summary(model)"
   ]
  },
  {
   "cell_type": "markdown",
   "id": "00ea7c3f-370c-418a-9fcd-8e8508cea267",
   "metadata": {},
   "source": [
    "### Model Size"
   ]
  },
  {
   "cell_type": "code",
   "execution_count": 16,
   "id": "c30e4d5c-8c21-4c07-bb5a-5af90a8d190d",
   "metadata": {},
   "outputs": [
    {
     "name": "stdout",
     "output_type": "stream",
     "text": [
      "Model Size on Disk: 0.57 MB\n"
     ]
    }
   ],
   "source": [
    "model_size = os.path.getsize(model_path) \n",
    "print(f\"Model Size on Disk: {model_size/ (1e6) :.2f} MB\")"
   ]
  }
 ],
 "metadata": {
  "kernelspec": {
   "display_name": "Python 3 (ipykernel)",
   "language": "python",
   "name": "python3"
  },
  "language_info": {
   "codemirror_mode": {
    "name": "ipython",
    "version": 3
   },
   "file_extension": ".py",
   "mimetype": "text/x-python",
   "name": "python",
   "nbconvert_exporter": "python",
   "pygments_lexer": "ipython3",
   "version": "3.12.8"
  }
 },
 "nbformat": 4,
 "nbformat_minor": 5
}
