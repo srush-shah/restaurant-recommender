{
 "cells": [
  {
   "cell_type": "code",
   "execution_count": 6,
   "id": "ab439f55-7bbc-49e9-88b8-f9a7cd31c6e8",
   "metadata": {},
   "outputs": [],
   "source": [
    "!pip install huggingface_hub --quiet\n",
    "!pip install transformers --quiet\n",
    "!pip install torch --quiet"
   ]
  },
  {
   "cell_type": "code",
   "execution_count": 5,
   "id": "d1a06d73-971b-4105-a439-fb7f0ebf86ec",
   "metadata": {},
   "outputs": [
    {
     "name": "stdout",
     "output_type": "stream",
     "text": [
      "/opt/conda/lib/python3.11/site-packages/huggingface_hub/commands/download.py:139: FutureWarning: Ignoring --local-dir-use-symlinks. Downloading to a local directory does not use symlinks anymore.\n",
      "  warnings.warn(\n",
      "/home/jovyan/work/bert-base-uncased\n"
     ]
    }
   ],
   "source": [
    "!huggingface-cli download bert-base-uncased --local-dir bert-base-uncased --local-dir-use-symlinks False --quiet"
   ]
  },
  {
   "cell_type": "code",
   "execution_count": null,
   "id": "b9969b70-8809-4d4b-bf85-927e54f44016",
   "metadata": {},
   "outputs": [],
   "source": [
    "from transformers import AutoTokenizer, AutoModel\n",
    "import torch\n",
    "import numpy as np"
   ]
  },
  {
   "cell_type": "code",
   "execution_count": null,
   "id": "f94aefa5-c90a-43e1-b7a4-36a7393a9e3e",
   "metadata": {},
   "outputs": [],
   "source": [
    "local_model_path = './bert-base-uncased'\n",
    "\n",
    "tokenizer = AutoTokenizer.from_pretrained(local_model_path)\n",
    "model = AutoModel.from_pretrained(local_model_path)\n",
    "\n",
    "# Move the model to GPU if available for faster processing\n",
    "device = torch.device(\"rocm\" if torch.cuda.is_available() and torch.cuda.device_count() > 0 and torch.version.hip is not None else \"cpu\")\n",
    "model.to(device)\n",
    "model.eval() # Set the model to evaluation mode for inference"
   ]
  }
 ],
 "metadata": {
  "kernelspec": {
   "display_name": "Python 3 (ipykernel)",
   "language": "python",
   "name": "python3"
  },
  "language_info": {
   "codemirror_mode": {
    "name": "ipython",
    "version": 3
   },
   "file_extension": ".py",
   "mimetype": "text/x-python",
   "name": "python",
   "nbconvert_exporter": "python",
   "pygments_lexer": "ipython3",
   "version": "3.11.6"
  }
 },
 "nbformat": 4,
 "nbformat_minor": 5
}
