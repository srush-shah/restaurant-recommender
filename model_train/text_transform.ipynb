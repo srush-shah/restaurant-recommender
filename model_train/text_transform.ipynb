{
 "cells": [
  {
   "cell_type": "markdown",
   "id": "3529f1f0-e81e-4885-b3e8-e6264c887c99",
   "metadata": {},
   "source": [
    "Run this in a terminal session from the CHI@TACC node, not the chameleon one. This will install all the Python libraries we will be using to host the Bert model and transform the text review data"
   ]
  },
  {
   "cell_type": "markdown",
   "id": "cb6003d3-aa29-4021-a4e0-c42663209530",
   "metadata": {},
   "source": [
    "    pip install transformers torch pandas accelerate datasets scikit-learn tqdm"
   ]
  },
  {
   "cell_type": "markdown",
   "id": "91d2032e-72ab-44f5-8cc1-2dd08b2860f3",
   "metadata": {},
   "source": [
    "Now we can begin the text transformation process"
   ]
  },
  {
   "cell_type": "code",
   "execution_count": 1,
   "id": "41620bd5-3822-4216-a1e0-960adca7f1af",
   "metadata": {},
   "outputs": [
    {
     "name": "stdout",
     "output_type": "stream",
     "text": [
      "PyTorch version: 2.5.1+cu124\n",
      "Pandas version: 2.2.3\n"
     ]
    }
   ],
   "source": [
    "import torch\n",
    "import pandas as pd\n",
    "import json\n",
    "from transformers import BertTokenizer, BertModel\n",
    "from tqdm.notebook import tqdm # For progress bars, especially useful for long operations\n",
    "import gc # Garbage collector\n",
    "\n",
    "print(f\"PyTorch version: {torch.__version__}\")\n",
    "print(f\"Pandas version: {pd.__version__}\")"
   ]
  },
  {
   "cell_type": "code",
   "execution_count": 11,
   "id": "931cd609-9d72-49fa-87c3-7496b87d6389",
   "metadata": {},
   "outputs": [
    {
     "name": "stdout",
     "output_type": "stream",
     "text": [
      "PyTorch can use GPU 0: Tesla V100-PCIE-16GB\n",
      "PyTorch can use GPU 1: Tesla P100-PCIE-16GB\n"
     ]
    }
   ],
   "source": [
    "# Check for GPU availability and set the device\n",
    "if torch.cuda.is_available():\n",
    "    device = torch.device(\"cuda\")\n",
    "    for i in range(torch.cuda.device_count()):\n",
    "        print(f\"PyTorch can use GPU {i}: {torch.cuda.get_device_name(i)}\")\n",
    "else:\n",
    "    device = torch.device(\"cpu\")\n",
    "    print(\"PyTorch is using CPU. Check your Docker GPU setup if this is unexpected.\")"
   ]
  },
  {
   "cell_type": "code",
   "execution_count": 3,
   "id": "a0d8f03d-94ac-44d4-b57f-08d5ea77f91e",
   "metadata": {},
   "outputs": [
    {
     "data": {
      "application/vnd.jupyter.widget-view+json": {
       "model_id": "6437f8e39d294e1785be838211fd3989",
       "version_major": 2,
       "version_minor": 0
      },
      "text/plain": [
       "tokenizer_config.json:   0%|          | 0.00/48.0 [00:00<?, ?B/s]"
      ]
     },
     "metadata": {},
     "output_type": "display_data"
    },
    {
     "data": {
      "application/vnd.jupyter.widget-view+json": {
       "model_id": "a988f98c0dca48579385aa424e61692f",
       "version_major": 2,
       "version_minor": 0
      },
      "text/plain": [
       "vocab.txt:   0%|          | 0.00/232k [00:00<?, ?B/s]"
      ]
     },
     "metadata": {},
     "output_type": "display_data"
    },
    {
     "data": {
      "application/vnd.jupyter.widget-view+json": {
       "model_id": "fc58ebc09637459686942e17bd4ccd64",
       "version_major": 2,
       "version_minor": 0
      },
      "text/plain": [
       "tokenizer.json:   0%|          | 0.00/466k [00:00<?, ?B/s]"
      ]
     },
     "metadata": {},
     "output_type": "display_data"
    },
    {
     "data": {
      "application/vnd.jupyter.widget-view+json": {
       "model_id": "eed0f033de2545b1a5bf853f0e03061a",
       "version_major": 2,
       "version_minor": 0
      },
      "text/plain": [
       "config.json:   0%|          | 0.00/570 [00:00<?, ?B/s]"
      ]
     },
     "metadata": {},
     "output_type": "display_data"
    },
    {
     "name": "stdout",
     "output_type": "stream",
     "text": [
      "BERT tokenizer loaded.\n"
     ]
    },
    {
     "data": {
      "application/vnd.jupyter.widget-view+json": {
       "model_id": "02707f15ccaa4ec0aae5621c2179bbff",
       "version_major": 2,
       "version_minor": 0
      },
      "text/plain": [
       "model.safetensors:   0%|          | 0.00/440M [00:00<?, ?B/s]"
      ]
     },
     "metadata": {},
     "output_type": "display_data"
    },
    {
     "name": "stdout",
     "output_type": "stream",
     "text": [
      "BERT model loaded.\n",
      "Let's use 2 GPUs!\n"
     ]
    },
    {
     "name": "stderr",
     "output_type": "stream",
     "text": [
      "/opt/conda/lib/python3.12/site-packages/torch/nn/parallel/data_parallel.py:37: UserWarning: \n",
      "    There is an imbalance between your GPUs. You may want to exclude GPU 1 which\n",
      "    has less than 75% of the memory or cores of GPU 0. You can do so by setting\n",
      "    the device_ids argument to DataParallel, or by setting the CUDA_VISIBLE_DEVICES\n",
      "    environment variable.\n",
      "  warnings.warn(\n"
     ]
    },
    {
     "name": "stdout",
     "output_type": "stream",
     "text": [
      "Model moved to cuda.\n",
      "Model set to evaluation mode.\n"
     ]
    }
   ],
   "source": [
    "# Load the tokenizer for bert-base-uncased\n",
    "tokenizer = BertTokenizer.from_pretrained('bert-base-uncased')\n",
    "print(\"BERT tokenizer loaded.\")\n",
    "\n",
    "# Load the pre-trained bert-base-uncased model\n",
    "model = BertModel.from_pretrained('bert-base-uncased')\n",
    "print(\"BERT model loaded.\")\n",
    "\n",
    "if torch.cuda.device_count() > 1:\n",
    "    print(f\"Let's use {torch.cuda.device_count()} GPUs!\")\n",
    "    model = torch.nn.DataParallel(model) # Wrap the model\n",
    "\n",
    "# Move the model to the selected device (GPU)\n",
    "model.to(device)\n",
    "print(f\"Model moved to {device}.\")\n",
    "\n",
    "# Set the model to evaluation mode (important if you're not fine-tuning)\n",
    "model.eval()\n",
    "print(\"Model set to evaluation mode.\")"
   ]
  },
  {
   "cell_type": "code",
   "execution_count": null,
   "id": "e3c44df5-6e0e-4b6e-a4e2-c07f5c90b601",
   "metadata": {},
   "outputs": [],
   "source": [
    "json_file_path = './data/raw/yelp_academic_dataset_review.json'\n",
    "\n",
    "# Define the field names from your JSON objects\n",
    "# (Based on your screenshot)\n",
    "review_id_field = 'review_id'\n",
    "user_id_field = 'user_id'\n",
    "business_id_field = 'business_id'\n",
    "stars_field = 'stars' # We'll extract it but might not use it directly for embedding\n",
    "date_field = 'date'\n",
    "text_field = 'text'\n",
    "\n",
    "# Set to small number to test Or None for all records\n",
    "MAX_RECORDS_TO_LOAD = 1_000_000\n",
    "\n",
    "print(f\"JSON file path: {json_file_path}\")\n",
    "if MAX_RECORDS_TO_LOAD:\n",
    "    print(f\"Will attempt to load a maximum of {MAX_RECORDS_TO_LOAD} records for initial processing.\")\n",
    "else:\n",
    "    print(\"Will attempt to load all records from the file.\")"
   ]
  },
  {
   "cell_type": "code",
   "execution_count": null,
   "id": "516b14a4-1ba5-4328-acca-7464a9c78e55",
   "metadata": {},
   "outputs": [],
   "source": [
    "# Initialize lists to store extracted data\n",
    "review_ids_list = []\n",
    "user_ids_list = []\n",
    "business_ids_list = []\n",
    "dates_list = []\n",
    "texts_to_process_list = []\n",
    "stars_list = [] # Storing stars as well\n",
    "\n",
    "print(\"Starting data extraction from JSON Lines file...\")\n",
    "lines_processed = 0\n",
    "records_loaded = 0\n",
    "\n",
    "try:\n",
    "    with open(json_file_path, 'r', encoding='utf-8') as f:\n",
    "        for line in tqdm(f, desc=\"Reading lines\", unit=\"line\"):\n",
    "            lines_processed += 1\n",
    "            try:\n",
    "                record = json.loads(line) # Parse each line as a JSON object\n",
    "                \n",
    "                # Extract data if fields exist and text is a string\n",
    "                text_content = record.get(text_field)\n",
    "                if (record.get(review_id_field) and\n",
    "                    record.get(user_id_field) and\n",
    "                    record.get(business_id_field) and\n",
    "                    record.get(date_field) and\n",
    "                    text_content and isinstance(text_content, str)):\n",
    "                    \n",
    "                    review_ids_list.append(record[review_id_field])\n",
    "                    user_ids_list.append(record[user_id_field])\n",
    "                    business_ids_list.append(record[business_id_field])\n",
    "                    dates_list.append(record[date_field])\n",
    "                    texts_to_process_list.append(text_content)\n",
    "                    stars_list.append(record.get(stars_field)) # .get() is safer for optional fields\n",
    "                    \n",
    "                    records_loaded += 1\n",
    "                else:\n",
    "                    if lines_processed <= 100: # Print warnings only for the first few lines to avoid flooding output\n",
    "                        print(f\"Warning: Skipping record on line {lines_processed} due to missing fields or non-string text.\")\n",
    "                \n",
    "            except json.JSONDecodeError:\n",
    "                if lines_processed <= 100:\n",
    "                    print(f\"Warning: JSONDecodeError on line {lines_processed}. Skipping.\")\n",
    "            except Exception as e:\n",
    "                if lines_processed <= 100:\n",
    "                    print(f\"Warning: An unexpected error occurred processing line {lines_processed}: {e}. Skipping.\")\n",
    "\n",
    "            if MAX_RECORDS_TO_LOAD and records_loaded >= MAX_RECORDS_TO_LOAD:\n",
    "                print(f\"\\nReached MAX_RECORDS_TO_LOAD limit of {MAX_RECORDS_TO_LOAD}. Stopping data loading.\")\n",
    "                break\n",
    "                \n",
    "except FileNotFoundError:\n",
    "    print(f\"ERROR: File not found at {json_file_path}. Please check the path.\")\n",
    "except Exception as e:\n",
    "    print(f\"ERROR: An unexpected error occurred opening or reading the file: {e}\")\n",
    "\n",
    "print(f\"\\nFinished data extraction.\")\n",
    "print(f\"Total lines processed from file: {lines_processed}\")\n",
    "print(f\"Total valid records loaded: {records_loaded}\")\n",
    "\n",
    "if records_loaded > 0:\n",
    "    print(\"\\nSample of loaded data (first 3 records):\")\n",
    "    for i in range(min(3, records_loaded)):\n",
    "        print(f\"  Review ID: {review_ids_list[i]}, User ID: {user_ids_list[i]}, Business ID: {business_ids_list[i]}, Date: {dates_list[i]}, Stars: {stars_list[i]}, Text: {texts_to_process_list[i][:60]}...\")\n",
    "else:\n",
    "    print(\"No records were loaded. Please check your file, path, and MAX_RECORDS_TO_LOAD setting.\")"
   ]
  },
  {
   "cell_type": "code",
   "execution_count": null,
   "id": "4707d620-f134-4579-abd6-4c48eedf9d60",
   "metadata": {},
   "outputs": [],
   "source": [
    "if records_loaded > 0:\n",
    "    source_data_df = pd.DataFrame({\n",
    "        review_id_field: review_ids_list,\n",
    "        user_id_field: user_ids_list,\n",
    "        business_id_field: business_ids_list,\n",
    "        date_field: dates_list,\n",
    "        stars_field: stars_list,\n",
    "        text_field: texts_to_process_list\n",
    "    })\n",
    "    \n",
    "    print(\"\\nDataFrame created from loaded data:\")\n",
    "    print(f\"Shape of DataFrame: {source_data_df.shape}\")\n",
    "    print(\"\\nFirst 5 rows:\")\n",
    "    print(source_data_df.head())\n",
    "    print(\"\\nInfo:\")\n",
    "    source_data_df.info(memory_usage='deep') # memory_usage='deep' gives a more accurate size\n",
    "    \n",
    "    # Clear original lists to free up memory if DataFrame is successfully created\n",
    "    del review_ids_list, user_ids_list, business_ids_list, dates_list, texts_to_process_list, stars_list\n",
    "    gc.collect() # Invoke garbage collector\n",
    "    print(\"\\nOriginal lists cleared from memory.\")\n",
    "    \n",
    "else:\n",
    "    print(\"\\nNo data loaded, DataFrame not created.\")\n",
    "    source_data_df = pd.DataFrame() # Create an empty DataFrame"
   ]
  },
  {
   "cell_type": "code",
   "execution_count": null,
   "id": "9ad519a3-0ec6-425a-b6ef-8b31568c18ef",
   "metadata": {},
   "outputs": [],
   "source": [
    "def get_bert_embeddings_batched(texts, model, tokenizer, device, batch_size=16, desc=\"Embedding\"):\n",
    "    \"\"\"\n",
    "    Generates BERT embeddings for a list of texts in batches.\n",
    "    Uses pooler_output as the embedding for each text.\n",
    "    \"\"\"\n",
    "    model.eval()\n",
    "    all_pooler_embeddings = []\n",
    "    \n",
    "    # Wrap range with tqdm for a progress bar\n",
    "    for i in tqdm(range(0, len(texts), batch_size), desc=desc, unit=\"batch\"):\n",
    "        batch_texts = texts[i:i + batch_size]\n",
    "        \n",
    "        encoded_input = tokenizer(\n",
    "            batch_texts,\n",
    "            padding=True,\n",
    "            truncation=True,\n",
    "            max_length=512, # BERT's max sequence length\n",
    "            return_tensors='pt'\n",
    "        )\n",
    "        \n",
    "        encoded_input = {key: val.to(device) for key, val in encoded_input.items()}\n",
    "        \n",
    "        with torch.no_grad():\n",
    "            outputs = model(**encoded_input)\n",
    "        \n",
    "        batch_pooler_embeddings = outputs.pooler_output\n",
    "        all_pooler_embeddings.append(batch_pooler_embeddings.cpu()) # Move to CPU to save GPU RAM\n",
    "\n",
    "    return torch.cat(all_pooler_embeddings, dim=0)\n",
    "\n",
    "print(\"BERT embedding function defined.\")"
   ]
  },
  {
   "cell_type": "code",
   "execution_count": null,
   "id": "3c3e8cef-c5c3-4bae-81d4-6fcf9735c646",
   "metadata": {},
   "outputs": [],
   "source": [
    "EMBEDDING_BATCH_SIZE = 768\n",
    "\n",
    "if not source_data_df.empty:\n",
    "    print(f\"Preparing to generate embeddings for {len(source_data_df)} texts with batch size {EMBEDDING_BATCH_SIZE}...\")\n",
    "    \n",
    "    # Get the list of texts from the DataFrame\n",
    "    texts_for_embedding = source_data_df[text_field].tolist()\n",
    "    \n",
    "    # Generate embeddings\n",
    "    # This is the most time-consuming step for large datasets.\n",
    "    bert_embeddings_tensor = get_bert_embeddings_batched(\n",
    "        texts_for_embedding, \n",
    "        model, \n",
    "        tokenizer, \n",
    "        device, \n",
    "        batch_size=EMBEDDING_BATCH_SIZE,\n",
    "        desc=\"Generating Embeddings\"\n",
    "    )\n",
    "    \n",
    "    print(f\"\\nEmbedding generation complete.\")\n",
    "    print(f\"Shape of BERT embeddings tensor: {bert_embeddings_tensor.shape}\") # Should be (num_texts, 768)\n",
    "\n",
    "    # Optional: Clear the list of texts if memory is very tight, once embeddings are generated\n",
    "    # del texts_for_embedding\n",
    "    # gc.collect()\n",
    "\n",
    "else:\n",
    "    print(\"Source DataFrame is empty. Skipping embedding generation.\")\n",
    "    bert_embeddings_tensor = None"
   ]
  },
  {
   "cell_type": "code",
   "execution_count": null,
   "id": "ef2bac38-b1a3-421d-ba40-601c19b29bce",
   "metadata": {},
   "outputs": [],
   "source": [
    "if bert_embeddings_tensor is not None and not source_data_df.empty:\n",
    "    if len(source_data_df) == bert_embeddings_tensor.shape[0]:\n",
    "        print(\"Adding embeddings to the DataFrame...\")\n",
    "        \n",
    "        # Convert tensor to a list of lists/arrays for easier DataFrame storage\n",
    "        embeddings_list = [emb.tolist() for emb in bert_embeddings_tensor]\n",
    "        \n",
    "        # Assign as a new column\n",
    "        # Make a copy to avoid SettingWithCopyWarning if source_data_df is a slice from a larger df (not the case here but good practice)\n",
    "        final_df = source_data_df.copy()\n",
    "        final_df['embedding'] = embeddings_list\n",
    "        \n",
    "        print(\"\\nFinal DataFrame with embeddings (first 5 rows):\")\n",
    "        print(final_df.head())\n",
    "        print(f\"\\nShape of final DataFrame: {final_df.shape}\")\n",
    "        print(\"\\nInfo for final DataFrame:\")\n",
    "        final_df.info(memory_usage='deep')\n",
    "\n",
    "        # We can now remove the bert_embeddings_tensor and embeddings_list if RAM is a concern\n",
    "        # del bert_embeddings_tensor, embeddings_list\n",
    "        # gc.collect()\n",
    "    else:\n",
    "        print(\"ERROR: Mismatch in the number of records and embeddings. Cannot combine.\")\n",
    "        final_df = pd.DataFrame() # Assign empty df\n",
    "else:\n",
    "    print(\"No embeddings generated or source DataFrame is empty. Final DataFrame not created.\")\n",
    "    final_df = pd.DataFrame() # Assign empty df"
   ]
  },
  {
   "cell_type": "code",
   "execution_count": null,
   "id": "f79bd943-a7a4-4491-957a-a37d2f772752",
   "metadata": {},
   "outputs": [],
   "source": [
    "if not final_df.empty:\n",
    "    # Define the columns you want in your final CSV output\n",
    "    columns_to_save = [\n",
    "        review_id_field,\n",
    "        user_id_field,\n",
    "        business_id_field,\n",
    "        date_field,\n",
    "        stars_field,\n",
    "        'embedding'\n",
    "    ]\n",
    "    \n",
    "    # Check if all desired columns exist in final_df\n",
    "    missing_cols = [col for col in columns_to_save if col not in final_df.columns]\n",
    "    if missing_cols:\n",
    "        print(f\"ERROR: The following requested columns are missing from final_df: {missing_cols}\")\n",
    "        print(f\"Available columns in final_df are: {final_df.columns.tolist()}\")\n",
    "        print(\"Cannot save CSV with specified headers. Please check column names and previous cells.\")\n",
    "    else:\n",
    "        # Create a DataFrame with only the specified columns in the desired order\n",
    "        df_for_csv = final_df[columns_to_save]\n",
    "\n",
    "        # Define output file path for CSV\n",
    "        # MAX_RECORDS_TO_LOAD is from your Cell 4 configuration\n",
    "        csv_file_name = f\"processed_reviews_embeddings_{MAX_RECORDS_TO_LOAD if MAX_RECORDS_TO_LOAD else 'all'}.csv\"\n",
    "        output_csv_path = f\"/home/jovyan/work/{csv_file_name}\" # Ensure /home/jovyan/work/ is writable\n",
    "        \n",
    "        print(f\"\\nSaving selected columns to CSV: {output_csv_path}\")\n",
    "        try:\n",
    "            # Save to CSV, without the DataFrame index\n",
    "            df_for_csv.to_csv(output_csv_path, index=False)\n",
    "            print(f\"Successfully saved data to CSV: {output_csv_path}\")\n",
    "            print(\"\\nFirst 5 rows of the CSV file (as a DataFrame) would look like:\")\n",
    "            print(df_for_csv.head())\n",
    "        except Exception as e:\n",
    "            print(f\"ERROR saving to CSV: {e}\")\n",
    "else:\n",
    "    print(\"Final DataFrame is empty. Nothing to save.\")"
   ]
  }
 ],
 "metadata": {
  "kernelspec": {
   "display_name": "Python 3 (ipykernel)",
   "language": "python",
   "name": "python3"
  },
  "language_info": {
   "codemirror_mode": {
    "name": "ipython",
    "version": 3
   },
   "file_extension": ".py",
   "mimetype": "text/x-python",
   "name": "python",
   "nbconvert_exporter": "python",
   "pygments_lexer": "ipython3",
   "version": "3.12.8"
  }
 },
 "nbformat": 4,
 "nbformat_minor": 5
}
