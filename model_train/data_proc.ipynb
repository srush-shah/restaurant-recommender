{
 "cells": [
  {
   "cell_type": "code",
   "execution_count": 1,
   "id": "bc5a42c6-33e4-4f40-b500-98669fe96f91",
   "metadata": {},
   "outputs": [],
   "source": [
    "from pyspark.sql import SparkSession\n",
    "from pyspark.sql.functions import monotonically_increasing_id, col"
   ]
  },
  {
   "cell_type": "code",
   "execution_count": 2,
   "id": "2e4f2af4-a529-42ec-880b-b7e405ef77d9",
   "metadata": {},
   "outputs": [
    {
     "name": "stdout",
     "output_type": "stream",
     "text": [
      "Spark Session created successfully\n"
     ]
    }
   ],
   "source": [
    "spark = (\n",
    "    SparkSession.builder \n",
    "    .appName(\"ALSDataPrep\") \n",
    "    .master(\"local[*]\")  # Run Spark locally on all available cores within the container\n",
    "    .config(\"spark.driver.memory\", \"4g\")  # Adjust driver memory if needed\n",
    "    .config(\"spark.executor.memory\", \"4g\") # Adjust executor memory if needed\n",
    "    .config(\"spark.sql.shuffle.partitions\", \"200\") # Adjust shuffle partitions if needed\n",
    "    .getOrCreate()\n",
    ")\n",
    "\n",
    "print(\"Spark Session created successfully\")"
   ]
  },
  {
   "cell_type": "code",
   "execution_count": 3,
   "id": "339e5a09-2641-4e52-9a6e-af4fec4a1158",
   "metadata": {},
   "outputs": [
    {
     "name": "stdout",
     "output_type": "stream",
     "text": [
      "Data loaded successfully\n",
      "root\n",
      " |-- user_id: string (nullable = true)\n",
      " |-- business_id: string (nullable = true)\n",
      " |-- stars: integer (nullable = true)\n",
      " |-- date: timestamp (nullable = true)\n",
      " |-- city: string (nullable = true)\n",
      "\n",
      "+--------------------+--------------------+-----+-------------------+------------+\n",
      "|             user_id|         business_id|stars|               date|        city|\n",
      "+--------------------+--------------------+-----+-------------------+------------+\n",
      "|bu1mtWwxuayzV6b3V...|UnQriKTiNsYnyPE3R...|    3|2014-04-23 18:33:20| New Orleans|\n",
      "|RqqG8mtD0pqhkKQks...|Ns8vJxhsc5ygiX7Vf...|    5|2016-06-18 15:40:31|   Nashville|\n",
      "|x1GKrdGbQjaW1dcFB...|UFCN0bYdHroPKu6KV...|    5|2019-10-04 17:45:11|Indianapolis|\n",
      "|suRoi6fJjOSdzBMWz...|p1257iwsyKj00D_14...|    3|2011-04-12 15:44:07|Philadelphia|\n",
      "|UD7ZLOi6yY8K5Hi4L...|E8aDjN4OzvY4BZ4NJ...|    3|2017-04-25 11:20:06|Indianapolis|\n",
      "+--------------------+--------------------+-----+-------------------+------------+\n",
      "only showing top 5 rows\n",
      "\n"
     ]
    }
   ],
   "source": [
    "file_path = \"yelp_train.csv\"\n",
    "df = spark.read.csv(file_path, header=True, inferSchema=True)\n",
    "\n",
    "print(\"Data loaded successfully\")\n",
    "df.printSchema()\n",
    "df.show(5)"
   ]
  },
  {
   "cell_type": "code",
   "execution_count": 4,
   "id": "baf0e7af-dd30-4c0d-bf30-21c783eab65a",
   "metadata": {},
   "outputs": [
    {
     "name": "stdout",
     "output_type": "stream",
     "text": [
      "root\n",
      " |-- userCol: integer (nullable = false)\n",
      " |-- itemCol: integer (nullable = false)\n",
      " |-- ratingCol: float (nullable = true)\n",
      "\n",
      "+-------+-------+---------+\n",
      "|userCol|itemCol|ratingCol|\n",
      "+-------+-------+---------+\n",
      "|    615|     65|      5.0|\n",
      "|    411|     65|      2.0|\n",
      "|    411|     65|      3.0|\n",
      "|   2083|     65|      4.0|\n",
      "|   1330|     65|      5.0|\n",
      "+-------+-------+---------+\n",
      "only showing top 5 rows\n",
      "\n"
     ]
    }
   ],
   "source": [
    "user_id_mapping = df.select(\"user_id\").distinct().withColumn(\"userCol\", monotonically_increasing_id())\n",
    "business_id_mapping = df.select(\"business_id\").distinct().withColumn(\"itemCol\", monotonically_increasing_id())\n",
    "\n",
    "als_input_df = df.join(user_id_mapping, \"user_id\", \"inner\").drop(\"user_id\")\n",
    "als_input_df = als_input_df.join(business_id_mapping, \"business_id\", \"inner\").drop(\"business_id\")\n",
    "\n",
    "als_input_df = als_input_df.select(\n",
    "    col(\"userCol\").cast(\"int\"),\n",
    "    col(\"itemCol\").cast(\"int\"),\n",
    "    col(\"stars\").cast(\"float\").alias(\"ratingCol\")\n",
    ")\n",
    "\n",
    "als_input_df.printSchema()\n",
    "als_input_df.show(5)"
   ]
  },
  {
   "cell_type": "code",
   "execution_count": 5,
   "id": "cbfa4543-6afb-4c14-9c4a-a6751fa09f40",
   "metadata": {},
   "outputs": [
    {
     "name": "stdout",
     "output_type": "stream",
     "text": [
      "User ID mapping saved to: /home/jovyan/work/id_mappings/user_id_mapping\n",
      "Business ID mapping saved to: /home/jovyan/work/id_mappings/business_id_mapping\n"
     ]
    }
   ],
   "source": [
    "# Persist the mappings\n",
    "output_path_user = \"/home/jovyan/work/id_mappings/user_id_mapping\"\n",
    "user_id_mapping.write.mode(\"overwrite\").parquet(output_path_user)\n",
    "print(f\"User ID mapping saved to: {output_path_user}\")\n",
    "\n",
    "output_path_business = \"/home/jovyan/work/id_mappings/business_id_mapping\"\n",
    "business_id_mapping.write.mode(\"overwrite\").parquet(output_path_business)\n",
    "print(f\"Business ID mapping saved to: {output_path_business}\")"
   ]
  }
 ],
 "metadata": {
  "kernelspec": {
   "display_name": "Python 3 (ipykernel)",
   "language": "python",
   "name": "python3"
  },
  "language_info": {
   "codemirror_mode": {
    "name": "ipython",
    "version": 3
   },
   "file_extension": ".py",
   "mimetype": "text/x-python",
   "name": "python",
   "nbconvert_exporter": "python",
   "pygments_lexer": "ipython3",
   "version": "3.11.6"
  }
 },
 "nbformat": 4,
 "nbformat_minor": 5
}
