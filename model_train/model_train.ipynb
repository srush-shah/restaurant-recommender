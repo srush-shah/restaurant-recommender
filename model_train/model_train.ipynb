{
 "cells": [
  {
   "cell_type": "code",
   "execution_count": 6,
   "id": "10f7eff0-3d8c-4070-8426-1ef170d09c49",
   "metadata": {},
   "outputs": [],
   "source": [
    "from pyspark.sql import SparkSession\n",
    "from pyspark.sql.functions import col\n",
    "from pyspark.ml.recommendation import ALS"
   ]
  },
  {
   "cell_type": "code",
   "execution_count": 3,
   "id": "fdbb520f-1b70-46b9-aaa2-4467114fa335",
   "metadata": {},
   "outputs": [
    {
     "name": "stdout",
     "output_type": "stream",
     "text": [
      "Spark Session created for training\n"
     ]
    }
   ],
   "source": [
    "spark = (\n",
    "    SparkSession.builder \n",
    "    .appName(\"ALSTraining\") \n",
    "    .master(\"local[*]\")  # Adjust as needed for your environment\n",
    "    .config(\"spark.driver.memory\", \"4g\")  # Adjust as needed\n",
    "    .config(\"spark.executor.memory\", \"4g\") # Adjust as needed\n",
    "    .config(\"spark.sql.shuffle.partitions\", \"200\") # Adjust as needed\n",
    "    .getOrCreate()\n",
    ")\n",
    "\n",
    "print(\"Spark Session created for training\")"
   ]
  },
  {
   "cell_type": "code",
   "execution_count": 4,
   "id": "2cfff682-1511-416b-976b-cb7e9c727ea8",
   "metadata": {},
   "outputs": [
    {
     "name": "stdout",
     "output_type": "stream",
     "text": [
      "+--------------------+------------+\n",
      "|             user_id|     userCol|\n",
      "+--------------------+------------+\n",
      "|FCZKqerr3-dq9SXG6...|558345748480|\n",
      "|CIFrgKgUrr6xyigd1...|558345748481|\n",
      "|1e0y0vUJiEU2l2U5Z...|558345748482|\n",
      "|KvcNVhNrnIYEEQtR6...|558345748483|\n",
      "|Q5kovyJgHn6_rTy4X...|558345748484|\n",
      "+--------------------+------------+\n",
      "only showing top 5 rows\n",
      "\n",
      "+--------------------+------------+\n",
      "|         business_id|     itemCol|\n",
      "+--------------------+------------+\n",
      "|aH3xlewNKQk5K4mEk...|300647710720|\n",
      "|-q4YqKsWJY6NtkQdn...|300647710721|\n",
      "|cv-SmPhbpwQCtlI2Q...|300647710722|\n",
      "|wIXYreqGaO5AEVjNQ...|300647710723|\n",
      "|6d25hRt6Hz4SPc9Ih...|300647710724|\n",
      "+--------------------+------------+\n",
      "only showing top 5 rows\n",
      "\n",
      "ID mappings loaded successfully\n"
     ]
    }
   ],
   "source": [
    "user_id_mapping_path = \"/home/jovyan/work/id_mappings/user_id_mapping\"\n",
    "user_id_mapping_loaded = spark.read.parquet(user_id_mapping_path)\n",
    "user_id_mapping_loaded.show(5)\n",
    "\n",
    "business_id_mapping_path = \"/home/jovyan/work/id_mappings/business_id_mapping\"\n",
    "business_id_mapping_loaded = spark.read.parquet(business_id_mapping_path)\n",
    "business_id_mapping_loaded.show(5)\n",
    "\n",
    "print(\"ID mappings loaded successfully\")"
   ]
  },
  {
   "cell_type": "code",
   "execution_count": 5,
   "id": "d6e9f09a-d20b-44d5-90e5-2b04381ba60c",
   "metadata": {},
   "outputs": [
    {
     "name": "stdout",
     "output_type": "stream",
     "text": [
      "root\n",
      " |-- userCol: integer (nullable = true)\n",
      " |-- itemCol: integer (nullable = true)\n",
      " |-- rating: float (nullable = true)\n",
      "\n",
      "+-------+-------+------+\n",
      "|userCol|itemCol|rating|\n",
      "+-------+-------+------+\n",
      "|  13125|    261|   1.0|\n",
      "|  13387|    282|   5.0|\n",
      "|   9030|    119|   4.0|\n",
      "|  15762|    393|   5.0|\n",
      "|  12526|    406|   1.0|\n",
      "+-------+-------+------+\n",
      "only showing top 5 rows\n",
      "\n",
      "ALS input data loaded and prepared\n"
     ]
    }
   ],
   "source": [
    "file_path = \"yelp_train.csv\"  # Replace with the actual path to your data\n",
    "df = spark.read.csv(file_path, header=True, inferSchema=True)\n",
    "\n",
    "als_input_df_loaded = df.join(user_id_mapping_loaded, \"user_id\", \"inner\").drop(\"user_id\")\n",
    "als_input_df_loaded = als_input_df_loaded.join(business_id_mapping_loaded, \"business_id\", \"inner\").drop(\"business_id\")\n",
    "\n",
    "als_input_df_loaded = als_input_df_loaded.select(\n",
    "    col(\"userCol\").cast(\"int\"),\n",
    "    col(\"itemCol\").cast(\"int\"),\n",
    "    col(\"stars\").cast(\"float\").alias(\"rating\") # ALS expects 'rating' column\n",
    ")\n",
    "\n",
    "als_input_df_loaded.printSchema()\n",
    "als_input_df_loaded.show(5)\n",
    "\n",
    "print(\"ALS input data loaded and prepared\")"
   ]
  },
  {
   "cell_type": "code",
   "execution_count": 7,
   "id": "e698462c-1d92-4da9-85cb-b9471f7069a7",
   "metadata": {},
   "outputs": [
    {
     "name": "stdout",
     "output_type": "stream",
     "text": [
      "ALS model trained successfully\n"
     ]
    }
   ],
   "source": [
    "als = ALS(userCol=\"userCol\",\n",
    "          itemCol=\"itemCol\",\n",
    "          ratingCol=\"rating\",\n",
    "          rank=10,          # Number of latent factors\n",
    "          maxIter=10,       # Maximum number of iterations\n",
    "          regParam=0.01,    # Regularization parameter\n",
    "          coldStartStrategy=\"drop\") # Handle new users/items\n",
    "\n",
    "# Train the model\n",
    "model = als.fit(als_input_df_loaded)\n",
    "\n",
    "print(\"ALS model trained successfully\")"
   ]
  },
  {
   "cell_type": "code",
   "execution_count": 10,
   "id": "433168a9-dcf3-4291-ac6d-3985f5a27343",
   "metadata": {},
   "outputs": [
    {
     "name": "stdout",
     "output_type": "stream",
     "text": [
      "+-------+--------------------+--------------------+\n",
      "|userCol|            features|             user_id|\n",
      "+-------+--------------------+--------------------+\n",
      "|     26|[-1.1553166, 0.45...|HB8tVmNjWaa_18nWW...|\n",
      "|     29|[-0.8118293, 0.50...|cNoBKr08_gQgYW0Kc...|\n",
      "|    474|[-1.1891398, 0.38...|IZaWH5nva6mXn_MVx...|\n",
      "|    964|[-1.4100026, 0.27...|DLAdQTxg2jMH-bGWZ...|\n",
      "|   1677|[-1.3440387, 0.34...|YuR6Z0uhC1I_e6t7U...|\n",
      "+-------+--------------------+--------------------+\n",
      "only showing top 5 rows\n",
      "\n",
      "+-------+--------------------+--------------------+\n",
      "|itemCol|            features|         business_id|\n",
      "+-------+--------------------+--------------------+\n",
      "|      0|[-0.13696466, 0.0...|NLV0ppsHTiJk6JVdF...|\n",
      "|     10|[0.053821385, 0.3...|VdB1YL718sAxae12P...|\n",
      "|     20|[-0.38813618, -0....|YlAI0sW0bsVsvErTn...|\n",
      "|     30|[-8.9343965E-5, -...|7hRaOnXRRS8q620F6...|\n",
      "|     40|[-0.1328803, -0.0...|TF3qNGUBUgIYp6u0j...|\n",
      "+-------+--------------------+--------------------+\n",
      "only showing top 5 rows\n",
      "\n"
     ]
    }
   ],
   "source": [
    "# Get user latent factors with original user IDs\n",
    "user_latent_vectors = model.userFactors.withColumnRenamed(\"id\", \"userCol\").join(user_id_mapping_loaded, \"userCol\", \"inner\")\n",
    "user_latent_vectors.show(5)\n",
    "\n",
    "# Get item latent factors with original business IDs\n",
    "item_latent_vectors = model.itemFactors.withColumnRenamed(\"id\", \"itemCol\").join(business_id_mapping_loaded, \"itemCol\", \"inner\")\n",
    "item_latent_vectors.show(5)"
   ]
  }
 ],
 "metadata": {
  "kernelspec": {
   "display_name": "Python 3 (ipykernel)",
   "language": "python",
   "name": "python3"
  },
  "language_info": {
   "codemirror_mode": {
    "name": "ipython",
    "version": 3
   },
   "file_extension": ".py",
   "mimetype": "text/x-python",
   "name": "python",
   "nbconvert_exporter": "python",
   "pygments_lexer": "ipython3",
   "version": "3.11.6"
  }
 },
 "nbformat": 4,
 "nbformat_minor": 5
}
